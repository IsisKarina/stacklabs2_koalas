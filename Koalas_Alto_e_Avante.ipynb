{
  "cells": [
    {
      "cell_type": "code",
      "execution_count": null,
      "id": "cfc9bbe7",
      "metadata": {
        "id": "cfc9bbe7",
        "outputId": "205aff36-a3e1-40d3-8d70-cefdcb93605e",
        "colab": {
          "base_uri": "https://localhost:8080/"
        }
      },
      "outputs": [
        {
          "output_type": "stream",
          "name": "stdout",
          "text": [
            "Requirement already satisfied: sweetviz in /usr/local/lib/python3.7/dist-packages (2.1.3)\n",
            "Requirement already satisfied: numpy>=1.16.0 in /usr/local/lib/python3.7/dist-packages (from sweetviz) (1.21.5)\n",
            "Requirement already satisfied: importlib-resources>=1.2.0 in /usr/local/lib/python3.7/dist-packages (from sweetviz) (5.4.0)\n",
            "Requirement already satisfied: jinja2>=2.11.1 in /usr/local/lib/python3.7/dist-packages (from sweetviz) (2.11.3)\n",
            "Requirement already satisfied: tqdm>=4.43.0 in /usr/local/lib/python3.7/dist-packages (from sweetviz) (4.63.0)\n",
            "Requirement already satisfied: matplotlib>=3.1.3 in /usr/local/lib/python3.7/dist-packages (from sweetviz) (3.2.2)\n",
            "Requirement already satisfied: scipy>=1.3.2 in /usr/local/lib/python3.7/dist-packages (from sweetviz) (1.4.1)\n",
            "Requirement already satisfied: pandas!=1.0.0,!=1.0.1,!=1.0.2,>=0.25.3 in /usr/local/lib/python3.7/dist-packages (from sweetviz) (1.3.5)\n",
            "Requirement already satisfied: zipp>=3.1.0 in /usr/local/lib/python3.7/dist-packages (from importlib-resources>=1.2.0->sweetviz) (3.7.0)\n",
            "Requirement already satisfied: MarkupSafe>=0.23 in /usr/local/lib/python3.7/dist-packages (from jinja2>=2.11.1->sweetviz) (2.0.1)\n",
            "Requirement already satisfied: python-dateutil>=2.1 in /usr/local/lib/python3.7/dist-packages (from matplotlib>=3.1.3->sweetviz) (2.8.2)\n",
            "Requirement already satisfied: kiwisolver>=1.0.1 in /usr/local/lib/python3.7/dist-packages (from matplotlib>=3.1.3->sweetviz) (1.3.2)\n",
            "Requirement already satisfied: pyparsing!=2.0.4,!=2.1.2,!=2.1.6,>=2.0.1 in /usr/local/lib/python3.7/dist-packages (from matplotlib>=3.1.3->sweetviz) (3.0.7)\n",
            "Requirement already satisfied: cycler>=0.10 in /usr/local/lib/python3.7/dist-packages (from matplotlib>=3.1.3->sweetviz) (0.11.0)\n",
            "Requirement already satisfied: pytz>=2017.3 in /usr/local/lib/python3.7/dist-packages (from pandas!=1.0.0,!=1.0.1,!=1.0.2,>=0.25.3->sweetviz) (2018.9)\n",
            "Requirement already satisfied: six>=1.5 in /usr/local/lib/python3.7/dist-packages (from python-dateutil>=2.1->matplotlib>=3.1.3->sweetviz) (1.15.0)\n"
          ]
        }
      ],
      "source": [
        "!pip install sweetviz"
      ]
    },
    {
      "cell_type": "markdown",
      "source": [
        "# Preparando o drive e o arquivo"
      ],
      "metadata": {
        "id": "LWIsNJI-68AB"
      },
      "id": "LWIsNJI-68AB"
    },
    {
      "cell_type": "code",
      "execution_count": 1,
      "id": "58d9de9e",
      "metadata": {
        "id": "58d9de9e"
      },
      "outputs": [],
      "source": [
        "#import libs\n",
        "import pandas as pd\n",
        "import numpy as np\n",
        "import seaborn as sns\n",
        "import matplotlib.pyplot as plt\n",
        "#import sweetviz as sv"
      ]
    },
    {
      "cell_type": "code",
      "source": [
        "from google.colab import drive\n",
        "drive.mount('/content/drive')"
      ],
      "metadata": {
        "colab": {
          "base_uri": "https://localhost:8080/"
        },
        "id": "4lJP2zFe7C3s",
        "outputId": "195e7d0f-9b86-46e7-ee7e-1d333863f929"
      },
      "id": "4lJP2zFe7C3s",
      "execution_count": 3,
      "outputs": [
        {
          "output_type": "stream",
          "name": "stdout",
          "text": [
            "Mounted at /content/drive\n"
          ]
        }
      ]
    },
    {
      "cell_type": "code",
      "source": [
        "df= pd.read_csv(\"/content/drive/MyDrive/Colab Notebooks/Stack/train.csv\")\n",
        "df.head()"
      ],
      "metadata": {
        "colab": {
          "base_uri": "https://localhost:8080/",
          "height": 270
        },
        "id": "jbq249Xl7A50",
        "outputId": "d60f5431-cf82-419e-8c22-b263833f91e7"
      },
      "id": "jbq249Xl7A50",
      "execution_count": 129,
      "outputs": [
        {
          "output_type": "execute_result",
          "data": {
            "text/plain": [
              "   id  Gender  Age  Driving_License  Region_Code  Previously_Insured  \\\n",
              "0   1    Male   44                1         28.0                   0   \n",
              "1   2    Male   76                1          3.0                   0   \n",
              "2   3    Male   47                1         28.0                   0   \n",
              "3   4    Male   21                1         11.0                   1   \n",
              "4   5  Female   29                1         41.0                   1   \n",
              "\n",
              "  Vehicle_Age Vehicle_Damage  Annual_Premium  Policy_Sales_Channel  Vintage  \\\n",
              "0   > 2 Years            Yes         40454.0                  26.0      217   \n",
              "1    1-2 Year             No         33536.0                  26.0      183   \n",
              "2   > 2 Years            Yes         38294.0                  26.0       27   \n",
              "3    < 1 Year             No         28619.0                 152.0      203   \n",
              "4    < 1 Year             No         27496.0                 152.0       39   \n",
              "\n",
              "   Response  \n",
              "0         1  \n",
              "1         0  \n",
              "2         1  \n",
              "3         0  \n",
              "4         0  "
            ],
            "text/html": [
              "\n",
              "  <div id=\"df-ef8c7310-4447-4783-91fb-06bfd201db4e\">\n",
              "    <div class=\"colab-df-container\">\n",
              "      <div>\n",
              "<style scoped>\n",
              "    .dataframe tbody tr th:only-of-type {\n",
              "        vertical-align: middle;\n",
              "    }\n",
              "\n",
              "    .dataframe tbody tr th {\n",
              "        vertical-align: top;\n",
              "    }\n",
              "\n",
              "    .dataframe thead th {\n",
              "        text-align: right;\n",
              "    }\n",
              "</style>\n",
              "<table border=\"1\" class=\"dataframe\">\n",
              "  <thead>\n",
              "    <tr style=\"text-align: right;\">\n",
              "      <th></th>\n",
              "      <th>id</th>\n",
              "      <th>Gender</th>\n",
              "      <th>Age</th>\n",
              "      <th>Driving_License</th>\n",
              "      <th>Region_Code</th>\n",
              "      <th>Previously_Insured</th>\n",
              "      <th>Vehicle_Age</th>\n",
              "      <th>Vehicle_Damage</th>\n",
              "      <th>Annual_Premium</th>\n",
              "      <th>Policy_Sales_Channel</th>\n",
              "      <th>Vintage</th>\n",
              "      <th>Response</th>\n",
              "    </tr>\n",
              "  </thead>\n",
              "  <tbody>\n",
              "    <tr>\n",
              "      <th>0</th>\n",
              "      <td>1</td>\n",
              "      <td>Male</td>\n",
              "      <td>44</td>\n",
              "      <td>1</td>\n",
              "      <td>28.0</td>\n",
              "      <td>0</td>\n",
              "      <td>&gt; 2 Years</td>\n",
              "      <td>Yes</td>\n",
              "      <td>40454.0</td>\n",
              "      <td>26.0</td>\n",
              "      <td>217</td>\n",
              "      <td>1</td>\n",
              "    </tr>\n",
              "    <tr>\n",
              "      <th>1</th>\n",
              "      <td>2</td>\n",
              "      <td>Male</td>\n",
              "      <td>76</td>\n",
              "      <td>1</td>\n",
              "      <td>3.0</td>\n",
              "      <td>0</td>\n",
              "      <td>1-2 Year</td>\n",
              "      <td>No</td>\n",
              "      <td>33536.0</td>\n",
              "      <td>26.0</td>\n",
              "      <td>183</td>\n",
              "      <td>0</td>\n",
              "    </tr>\n",
              "    <tr>\n",
              "      <th>2</th>\n",
              "      <td>3</td>\n",
              "      <td>Male</td>\n",
              "      <td>47</td>\n",
              "      <td>1</td>\n",
              "      <td>28.0</td>\n",
              "      <td>0</td>\n",
              "      <td>&gt; 2 Years</td>\n",
              "      <td>Yes</td>\n",
              "      <td>38294.0</td>\n",
              "      <td>26.0</td>\n",
              "      <td>27</td>\n",
              "      <td>1</td>\n",
              "    </tr>\n",
              "    <tr>\n",
              "      <th>3</th>\n",
              "      <td>4</td>\n",
              "      <td>Male</td>\n",
              "      <td>21</td>\n",
              "      <td>1</td>\n",
              "      <td>11.0</td>\n",
              "      <td>1</td>\n",
              "      <td>&lt; 1 Year</td>\n",
              "      <td>No</td>\n",
              "      <td>28619.0</td>\n",
              "      <td>152.0</td>\n",
              "      <td>203</td>\n",
              "      <td>0</td>\n",
              "    </tr>\n",
              "    <tr>\n",
              "      <th>4</th>\n",
              "      <td>5</td>\n",
              "      <td>Female</td>\n",
              "      <td>29</td>\n",
              "      <td>1</td>\n",
              "      <td>41.0</td>\n",
              "      <td>1</td>\n",
              "      <td>&lt; 1 Year</td>\n",
              "      <td>No</td>\n",
              "      <td>27496.0</td>\n",
              "      <td>152.0</td>\n",
              "      <td>39</td>\n",
              "      <td>0</td>\n",
              "    </tr>\n",
              "  </tbody>\n",
              "</table>\n",
              "</div>\n",
              "      <button class=\"colab-df-convert\" onclick=\"convertToInteractive('df-ef8c7310-4447-4783-91fb-06bfd201db4e')\"\n",
              "              title=\"Convert this dataframe to an interactive table.\"\n",
              "              style=\"display:none;\">\n",
              "        \n",
              "  <svg xmlns=\"http://www.w3.org/2000/svg\" height=\"24px\"viewBox=\"0 0 24 24\"\n",
              "       width=\"24px\">\n",
              "    <path d=\"M0 0h24v24H0V0z\" fill=\"none\"/>\n",
              "    <path d=\"M18.56 5.44l.94 2.06.94-2.06 2.06-.94-2.06-.94-.94-2.06-.94 2.06-2.06.94zm-11 1L8.5 8.5l.94-2.06 2.06-.94-2.06-.94L8.5 2.5l-.94 2.06-2.06.94zm10 10l.94 2.06.94-2.06 2.06-.94-2.06-.94-.94-2.06-.94 2.06-2.06.94z\"/><path d=\"M17.41 7.96l-1.37-1.37c-.4-.4-.92-.59-1.43-.59-.52 0-1.04.2-1.43.59L10.3 9.45l-7.72 7.72c-.78.78-.78 2.05 0 2.83L4 21.41c.39.39.9.59 1.41.59.51 0 1.02-.2 1.41-.59l7.78-7.78 2.81-2.81c.8-.78.8-2.07 0-2.86zM5.41 20L4 18.59l7.72-7.72 1.47 1.35L5.41 20z\"/>\n",
              "  </svg>\n",
              "      </button>\n",
              "      \n",
              "  <style>\n",
              "    .colab-df-container {\n",
              "      display:flex;\n",
              "      flex-wrap:wrap;\n",
              "      gap: 12px;\n",
              "    }\n",
              "\n",
              "    .colab-df-convert {\n",
              "      background-color: #E8F0FE;\n",
              "      border: none;\n",
              "      border-radius: 50%;\n",
              "      cursor: pointer;\n",
              "      display: none;\n",
              "      fill: #1967D2;\n",
              "      height: 32px;\n",
              "      padding: 0 0 0 0;\n",
              "      width: 32px;\n",
              "    }\n",
              "\n",
              "    .colab-df-convert:hover {\n",
              "      background-color: #E2EBFA;\n",
              "      box-shadow: 0px 1px 2px rgba(60, 64, 67, 0.3), 0px 1px 3px 1px rgba(60, 64, 67, 0.15);\n",
              "      fill: #174EA6;\n",
              "    }\n",
              "\n",
              "    [theme=dark] .colab-df-convert {\n",
              "      background-color: #3B4455;\n",
              "      fill: #D2E3FC;\n",
              "    }\n",
              "\n",
              "    [theme=dark] .colab-df-convert:hover {\n",
              "      background-color: #434B5C;\n",
              "      box-shadow: 0px 1px 3px 1px rgba(0, 0, 0, 0.15);\n",
              "      filter: drop-shadow(0px 1px 2px rgba(0, 0, 0, 0.3));\n",
              "      fill: #FFFFFF;\n",
              "    }\n",
              "  </style>\n",
              "\n",
              "      <script>\n",
              "        const buttonEl =\n",
              "          document.querySelector('#df-ef8c7310-4447-4783-91fb-06bfd201db4e button.colab-df-convert');\n",
              "        buttonEl.style.display =\n",
              "          google.colab.kernel.accessAllowed ? 'block' : 'none';\n",
              "\n",
              "        async function convertToInteractive(key) {\n",
              "          const element = document.querySelector('#df-ef8c7310-4447-4783-91fb-06bfd201db4e');\n",
              "          const dataTable =\n",
              "            await google.colab.kernel.invokeFunction('convertToInteractive',\n",
              "                                                     [key], {});\n",
              "          if (!dataTable) return;\n",
              "\n",
              "          const docLinkHtml = 'Like what you see? Visit the ' +\n",
              "            '<a target=\"_blank\" href=https://colab.research.google.com/notebooks/data_table.ipynb>data table notebook</a>'\n",
              "            + ' to learn more about interactive tables.';\n",
              "          element.innerHTML = '';\n",
              "          dataTable['output_type'] = 'display_data';\n",
              "          await google.colab.output.renderOutput(dataTable, element);\n",
              "          const docLink = document.createElement('div');\n",
              "          docLink.innerHTML = docLinkHtml;\n",
              "          element.appendChild(docLink);\n",
              "        }\n",
              "      </script>\n",
              "    </div>\n",
              "  </div>\n",
              "  "
            ]
          },
          "metadata": {},
          "execution_count": 129
        }
      ]
    },
    {
      "cell_type": "markdown",
      "id": "66881cff",
      "metadata": {
        "id": "66881cff"
      },
      "source": [
        "# EDA"
      ]
    },
    {
      "cell_type": "code",
      "execution_count": null,
      "id": "e646b897",
      "metadata": {
        "id": "e646b897",
        "outputId": "53a3b017-50d6-42d5-cea0-2aced67e58c6",
        "colab": {
          "base_uri": "https://localhost:8080/"
        }
      },
      "outputs": [
        {
          "output_type": "stream",
          "name": "stdout",
          "text": [
            "<class 'pandas.core.frame.DataFrame'>\n",
            "RangeIndex: 381109 entries, 0 to 381108\n",
            "Data columns (total 12 columns):\n",
            " #   Column                Non-Null Count   Dtype  \n",
            "---  ------                --------------   -----  \n",
            " 0   id                    381109 non-null  int64  \n",
            " 1   Gender                381109 non-null  object \n",
            " 2   Age                   381109 non-null  int64  \n",
            " 3   Driving_License       381109 non-null  int64  \n",
            " 4   Region_Code           381109 non-null  float64\n",
            " 5   Previously_Insured    381109 non-null  int64  \n",
            " 6   Vehicle_Age           381109 non-null  object \n",
            " 7   Vehicle_Damage        381109 non-null  object \n",
            " 8   Annual_Premium        381109 non-null  float64\n",
            " 9   Policy_Sales_Channel  381109 non-null  float64\n",
            " 10  Vintage               381109 non-null  int64  \n",
            " 11  Response              381109 non-null  int64  \n",
            "dtypes: float64(3), int64(6), object(3)\n",
            "memory usage: 34.9+ MB\n"
          ]
        }
      ],
      "source": [
        "#checking dataset info\n",
        "df.info()"
      ]
    },
    {
      "cell_type": "markdown",
      "id": "6631d382",
      "metadata": {
        "id": "6631d382"
      },
      "source": [
        "## Dataset classification"
      ]
    },
    {
      "cell_type": "markdown",
      "id": "bf527b7b",
      "metadata": {
        "id": "bf527b7b"
      },
      "source": [
        "![classificacao_dados.png](data:image/png;base64,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)"
      ]
    },
    {
      "cell_type": "markdown",
      "id": "6dec55e9",
      "metadata": {
        "id": "6dec55e9"
      },
      "source": [
        "## Dataset statistics"
      ]
    },
    {
      "cell_type": "code",
      "execution_count": null,
      "id": "e3cdd8ad",
      "metadata": {
        "id": "e3cdd8ad",
        "outputId": "16981d07-f599-48af-d34b-09fa350b4a7d",
        "colab": {
          "base_uri": "https://localhost:8080/"
        }
      },
      "outputs": [
        {
          "output_type": "execute_result",
          "data": {
            "text/plain": [
              "id                      0\n",
              "Gender                  0\n",
              "Age                     0\n",
              "Driving_License         0\n",
              "Region_Code             0\n",
              "Previously_Insured      0\n",
              "Vehicle_Age             0\n",
              "Vehicle_Damage          0\n",
              "Annual_Premium          0\n",
              "Policy_Sales_Channel    0\n",
              "Vintage                 0\n",
              "Response                0\n",
              "dtype: int64"
            ]
          },
          "metadata": {},
          "execution_count": 30
        }
      ],
      "source": [
        "#checking NaN values\n",
        "#we don't have NaN values\n",
        "df.isnull().sum()"
      ]
    },
    {
      "cell_type": "code",
      "execution_count": null,
      "id": "ec5b9d86",
      "metadata": {
        "id": "ec5b9d86",
        "outputId": "8b6f99ca-9b51-4e2a-b910-82feba98fb6d",
        "colab": {
          "base_uri": "https://localhost:8080/"
        }
      },
      "outputs": [
        {
          "output_type": "execute_result",
          "data": {
            "text/plain": [
              "                  id            Age  Driving_License    Region_Code  \\\n",
              "count  381109.000000  381109.000000    381109.000000  381109.000000   \n",
              "mean   190555.000000      38.822584         0.997869      26.388807   \n",
              "std    110016.836208      15.511611         0.046110      13.229888   \n",
              "min         1.000000      20.000000         0.000000       0.000000   \n",
              "25%     95278.000000      25.000000         1.000000      15.000000   \n",
              "50%    190555.000000      36.000000         1.000000      28.000000   \n",
              "75%    285832.000000      49.000000         1.000000      35.000000   \n",
              "max    381109.000000      85.000000         1.000000      52.000000   \n",
              "\n",
              "       Previously_Insured  Annual_Premium  Policy_Sales_Channel  \\\n",
              "count       381109.000000   381109.000000         381109.000000   \n",
              "mean             0.458210    30564.389581            112.034295   \n",
              "std              0.498251    17213.155057             54.203995   \n",
              "min              0.000000     2630.000000              1.000000   \n",
              "25%              0.000000    24405.000000             29.000000   \n",
              "50%              0.000000    31669.000000            133.000000   \n",
              "75%              1.000000    39400.000000            152.000000   \n",
              "max              1.000000   540165.000000            163.000000   \n",
              "\n",
              "             Vintage       Response  \n",
              "count  381109.000000  381109.000000  \n",
              "mean      154.347397       0.122563  \n",
              "std        83.671304       0.327936  \n",
              "min        10.000000       0.000000  \n",
              "25%        82.000000       0.000000  \n",
              "50%       154.000000       0.000000  \n",
              "75%       227.000000       0.000000  \n",
              "max       299.000000       1.000000  "
            ],
            "text/html": [
              "\n",
              "  <div id=\"df-cf0221a6-7780-4ebc-8690-0cdd702313a2\">\n",
              "    <div class=\"colab-df-container\">\n",
              "      <div>\n",
              "<style scoped>\n",
              "    .dataframe tbody tr th:only-of-type {\n",
              "        vertical-align: middle;\n",
              "    }\n",
              "\n",
              "    .dataframe tbody tr th {\n",
              "        vertical-align: top;\n",
              "    }\n",
              "\n",
              "    .dataframe thead th {\n",
              "        text-align: right;\n",
              "    }\n",
              "</style>\n",
              "<table border=\"1\" class=\"dataframe\">\n",
              "  <thead>\n",
              "    <tr style=\"text-align: right;\">\n",
              "      <th></th>\n",
              "      <th>id</th>\n",
              "      <th>Age</th>\n",
              "      <th>Driving_License</th>\n",
              "      <th>Region_Code</th>\n",
              "      <th>Previously_Insured</th>\n",
              "      <th>Annual_Premium</th>\n",
              "      <th>Policy_Sales_Channel</th>\n",
              "      <th>Vintage</th>\n",
              "      <th>Response</th>\n",
              "    </tr>\n",
              "  </thead>\n",
              "  <tbody>\n",
              "    <tr>\n",
              "      <th>count</th>\n",
              "      <td>381109.000000</td>\n",
              "      <td>381109.000000</td>\n",
              "      <td>381109.000000</td>\n",
              "      <td>381109.000000</td>\n",
              "      <td>381109.000000</td>\n",
              "      <td>381109.000000</td>\n",
              "      <td>381109.000000</td>\n",
              "      <td>381109.000000</td>\n",
              "      <td>381109.000000</td>\n",
              "    </tr>\n",
              "    <tr>\n",
              "      <th>mean</th>\n",
              "      <td>190555.000000</td>\n",
              "      <td>38.822584</td>\n",
              "      <td>0.997869</td>\n",
              "      <td>26.388807</td>\n",
              "      <td>0.458210</td>\n",
              "      <td>30564.389581</td>\n",
              "      <td>112.034295</td>\n",
              "      <td>154.347397</td>\n",
              "      <td>0.122563</td>\n",
              "    </tr>\n",
              "    <tr>\n",
              "      <th>std</th>\n",
              "      <td>110016.836208</td>\n",
              "      <td>15.511611</td>\n",
              "      <td>0.046110</td>\n",
              "      <td>13.229888</td>\n",
              "      <td>0.498251</td>\n",
              "      <td>17213.155057</td>\n",
              "      <td>54.203995</td>\n",
              "      <td>83.671304</td>\n",
              "      <td>0.327936</td>\n",
              "    </tr>\n",
              "    <tr>\n",
              "      <th>min</th>\n",
              "      <td>1.000000</td>\n",
              "      <td>20.000000</td>\n",
              "      <td>0.000000</td>\n",
              "      <td>0.000000</td>\n",
              "      <td>0.000000</td>\n",
              "      <td>2630.000000</td>\n",
              "      <td>1.000000</td>\n",
              "      <td>10.000000</td>\n",
              "      <td>0.000000</td>\n",
              "    </tr>\n",
              "    <tr>\n",
              "      <th>25%</th>\n",
              "      <td>95278.000000</td>\n",
              "      <td>25.000000</td>\n",
              "      <td>1.000000</td>\n",
              "      <td>15.000000</td>\n",
              "      <td>0.000000</td>\n",
              "      <td>24405.000000</td>\n",
              "      <td>29.000000</td>\n",
              "      <td>82.000000</td>\n",
              "      <td>0.000000</td>\n",
              "    </tr>\n",
              "    <tr>\n",
              "      <th>50%</th>\n",
              "      <td>190555.000000</td>\n",
              "      <td>36.000000</td>\n",
              "      <td>1.000000</td>\n",
              "      <td>28.000000</td>\n",
              "      <td>0.000000</td>\n",
              "      <td>31669.000000</td>\n",
              "      <td>133.000000</td>\n",
              "      <td>154.000000</td>\n",
              "      <td>0.000000</td>\n",
              "    </tr>\n",
              "    <tr>\n",
              "      <th>75%</th>\n",
              "      <td>285832.000000</td>\n",
              "      <td>49.000000</td>\n",
              "      <td>1.000000</td>\n",
              "      <td>35.000000</td>\n",
              "      <td>1.000000</td>\n",
              "      <td>39400.000000</td>\n",
              "      <td>152.000000</td>\n",
              "      <td>227.000000</td>\n",
              "      <td>0.000000</td>\n",
              "    </tr>\n",
              "    <tr>\n",
              "      <th>max</th>\n",
              "      <td>381109.000000</td>\n",
              "      <td>85.000000</td>\n",
              "      <td>1.000000</td>\n",
              "      <td>52.000000</td>\n",
              "      <td>1.000000</td>\n",
              "      <td>540165.000000</td>\n",
              "      <td>163.000000</td>\n",
              "      <td>299.000000</td>\n",
              "      <td>1.000000</td>\n",
              "    </tr>\n",
              "  </tbody>\n",
              "</table>\n",
              "</div>\n",
              "      <button class=\"colab-df-convert\" onclick=\"convertToInteractive('df-cf0221a6-7780-4ebc-8690-0cdd702313a2')\"\n",
              "              title=\"Convert this dataframe to an interactive table.\"\n",
              "              style=\"display:none;\">\n",
              "        \n",
              "  <svg xmlns=\"http://www.w3.org/2000/svg\" height=\"24px\"viewBox=\"0 0 24 24\"\n",
              "       width=\"24px\">\n",
              "    <path d=\"M0 0h24v24H0V0z\" fill=\"none\"/>\n",
              "    <path d=\"M18.56 5.44l.94 2.06.94-2.06 2.06-.94-2.06-.94-.94-2.06-.94 2.06-2.06.94zm-11 1L8.5 8.5l.94-2.06 2.06-.94-2.06-.94L8.5 2.5l-.94 2.06-2.06.94zm10 10l.94 2.06.94-2.06 2.06-.94-2.06-.94-.94-2.06-.94 2.06-2.06.94z\"/><path d=\"M17.41 7.96l-1.37-1.37c-.4-.4-.92-.59-1.43-.59-.52 0-1.04.2-1.43.59L10.3 9.45l-7.72 7.72c-.78.78-.78 2.05 0 2.83L4 21.41c.39.39.9.59 1.41.59.51 0 1.02-.2 1.41-.59l7.78-7.78 2.81-2.81c.8-.78.8-2.07 0-2.86zM5.41 20L4 18.59l7.72-7.72 1.47 1.35L5.41 20z\"/>\n",
              "  </svg>\n",
              "      </button>\n",
              "      \n",
              "  <style>\n",
              "    .colab-df-container {\n",
              "      display:flex;\n",
              "      flex-wrap:wrap;\n",
              "      gap: 12px;\n",
              "    }\n",
              "\n",
              "    .colab-df-convert {\n",
              "      background-color: #E8F0FE;\n",
              "      border: none;\n",
              "      border-radius: 50%;\n",
              "      cursor: pointer;\n",
              "      display: none;\n",
              "      fill: #1967D2;\n",
              "      height: 32px;\n",
              "      padding: 0 0 0 0;\n",
              "      width: 32px;\n",
              "    }\n",
              "\n",
              "    .colab-df-convert:hover {\n",
              "      background-color: #E2EBFA;\n",
              "      box-shadow: 0px 1px 2px rgba(60, 64, 67, 0.3), 0px 1px 3px 1px rgba(60, 64, 67, 0.15);\n",
              "      fill: #174EA6;\n",
              "    }\n",
              "\n",
              "    [theme=dark] .colab-df-convert {\n",
              "      background-color: #3B4455;\n",
              "      fill: #D2E3FC;\n",
              "    }\n",
              "\n",
              "    [theme=dark] .colab-df-convert:hover {\n",
              "      background-color: #434B5C;\n",
              "      box-shadow: 0px 1px 3px 1px rgba(0, 0, 0, 0.15);\n",
              "      filter: drop-shadow(0px 1px 2px rgba(0, 0, 0, 0.3));\n",
              "      fill: #FFFFFF;\n",
              "    }\n",
              "  </style>\n",
              "\n",
              "      <script>\n",
              "        const buttonEl =\n",
              "          document.querySelector('#df-cf0221a6-7780-4ebc-8690-0cdd702313a2 button.colab-df-convert');\n",
              "        buttonEl.style.display =\n",
              "          google.colab.kernel.accessAllowed ? 'block' : 'none';\n",
              "\n",
              "        async function convertToInteractive(key) {\n",
              "          const element = document.querySelector('#df-cf0221a6-7780-4ebc-8690-0cdd702313a2');\n",
              "          const dataTable =\n",
              "            await google.colab.kernel.invokeFunction('convertToInteractive',\n",
              "                                                     [key], {});\n",
              "          if (!dataTable) return;\n",
              "\n",
              "          const docLinkHtml = 'Like what you see? Visit the ' +\n",
              "            '<a target=\"_blank\" href=https://colab.research.google.com/notebooks/data_table.ipynb>data table notebook</a>'\n",
              "            + ' to learn more about interactive tables.';\n",
              "          element.innerHTML = '';\n",
              "          dataTable['output_type'] = 'display_data';\n",
              "          await google.colab.output.renderOutput(dataTable, element);\n",
              "          const docLink = document.createElement('div');\n",
              "          docLink.innerHTML = docLinkHtml;\n",
              "          element.appendChild(docLink);\n",
              "        }\n",
              "      </script>\n",
              "    </div>\n",
              "  </div>\n",
              "  "
            ]
          },
          "metadata": {},
          "execution_count": 31
        }
      ],
      "source": [
        "#checking stats\n",
        "df.describe()"
      ]
    },
    {
      "cell_type": "code",
      "execution_count": null,
      "id": "bd808922",
      "metadata": {
        "id": "bd808922",
        "outputId": "b8467eed-db98-47b7-bd86-ad21a15629bd",
        "colab": {
          "base_uri": "https://localhost:8080/"
        }
      },
      "outputs": [
        {
          "output_type": "execute_result",
          "data": {
            "text/plain": [
              "        Gender Vehicle_Age Vehicle_Damage\n",
              "count   381109      381109         381109\n",
              "unique       2           3              2\n",
              "top       Male    1-2 Year            Yes\n",
              "freq    206089      200316         192413"
            ],
            "text/html": [
              "\n",
              "  <div id=\"df-c247fb87-2232-4f8a-8bb1-4c4d7a3e5e46\">\n",
              "    <div class=\"colab-df-container\">\n",
              "      <div>\n",
              "<style scoped>\n",
              "    .dataframe tbody tr th:only-of-type {\n",
              "        vertical-align: middle;\n",
              "    }\n",
              "\n",
              "    .dataframe tbody tr th {\n",
              "        vertical-align: top;\n",
              "    }\n",
              "\n",
              "    .dataframe thead th {\n",
              "        text-align: right;\n",
              "    }\n",
              "</style>\n",
              "<table border=\"1\" class=\"dataframe\">\n",
              "  <thead>\n",
              "    <tr style=\"text-align: right;\">\n",
              "      <th></th>\n",
              "      <th>Gender</th>\n",
              "      <th>Vehicle_Age</th>\n",
              "      <th>Vehicle_Damage</th>\n",
              "    </tr>\n",
              "  </thead>\n",
              "  <tbody>\n",
              "    <tr>\n",
              "      <th>count</th>\n",
              "      <td>381109</td>\n",
              "      <td>381109</td>\n",
              "      <td>381109</td>\n",
              "    </tr>\n",
              "    <tr>\n",
              "      <th>unique</th>\n",
              "      <td>2</td>\n",
              "      <td>3</td>\n",
              "      <td>2</td>\n",
              "    </tr>\n",
              "    <tr>\n",
              "      <th>top</th>\n",
              "      <td>Male</td>\n",
              "      <td>1-2 Year</td>\n",
              "      <td>Yes</td>\n",
              "    </tr>\n",
              "    <tr>\n",
              "      <th>freq</th>\n",
              "      <td>206089</td>\n",
              "      <td>200316</td>\n",
              "      <td>192413</td>\n",
              "    </tr>\n",
              "  </tbody>\n",
              "</table>\n",
              "</div>\n",
              "      <button class=\"colab-df-convert\" onclick=\"convertToInteractive('df-c247fb87-2232-4f8a-8bb1-4c4d7a3e5e46')\"\n",
              "              title=\"Convert this dataframe to an interactive table.\"\n",
              "              style=\"display:none;\">\n",
              "        \n",
              "  <svg xmlns=\"http://www.w3.org/2000/svg\" height=\"24px\"viewBox=\"0 0 24 24\"\n",
              "       width=\"24px\">\n",
              "    <path d=\"M0 0h24v24H0V0z\" fill=\"none\"/>\n",
              "    <path d=\"M18.56 5.44l.94 2.06.94-2.06 2.06-.94-2.06-.94-.94-2.06-.94 2.06-2.06.94zm-11 1L8.5 8.5l.94-2.06 2.06-.94-2.06-.94L8.5 2.5l-.94 2.06-2.06.94zm10 10l.94 2.06.94-2.06 2.06-.94-2.06-.94-.94-2.06-.94 2.06-2.06.94z\"/><path d=\"M17.41 7.96l-1.37-1.37c-.4-.4-.92-.59-1.43-.59-.52 0-1.04.2-1.43.59L10.3 9.45l-7.72 7.72c-.78.78-.78 2.05 0 2.83L4 21.41c.39.39.9.59 1.41.59.51 0 1.02-.2 1.41-.59l7.78-7.78 2.81-2.81c.8-.78.8-2.07 0-2.86zM5.41 20L4 18.59l7.72-7.72 1.47 1.35L5.41 20z\"/>\n",
              "  </svg>\n",
              "      </button>\n",
              "      \n",
              "  <style>\n",
              "    .colab-df-container {\n",
              "      display:flex;\n",
              "      flex-wrap:wrap;\n",
              "      gap: 12px;\n",
              "    }\n",
              "\n",
              "    .colab-df-convert {\n",
              "      background-color: #E8F0FE;\n",
              "      border: none;\n",
              "      border-radius: 50%;\n",
              "      cursor: pointer;\n",
              "      display: none;\n",
              "      fill: #1967D2;\n",
              "      height: 32px;\n",
              "      padding: 0 0 0 0;\n",
              "      width: 32px;\n",
              "    }\n",
              "\n",
              "    .colab-df-convert:hover {\n",
              "      background-color: #E2EBFA;\n",
              "      box-shadow: 0px 1px 2px rgba(60, 64, 67, 0.3), 0px 1px 3px 1px rgba(60, 64, 67, 0.15);\n",
              "      fill: #174EA6;\n",
              "    }\n",
              "\n",
              "    [theme=dark] .colab-df-convert {\n",
              "      background-color: #3B4455;\n",
              "      fill: #D2E3FC;\n",
              "    }\n",
              "\n",
              "    [theme=dark] .colab-df-convert:hover {\n",
              "      background-color: #434B5C;\n",
              "      box-shadow: 0px 1px 3px 1px rgba(0, 0, 0, 0.15);\n",
              "      filter: drop-shadow(0px 1px 2px rgba(0, 0, 0, 0.3));\n",
              "      fill: #FFFFFF;\n",
              "    }\n",
              "  </style>\n",
              "\n",
              "      <script>\n",
              "        const buttonEl =\n",
              "          document.querySelector('#df-c247fb87-2232-4f8a-8bb1-4c4d7a3e5e46 button.colab-df-convert');\n",
              "        buttonEl.style.display =\n",
              "          google.colab.kernel.accessAllowed ? 'block' : 'none';\n",
              "\n",
              "        async function convertToInteractive(key) {\n",
              "          const element = document.querySelector('#df-c247fb87-2232-4f8a-8bb1-4c4d7a3e5e46');\n",
              "          const dataTable =\n",
              "            await google.colab.kernel.invokeFunction('convertToInteractive',\n",
              "                                                     [key], {});\n",
              "          if (!dataTable) return;\n",
              "\n",
              "          const docLinkHtml = 'Like what you see? Visit the ' +\n",
              "            '<a target=\"_blank\" href=https://colab.research.google.com/notebooks/data_table.ipynb>data table notebook</a>'\n",
              "            + ' to learn more about interactive tables.';\n",
              "          element.innerHTML = '';\n",
              "          dataTable['output_type'] = 'display_data';\n",
              "          await google.colab.output.renderOutput(dataTable, element);\n",
              "          const docLink = document.createElement('div');\n",
              "          docLink.innerHTML = docLinkHtml;\n",
              "          element.appendChild(docLink);\n",
              "        }\n",
              "      </script>\n",
              "    </div>\n",
              "  </div>\n",
              "  "
            ]
          },
          "metadata": {},
          "execution_count": 32
        }
      ],
      "source": [
        "df.describe(include=\"O\")"
      ]
    },
    {
      "cell_type": "code",
      "execution_count": null,
      "id": "c71981be",
      "metadata": {
        "id": "c71981be",
        "outputId": "8e657651-b7f3-484c-b9a1-f0ef7b9f2fa0",
        "colab": {
          "base_uri": "https://localhost:8080/"
        }
      },
      "outputs": [
        {
          "output_type": "stream",
          "name": "stdout",
          "text": [
            "Primeiro Quartil:  25.0\n",
            "Segundo Quartil:  36.0\n",
            "Terceiro Quartil:  49.0\n",
            "IQR:  24.0\n"
          ]
        },
        {
          "output_type": "execute_result",
          "data": {
            "text/plain": [
              "<matplotlib.axes._subplots.AxesSubplot at 0x7f3f75f7fc10>"
            ]
          },
          "metadata": {},
          "execution_count": 33
        },
        {
          "output_type": "display_data",
          "data": {
            "text/plain": [
              "<Figure size 432x288 with 1 Axes>"
            ],
            "image/png": "[encoded data removed]"
          },
          "metadata": {
            "needs_background": "light"
          }
        }
      ],
      "source": [
        "#Age\n",
        "Q1a = df['Age'].quantile(0.25)\n",
        "Q2a = df['Age'].quantile(0.5)\n",
        "Q3a = df['Age'].quantile(0.75)\n",
        "\n",
        "\n",
        "#intervalo Interquartil(IQR)\n",
        "#quando os dados contêm muitos outliers por ser menos sensível às variações nos extremos do conjunto.\n",
        "IQRa = Q3a - Q1a\n",
        "\n",
        "print(f'Primeiro Quartil: ', Q1a)\n",
        "print(f'Segundo Quartil: ', Q2a)\n",
        "print(f'Terceiro Quartil: ', Q3a)\n",
        "print(f'IQR: ', IQRa)\n",
        "\n",
        "sns.boxplot(x=df['Age'])"
      ]
    },
    {
      "cell_type": "code",
      "execution_count": null,
      "id": "c938936b",
      "metadata": {
        "id": "c938936b",
        "outputId": "3b337e69-3225-416e-bd02-f9f6e133de23",
        "colab": {
          "base_uri": "https://localhost:8080/"
        }
      },
      "outputs": [
        {
          "output_type": "stream",
          "name": "stdout",
          "text": [
            "Primeiro Quartil:  24405.0\n",
            "Segundo Quartil:  31669.0\n",
            "Terceiro Quartil:  39400.0\n",
            "IQR:  14995.0\n"
          ]
        },
        {
          "output_type": "execute_result",
          "data": {
            "text/plain": [
              "<matplotlib.axes._subplots.AxesSubplot at 0x7f3f75fc1e50>"
            ]
          },
          "metadata": {},
          "execution_count": 34
        },
        {
          "output_type": "display_data",
          "data": {
            "text/plain": [
              "<Figure size 432x288 with 1 Axes>"
            ],
            "image/png": "[encoded data removed]"
          },
          "metadata": {
            "needs_background": "light"
          }
        }
      ],
      "source": [
        "#Annual_Premium\n",
        "Q1ap = df['Annual_Premium'].quantile(0.25)\n",
        "Q2ap = df['Annual_Premium'].quantile(0.5)\n",
        "Q3ap = df['Annual_Premium'].quantile(0.75)\n",
        "\n",
        "#intervalo Interquartil(IQR)\n",
        "#quando os dados contêm muitos outliers por ser menos sensível às variações nos extremos do conjunto.\n",
        "IQRap = Q3ap - Q1ap\n",
        "\n",
        "print(f'Primeiro Quartil: ', Q1ap)\n",
        "print(f'Segundo Quartil: ', Q2ap)\n",
        "print(f'Terceiro Quartil: ', Q3ap)\n",
        "print(f'IQR: ', IQRap)\n",
        "\n",
        "sns.boxplot(x=df['Annual_Premium'])\n",
        "#Preciaremos investigar sobre os outliers neste atributo. Ver correlação com idade, sexo, previo sinistro, etc."
      ]
    },
    {
      "cell_type": "code",
      "execution_count": null,
      "id": "f303f1a2",
      "metadata": {
        "id": "f303f1a2",
        "outputId": "bf5afb7f-678e-44b2-8b62-b3cd454bd535",
        "colab": {
          "base_uri": "https://localhost:8080/"
        }
      },
      "outputs": [
        {
          "output_type": "stream",
          "name": "stdout",
          "text": [
            "Primeiro Quartil:  82.0\n",
            "Segundo Quartil:  154.0\n",
            "Terceiro Quartil:  227.0\n",
            "IQR:  145.0\n"
          ]
        },
        {
          "output_type": "execute_result",
          "data": {
            "text/plain": [
              "<matplotlib.axes._subplots.AxesSubplot at 0x7f3f75e9ced0>"
            ]
          },
          "metadata": {},
          "execution_count": 35
        },
        {
          "output_type": "display_data",
          "data": {
            "text/plain": [
              "<Figure size 432x288 with 1 Axes>"
            ],
            "image/png": "[encoded data removed]"
          },
          "metadata": {
            "needs_background": "light"
          }
        }
      ],
      "source": [
        "#Vintage\n",
        "Q1v = df['Vintage'].quantile(0.25)\n",
        "Q2v = df['Vintage'].quantile(0.5)\n",
        "Q3v = df['Vintage'].quantile(0.75)\n",
        "\n",
        "#intervalo Interquartil(IQR)\n",
        "#quando os dados contêm muitos outliers por ser menos sensível às variações nos extremos do conjunto.\n",
        "IQRv = Q3v - Q1v\n",
        "\n",
        "print(f'Primeiro Quartil: ', Q1v)\n",
        "print(f'Segundo Quartil: ', Q2v)\n",
        "print(f'Terceiro Quartil: ', Q3v)\n",
        "print(f'IQR: ', IQRv)\n",
        "\n",
        "sns.boxplot(x=df['Vintage'])"
      ]
    },
    {
      "cell_type": "code",
      "execution_count": null,
      "id": "de5006d6",
      "metadata": {
        "id": "de5006d6",
        "outputId": "62b05bc0-04df-49e3-9841-34cc1ea25c94",
        "colab": {
          "base_uri": "https://localhost:8080/"
        }
      },
      "outputs": [
        {
          "output_type": "stream",
          "name": "stderr",
          "text": [
            "/usr/local/lib/python3.7/dist-packages/ipykernel_launcher.py:2: FutureWarning: Dropping of nuisance columns in DataFrame reductions (with 'numeric_only=None') is deprecated; in a future version this will raise TypeError.  Select only valid columns before calling the reduction.\n",
            "  \n"
          ]
        },
        {
          "output_type": "execute_result",
          "data": {
            "text/plain": [
              "id                      9.443274e-16\n",
              "Age                     6.725390e-01\n",
              "Driving_License        -2.159518e+01\n",
              "Region_Code            -1.152664e-01\n",
              "Previously_Insured      1.677471e-01\n",
              "Annual_Premium          1.766087e+00\n",
              "Policy_Sales_Channel   -9.000081e-01\n",
              "Vintage                 3.029517e-03\n",
              "Response                2.301906e+00\n",
              "dtype: float64"
            ]
          },
          "metadata": {},
          "execution_count": 36
        }
      ],
      "source": [
        "#Verificando a assimetria dos dados (distribuição dos dados em torno da média). \n",
        "assimetria= df.skew()\n",
        "assimetria\n"
      ]
    },
    {
      "cell_type": "code",
      "execution_count": null,
      "id": "fd0bf965",
      "metadata": {
        "id": "fd0bf965",
        "outputId": "c7d666eb-3660-4187-d4e7-aa500408d84e",
        "colab": {
          "base_uri": "https://localhost:8080/"
        }
      },
      "outputs": [
        {
          "output_type": "stream",
          "name": "stderr",
          "text": [
            "/usr/local/lib/python3.7/dist-packages/ipykernel_launcher.py:2: FutureWarning: Dropping of nuisance columns in DataFrame reductions (with 'numeric_only=None') is deprecated; in a future version this will raise TypeError.  Select only valid columns before calling the reduction.\n",
            "  \n"
          ]
        },
        {
          "output_type": "execute_result",
          "data": {
            "text/plain": [
              "id                       -1.200000\n",
              "Age                      -0.565655\n",
              "Driving_License         464.354302\n",
              "Region_Code              -0.867857\n",
              "Previously_Insured       -1.971871\n",
              "Annual_Premium           34.004569\n",
              "Policy_Sales_Channel     -0.970810\n",
              "Vintage                  -1.200688\n",
              "Response                  3.298788\n",
              "dtype: float64"
            ]
          },
          "metadata": {},
          "execution_count": 37
        }
      ],
      "source": [
        "# A curtose nos ajuda a dar forma à distribuição dos dados\n",
        "curtose= df.kurtosis()\n",
        "curtose"
      ]
    },
    {
      "cell_type": "code",
      "execution_count": null,
      "id": "2932c1cd",
      "metadata": {
        "id": "2932c1cd",
        "outputId": "ad70910c-2134-4fb5-84ce-d7a14065e89b",
        "colab": {
          "base_uri": "https://localhost:8080/"
        }
      },
      "outputs": [
        {
          "output_type": "execute_result",
          "data": {
            "text/plain": [
              "0    334399\n",
              "1     46710\n",
              "Name: Response, dtype: int64"
            ]
          },
          "metadata": {},
          "execution_count": 38
        }
      ],
      "source": [
        "#Verificando os valores da classe.\n",
        "df.Response.value_counts()\n",
        "#Precisaremos trabalhar com o balanceamento das classes do dataset"
      ]
    },
    {
      "cell_type": "markdown",
      "id": "eecf8375",
      "metadata": {
        "id": "eecf8375"
      },
      "source": [
        "## Utilizando o sweetviz"
      ]
    },
    {
      "cell_type": "code",
      "execution_count": null,
      "id": "3caabcf4",
      "metadata": {
        "id": "3caabcf4"
      },
      "outputs": [],
      "source": [
        "# #importando o arquvio de teste\n",
        "# df_test = pd.read_csv(\"test.csv\")\n",
        "# df_test.sample(3)"
      ]
    },
    {
      "cell_type": "code",
      "execution_count": null,
      "id": "888ba43a",
      "metadata": {
        "id": "888ba43a",
        "outputId": "24e51950-857c-42ab-8d4f-e5c5a1df3455",
        "colab": {
          "base_uri": "https://localhost:8080/",
          "height": 183
        }
      },
      "outputs": [
        {
          "output_type": "error",
          "ename": "NameError",
          "evalue": "ignored",
          "traceback": [
            "\u001b[0;31m---------------------------------------------------------------------------\u001b[0m",
            "\u001b[0;31mNameError\u001b[0m                                 Traceback (most recent call last)",
            "\u001b[0;32m<ipython-input-40-a5a12acfa114>\u001b[0m in \u001b[0;36m<module>\u001b[0;34m()\u001b[0m\n\u001b[1;32m      1\u001b[0m \u001b[0;31m#Comparando os datasets de acordo com o guidebook do sweetviz\u001b[0m\u001b[0;34m\u001b[0m\u001b[0;34m\u001b[0m\u001b[0;34m\u001b[0m\u001b[0m\n\u001b[0;32m----> 2\u001b[0;31m \u001b[0mcomparison_report\u001b[0m \u001b[0;34m=\u001b[0m \u001b[0msv\u001b[0m\u001b[0;34m.\u001b[0m\u001b[0mcompare\u001b[0m\u001b[0;34m(\u001b[0m\u001b[0;34m[\u001b[0m\u001b[0mdf\u001b[0m\u001b[0;34m,\u001b[0m\u001b[0;34m'Treino'\u001b[0m\u001b[0;34m]\u001b[0m\u001b[0;34m,\u001b[0m \u001b[0;34m[\u001b[0m\u001b[0mdf_test\u001b[0m\u001b[0;34m,\u001b[0m\u001b[0;34m'Teste'\u001b[0m\u001b[0;34m]\u001b[0m\u001b[0;34m,\u001b[0m \u001b[0mtarget_feat\u001b[0m\u001b[0;34m=\u001b[0m\u001b[0;34m'Response'\u001b[0m\u001b[0;34m)\u001b[0m\u001b[0;34m\u001b[0m\u001b[0;34m\u001b[0m\u001b[0m\n\u001b[0m",
            "\u001b[0;31mNameError\u001b[0m: name 'sv' is not defined"
          ]
        }
      ],
      "source": [
        "#Comparando os datasets de acordo com o guidebook do sweetviz\n",
        "comparison_report = sv.compare([df,'Treino'], [df_test,'Teste'], target_feat='Response')"
      ]
    },
    {
      "cell_type": "code",
      "execution_count": null,
      "id": "0b4bf1fd",
      "metadata": {
        "id": "0b4bf1fd"
      },
      "outputs": [],
      "source": [
        "comparison_report.show_notebook()"
      ]
    },
    {
      "cell_type": "markdown",
      "id": "400b6a42",
      "metadata": {
        "id": "400b6a42"
      },
      "source": [
        "## Primeiros insights dos dados"
      ]
    },
    {
      "cell_type": "raw",
      "id": "4f2ef2e2",
      "metadata": {
        "id": "4f2ef2e2"
      },
      "source": [
        "1. A classe deverá ser balanceada\n",
        "2. Excluir a coluna id\n",
        "3. Avaliar o atributo \"Annual_Premium\" (outliers?)\n",
        "4. Apesar de não mostrar dados nulos, verificar se há dados preenchidos com \"O\" - zeros\n",
        "5. Temos pessoas de 85 anos. Verificar a segurança desse público ao volante.\n",
        "6. Qual a possibilidade de a empresa oferecer o seguro veicular aos jovens de 18 e 19 anos?\n",
        "7. Nem todos fecharam o contrato de um ano fiscal\n",
        "8. O premio anual não está correlacionado com a idade\n",
        "9. Há mais homens interessados que mulheres nos dois datasets (homens: 54%)\n",
        "10. 812 pessoas não possuem carteira de habilitação \n",
        "11. 46% dos interessados já tiveram seguros anteriormente\n",
        "12. A maioria dos interessados possuem veículos de até 2 anos\n",
        "13. Metade dos interessados já tiveram o veículo danificado\n",
        "14. Averiguar melhor os dados do Premio anual"
      ]
    },
    {
      "cell_type": "markdown",
      "id": "db861fe6",
      "metadata": {
        "id": "db861fe6"
      },
      "source": [
        "# Respondendo as perguntas de negócio"
      ]
    },
    {
      "cell_type": "code",
      "execution_count": null,
      "id": "0d1a1488",
      "metadata": {
        "id": "0d1a1488"
      },
      "outputs": [],
      "source": [
        "#Criando uma cópia do dataset\n",
        "df_ = df.copy()\n",
        "\n",
        "#Tratando os dados\n",
        "\"\"\"\n",
        "Gender: 0: Male, 1: Female\n",
        "Vehicle_Age: 0: <1year, 1: 1-2years, 2: >2 anos\n",
        "Vehicle_Damage: 0:No, 1:Yes\n",
        "id: drop\n",
        "\"\"\"\n",
        "\n",
        "\n",
        "df_['Gender'] = df_['Gender'].replace({'Male': 0, 'Female': 1})\n",
        "df_['Vehicle_Age'] = df_['Vehicle_Age'].replace({'> 2 Years': 2, '1-2 Year': 1, '< 1 Year': 0})\n",
        "df_['Vehicle_Damage'] = df_['Vehicle_Damage'].replace({'Yes': 1, 'No': 0})\n",
        "df_.drop([\"id\"], axis=1, inplace=True)\n",
        "df_"
      ]
    },
    {
      "cell_type": "markdown",
      "id": "4224bc8d",
      "metadata": {
        "id": "4224bc8d"
      },
      "source": [
        "### Quem é o nosso cliente?"
      ]
    },
    {
      "cell_type": "code",
      "execution_count": null,
      "id": "2e55ea1b",
      "metadata": {
        "id": "2e55ea1b"
      },
      "outputs": [],
      "source": [
        "É uma empresa de seguro saúde que quer fazer venda casada com seguro veicular."
      ]
    },
    {
      "cell_type": "markdown",
      "id": "640d3c7e",
      "metadata": {
        "id": "640d3c7e"
      },
      "source": [
        "### Quem é o cliente do nosso cliente?\n"
      ]
    },
    {
      "cell_type": "raw",
      "id": "21b1248f",
      "metadata": {
        "id": "21b1248f"
      },
      "source": [
        "São clientes que já possuem um seguro saúde da empresa.\n",
        "Precisamos definir o persona para a nossa jornada do usuário"
      ]
    },
    {
      "cell_type": "markdown",
      "id": "e9e1fbda",
      "metadata": {
        "id": "e9e1fbda"
      },
      "source": [
        "### Como poderíamos oferecer uma melhor experiencia ao público que não tiveram seguro veicular antes?"
      ]
    },
    {
      "cell_type": "code",
      "execution_count": null,
      "id": "d6375884",
      "metadata": {
        "id": "d6375884"
      },
      "outputs": [],
      "source": [
        ""
      ]
    },
    {
      "cell_type": "markdown",
      "id": "b73e828f",
      "metadata": {
        "id": "b73e828f"
      },
      "source": [
        "###  1. Qual o perfil dos clientes interessados no seguro de veículo"
      ]
    },
    {
      "cell_type": "markdown",
      "id": "050a86cf",
      "metadata": {
        "id": "050a86cf"
      },
      "source": [
        "\"\"\"\n",
        "1. Isolando as pessoas que tem interesse na variável \"df_interested\"\n",
        "2. O total de interessados é de 46.710, com idade média de 43 anos. As mulheres representam 38.93% dos interessados.\n",
        "3. Há um baixo interesse nos públicos entre 30 e 40 anos, e a partir dos 55 anos. O pico é entre os mais jovens de 20 a 30 anos.\n",
        "4. a grande massa possui veiculo de 1 a 2 anos de idade.\n",
        "5. Não fecham o ano fiscal de contrato\n",
        "\n",
        "\"\"\""
      ]
    },
    {
      "cell_type": "code",
      "execution_count": null,
      "id": "096258df",
      "metadata": {
        "id": "096258df"
      },
      "outputs": [],
      "source": [
        "# Isolando os valores do atributo Response = 1\n",
        "\n",
        "df_interested = df_[df_['Response']==1]\n",
        "df_interested"
      ]
    },
    {
      "cell_type": "code",
      "execution_count": null,
      "id": "2768ae7b",
      "metadata": {
        "id": "2768ae7b"
      },
      "outputs": [],
      "source": [
        "#Contagem de genero\n",
        "gender_total = len(df_interested.Gender)\n",
        "df_int_female= (df_interested['Gender'].loc[df_interested['Gender']==1].value_counts()/gender_total)*100\n",
        "df_int_male= (df_interested['Gender'].loc[df_interested['Gender']==0].value_counts()/gender_total)*100\n",
        "\n",
        "#idade média\n",
        "\n",
        "df_int_age = df_interested.Age.mean()\n",
        "\n",
        "#print(\"O total de interessados é de\", gender_total, \"que tem em média\" ,df_int_age, \"de idade. As mulheres representam\" ,df_int_female, \"e os homens,\",df_int_male)\n",
        "print(df_int_female)\n",
        "print(df_int_male)\n"
      ]
    },
    {
      "cell_type": "code",
      "execution_count": null,
      "id": "9ed8e55c",
      "metadata": {
        "id": "9ed8e55c"
      },
      "outputs": [],
      "source": [
        "#Visualizando a distribuição das idades dos interessados\n",
        "fig, ax = plt.subplots(figsize=(8,6))\n",
        "sns.histplot(df_interested[\"Age\"], color=\"#58CC99\", kde=True, ax=ax)\n",
        "ax.set_title(\"Distrituição das idades dos interessados no seguro veicular\", fontsize= 16)\n",
        "plt.xlabel(\"idade\", fontsize=12)\n",
        "plt.ylabel(\"Densidade (KDE)\", fontsize=12)\n",
        "plt.show()"
      ]
    },
    {
      "cell_type": "code",
      "execution_count": null,
      "id": "1d22587f",
      "metadata": {
        "id": "1d22587f"
      },
      "outputs": [],
      "source": [
        "sns.set_style(\"whitegrid\")\n",
        "g = sns.catplot(y=\"Age\", data=df_, kind=\"count\", palette=\"Reds_r\", height=7, aspect=1.5)\n",
        "g.ax.set_title(\"Idade\",fontdict={'size':16})\n",
        "g.ax.xaxis.set_label_text(\"contagem\",fontdict= {'size':12})\n",
        "g.ax.yaxis.set_label_text(\"idade\",fontdict= {'size':12})\n",
        "plt.show()"
      ]
    },
    {
      "cell_type": "code",
      "execution_count": null,
      "id": "d57a8635",
      "metadata": {
        "id": "d57a8635"
      },
      "outputs": [],
      "source": [
        "df_interested.hist(figsize=(20,20))"
      ]
    },
    {
      "cell_type": "code",
      "execution_count": null,
      "id": "68753960",
      "metadata": {
        "id": "68753960"
      },
      "outputs": [],
      "source": [
        "df_.columns"
      ]
    },
    {
      "cell_type": "code",
      "execution_count": null,
      "id": "398a260a",
      "metadata": {
        "id": "398a260a"
      },
      "outputs": [],
      "source": [
        "#Idade do carro dos interessados do seguro veicular\n",
        "sns.set_style(\"white\")\n",
        "g = sns.catplot(x=\"Vehicle_Age\", data=df_, kind=\"count\", palette=\"BuPu\", height=6, aspect=1.5)\n",
        "g.ax.xaxis.set_label_text(\"idade do veículo\",fontdict= {'size':12})\n",
        "g.ax.yaxis.set_label_text(\"quantidade\", fontdict= {'size':12})\n",
        "g.ax.set_title(\"Idade do carro dos interessados do seguro veicular\",fontdict= {'size':16})\n",
        "# to get the counts on the top heads of the bar\n",
        "for p in g.ax.patches:\n",
        "    g.ax.annotate((p.get_height()), (p.get_x()+0.1, p.get_height()+500))"
      ]
    },
    {
      "cell_type": "code",
      "execution_count": null,
      "id": "19c7decf",
      "metadata": {
        "id": "19c7decf"
      },
      "outputs": [],
      "source": [
        "def plot_count(x,fig):\n",
        "    plt.subplot(6,2,fig)\n",
        "    sns.countplot(df_[x],palette=(\"Blues_d\"))\n",
        "    plt.title(x+' Histogram', size=18)\n",
        "    plt.ylabel('Count', size=18)\n",
        "\n",
        "plt.figure(figsize=(15,20))\n",
        "\n",
        "plot_count('Response', 1)\n",
        "plot_count('Gender', 3)\n",
        "plot_count('Driving_License', 5)\n",
        "plot_count('Previously_Insured', 7)\n",
        "plot_count('Vehicle_Age', 9)\n",
        "plot_count('Vehicle_Damage', 11)\n",
        "\n",
        "plt.tight_layout()"
      ]
    },
    {
      "cell_type": "markdown",
      "id": "c051ff26",
      "metadata": {
        "id": "c051ff26"
      },
      "source": [
        "### 2 Qual a influência de cada feature (idade, genêro, localização, idade do veículo, teve dano anterior no veículo, prêmio, dentre outras) no interesse pelo seguro."
      ]
    },
    {
      "cell_type": "markdown",
      "id": "8cfb3c76",
      "metadata": {
        "id": "8cfb3c76"
      },
      "source": [
        "\"\"\"\n",
        "_________\n",
        "#colinha#: O coeficiente de correlação varia de -1 a 1. Quando está próximo de 1, significa que existe \n",
        "uma forte correlação positiva; por exemplo, o valor médio da habitação tende a aumentar \n",
        "quando a renda média aumenta. Quando o coeficiente está próximo de -1, significa que \n",
        "existe uma forte correlação negativa. Finalmente, coeficientes próximos de zero significam que não há \n",
        "correlação linear\n",
        "_________\n",
        "\n",
        "\n",
        "\"\"\""
      ]
    },
    {
      "cell_type": "code",
      "execution_count": null,
      "id": "2a0c5224",
      "metadata": {
        "id": "2a0c5224"
      },
      "outputs": [],
      "source": [
        "plt.figure(figsize=(10,6))\n",
        "sns.heatmap(df_interested.corr(), fmt='.2f', annot=True)\n",
        "plt.title(\"Correlação entre as features\")\n",
        "plt.show()"
      ]
    },
    {
      "cell_type": "markdown",
      "id": "2ac99c15",
      "metadata": {
        "id": "2ac99c15"
      },
      "source": [
        "### 3 Qual a percentagem de clientes tem interesse no seguro em relação ao total.<gráfico> "
      ]
    },
    {
      "cell_type": "markdown",
      "id": "16165fb9",
      "metadata": {
        "id": "16165fb9"
      },
      "source": [
        "\"\"\"\n",
        "\n",
        "O percentual de interessados é de 12.26%\n",
        "\n",
        "\"\"\""
      ]
    },
    {
      "cell_type": "code",
      "execution_count": null,
      "id": "631de66a",
      "metadata": {
        "id": "631de66a"
      },
      "outputs": [],
      "source": [
        "percentual = len(df_interested.Gender)/len(df_.Gender)*100\n",
        "print(f'O percentual de interessados é de %.2f%%' %percentual)"
      ]
    },
    {
      "cell_type": "markdown",
      "id": "23515603",
      "metadata": {
        "id": "23515603"
      },
      "source": [
        "### 4 Qual a distribuição da idade dos consumidores <grafico>"
      ]
    },
    {
      "cell_type": "markdown",
      "id": "3072eb27",
      "metadata": {
        "id": "3072eb27"
      },
      "source": [
        "\"\"\"\n",
        "\n",
        "Os clientes da seguradora de saúde estão em sua maioria na faixa dos 20 a 35 anos.\n",
        "\n",
        "\"\"\""
      ]
    },
    {
      "cell_type": "code",
      "execution_count": null,
      "id": "2b173389",
      "metadata": {
        "id": "2b173389"
      },
      "outputs": [],
      "source": [
        "sns.distplot(df_.Age, bins=5, color='g')"
      ]
    },
    {
      "cell_type": "markdown",
      "id": "e7449f7e",
      "metadata": {
        "id": "e7449f7e"
      },
      "source": [
        "### 5 Há relação entre o prêmio e a idade do cliente <gráfico> "
      ]
    },
    {
      "cell_type": "code",
      "execution_count": null,
      "id": "2afc5e09",
      "metadata": {
        "id": "2afc5e09"
      },
      "outputs": [],
      "source": [
        "sns.scatterplot(x=\"Annual_Premium\", y=\"Age\", hue=\"Response\", data=df_)"
      ]
    },
    {
      "cell_type": "markdown",
      "id": "f45b1af9",
      "metadata": {
        "id": "f45b1af9"
      },
      "source": [
        "### 6 Entre os gêneros, há diferença no interesse pelo seguro veicular <homens se interessam mais>"
      ]
    },
    {
      "cell_type": "markdown",
      "id": "701bcf4c",
      "metadata": {
        "id": "701bcf4c"
      },
      "source": [
        "\"\"\"\n",
        "\n",
        "Visualmente, nota-se que os mais interessados no seguro veicular são os homens\n",
        "\n",
        "\"\"\""
      ]
    },
    {
      "cell_type": "code",
      "execution_count": null,
      "id": "ed8690bd",
      "metadata": {
        "id": "ed8690bd"
      },
      "outputs": [],
      "source": [
        "sns.countplot(x=\"Gender\", hue=\"Response\", data=df_, palette=\"rocket\" )"
      ]
    },
    {
      "cell_type": "markdown",
      "id": "c1d3c7ee",
      "metadata": {
        "id": "c1d3c7ee"
      },
      "source": [
        "### 7 Qual a quantidade de clientes tem habilitação (avaliar diferença por genêro) ****"
      ]
    },
    {
      "cell_type": "code",
      "execution_count": null,
      "id": "ecd73e08",
      "metadata": {
        "id": "ecd73e08"
      },
      "outputs": [],
      "source": [
        "sns.countplot(x=\"Driving_License\",hue=\"Gender\", data=df_, palette=\"rocket\" )"
      ]
    },
    {
      "cell_type": "markdown",
      "id": "28bb4321",
      "metadata": {
        "id": "28bb4321"
      },
      "source": [
        "### 8 Qual a quantidade de clientes já teve seguro veicular."
      ]
    },
    {
      "cell_type": "markdown",
      "id": "fa753068",
      "metadata": {
        "id": "fa753068"
      },
      "source": [
        "\"\"\"\n",
        "\n",
        "174.628 pessoas já tiveram seguro veicular\n",
        "\n",
        "\"\"\""
      ]
    },
    {
      "cell_type": "code",
      "execution_count": null,
      "id": "24e970a2",
      "metadata": {
        "id": "24e970a2"
      },
      "outputs": [],
      "source": [
        "df_.Previously_Insured.value_counts()"
      ]
    },
    {
      "cell_type": "markdown",
      "id": "63b13de9",
      "metadata": {
        "id": "63b13de9"
      },
      "source": [
        "### 9 A idade do veículo influência no interesse pelo seguro veicular."
      ]
    },
    {
      "cell_type": "code",
      "execution_count": null,
      "id": "1e81cab0",
      "metadata": {
        "id": "1e81cab0"
      },
      "outputs": [],
      "source": [
        "\"\"\"\n",
        "\n",
        "Vehicle_Age: 0: <1year, 1: 1-2years, 2: >2 anos\n",
        "Aparantemente, quem tem veículos de até dois anos de uso tem mais interesse no seguro veicular\n",
        "\n",
        "\"\"\""
      ]
    },
    {
      "cell_type": "code",
      "execution_count": null,
      "id": "1a61e8ca",
      "metadata": {
        "id": "1a61e8ca"
      },
      "outputs": [],
      "source": [
        "sns.displot(df_interested.Vehicle_Age, bins=10, color=\"g\")"
      ]
    },
    {
      "cell_type": "markdown",
      "id": "1d28c1e2",
      "metadata": {
        "id": "1d28c1e2"
      },
      "source": [
        "### 10 Clientes que já tiveram seus veículos danificados têm mais propensão a adquirir o seguro veicular "
      ]
    },
    {
      "cell_type": "markdown",
      "id": "a4fa31ae",
      "metadata": {
        "id": "a4fa31ae"
      },
      "source": [
        "\"\"\"\n",
        "\n",
        "sim. e homens sao mais interessados\n",
        "\n",
        "\"\"\""
      ]
    },
    {
      "cell_type": "code",
      "execution_count": null,
      "id": "ca6f9254",
      "metadata": {
        "id": "ca6f9254"
      },
      "outputs": [],
      "source": [
        "danificados = df_interested[\"Vehicle_Damage\"].value_counts()\n",
        "print(danificados)\n",
        "sns.countplot(x=\"Vehicle_Damage\", data=df_interested\n",
        "             )\n"
      ]
    },
    {
      "cell_type": "code",
      "execution_count": null,
      "id": "e0f66398",
      "metadata": {
        "id": "e0f66398"
      },
      "outputs": [],
      "source": [
        "sns.pointplot(x=\"Gender\", y=\"Vehicle_Damage\" ,hue=\"Response\", data=df_interested)"
      ]
    },
    {
      "cell_type": "markdown",
      "id": "6188f006",
      "metadata": {
        "id": "6188f006"
      },
      "source": [
        "### 11 O número de dias que o cliente já é associado ao seguro de saúde (vintage) influência no interesse pelo seguro veicular."
      ]
    },
    {
      "cell_type": "markdown",
      "id": "88d5e61d",
      "metadata": {
        "id": "88d5e61d"
      },
      "source": [
        "\"\"\"\n",
        "\n",
        "Não influencia\n",
        "\n",
        "\"\"\""
      ]
    },
    {
      "cell_type": "code",
      "execution_count": null,
      "id": "8a695b52",
      "metadata": {
        "id": "8a695b52"
      },
      "outputs": [],
      "source": [
        "interessados = df_interested[\"Vintage\"].mean()\n",
        "geral=df_[\"Vintage\"].mean()\n",
        "\n",
        "print(\"A média geral de permanência no seguro é de \",geral, \"e a média dos interessados é de \", interessados )\n",
        "      "
      ]
    },
    {
      "cell_type": "code",
      "execution_count": null,
      "id": "4f4eb5b4",
      "metadata": {
        "id": "4f4eb5b4"
      },
      "outputs": [],
      "source": [
        "sns.displot(x=\"Vintage\", data=df_interested)\n",
        "sns.displot(x=\"Vintage\", data=df_)"
      ]
    },
    {
      "cell_type": "markdown",
      "id": "7096f65e",
      "metadata": {
        "id": "7096f65e"
      },
      "source": [
        "### 12 Quais estratégias a empresa pode adotar para captar esses clientes com maior propensão à aceitação do seguro veicular. ****"
      ]
    },
    {
      "cell_type": "markdown",
      "id": "17de9c9d",
      "metadata": {
        "id": "17de9c9d"
      },
      "source": [
        "\"\"\"\n",
        "\n",
        "A squad precisará definir o persona/target do MVP para idear as estratégias de mercado\n",
        "\n",
        "\"\"\""
      ]
    },
    {
      "cell_type": "markdown",
      "id": "a06ceb8c",
      "metadata": {
        "id": "a06ceb8c"
      },
      "source": [
        "### 13 Quais estratégias a empresa pode adotar para captar mais clientes.****"
      ]
    },
    {
      "cell_type": "markdown",
      "id": "d92fdff5",
      "metadata": {
        "id": "d92fdff5"
      },
      "source": [
        "\"\"\"\n",
        "\n",
        "A squad precisará definir o persona/target do MVP para idear as estratégias de mercado\n",
        "\n",
        "\"\"\""
      ]
    },
    {
      "cell_type": "markdown",
      "id": "5c3db845",
      "metadata": {
        "id": "5c3db845"
      },
      "source": [
        "### 14 Como poderíamos melhorar a qualidade do serviço prestado pela seguradora de saúde?"
      ]
    },
    {
      "cell_type": "code",
      "execution_count": null,
      "id": "06d6eb03",
      "metadata": {
        "id": "06d6eb03"
      },
      "outputs": [],
      "source": [
        ""
      ]
    },
    {
      "cell_type": "markdown",
      "id": "2b668d3e",
      "metadata": {
        "id": "2b668d3e"
      },
      "source": [
        "### 15) Por que será que a empresa quer oferecer seguro veicular?"
      ]
    },
    {
      "cell_type": "code",
      "execution_count": null,
      "id": "326ed721",
      "metadata": {
        "id": "326ed721"
      },
      "outputs": [],
      "source": [
        ""
      ]
    },
    {
      "cell_type": "markdown",
      "id": "aadf26a5",
      "metadata": {
        "id": "aadf26a5"
      },
      "source": [
        "### 16) Poderíamos calcular a receita líquida da empresa com os valores apresentados? (fazendo algumas simulações?)"
      ]
    },
    {
      "cell_type": "code",
      "execution_count": null,
      "id": "cf8c1589",
      "metadata": {
        "id": "cf8c1589"
      },
      "outputs": [],
      "source": [
        ""
      ]
    },
    {
      "cell_type": "markdown",
      "id": "4db055e3",
      "metadata": {
        "id": "4db055e3"
      },
      "source": [
        "### 17) Explorar melhor a variável Annual_Premium"
      ]
    },
    {
      "cell_type": "markdown",
      "id": "6918146c",
      "metadata": {
        "id": "6918146c"
      },
      "source": [
        "### 18) Será que as mulheres poderiam receber uma oferta de seguro veicular x saúde diferenciada? O que os dados mostram sobre isso?"
      ]
    },
    {
      "cell_type": "code",
      "execution_count": null,
      "id": "42abdae3",
      "metadata": {
        "id": "42abdae3"
      },
      "outputs": [],
      "source": [
        ""
      ]
    },
    {
      "cell_type": "markdown",
      "id": "2b9fc3a8",
      "metadata": {
        "id": "2b9fc3a8"
      },
      "source": [
        "### 19) Poderemos dar nomes para as variáveis dos atributos Region_Code e Policy_Sales_Channel para brincarmos um pouco mais com os dados?"
      ]
    },
    {
      "cell_type": "code",
      "execution_count": null,
      "id": "d36e1198",
      "metadata": {
        "id": "d36e1198"
      },
      "outputs": [],
      "source": [
        "regiao= df[\"Region_Code\"].value_counts()\n",
        "regiao.sort_values()"
      ]
    },
    {
      "cell_type": "code",
      "execution_count": null,
      "id": "7c5a037b",
      "metadata": {
        "id": "7c5a037b"
      },
      "outputs": [],
      "source": [
        "sns.countplot(x='Region_Code', data= df_, palette='Set1')"
      ]
    },
    {
      "cell_type": "code",
      "execution_count": null,
      "id": "af3b137d",
      "metadata": {
        "id": "af3b137d"
      },
      "outputs": [],
      "source": [
        "canal= df[\"Policy_Sales_Channel\"].value_counts()\n",
        "canal.sort_values()\n",
        "canal"
      ]
    },
    {
      "cell_type": "code",
      "execution_count": null,
      "id": "579d4ef2",
      "metadata": {
        "id": "579d4ef2"
      },
      "outputs": [],
      "source": [
        "canal= df[\"Policy_Sales_Channel\"].value_counts()\n",
        "canal.sort_values()\n",
        "canal\n",
        "sns.countplot(x='Policy_Sales_Channel', data= df_, palette='Set1')"
      ]
    },
    {
      "cell_type": "code",
      "execution_count": null,
      "id": "1ae86f0d",
      "metadata": {
        "id": "1ae86f0d"
      },
      "outputs": [],
      "source": [
        "df_interested.columns"
      ]
    },
    {
      "cell_type": "markdown",
      "id": "4bfa8fc9",
      "metadata": {
        "id": "4bfa8fc9"
      },
      "source": [
        "# Criação do modelo e automação do processo"
      ]
    },
    {
      "cell_type": "code",
      "execution_count": 130,
      "id": "855901b1",
      "metadata": {
        "id": "855901b1",
        "colab": {
          "base_uri": "https://localhost:8080/"
        },
        "outputId": "a4024b1e-ce5e-4fda-d740-d18df8aa47d1"
      },
      "outputs": [
        {
          "output_type": "execute_result",
          "data": {
            "text/plain": [
              "id                        int64\n",
              "Gender                   object\n",
              "Age                       int64\n",
              "Driving_License           int64\n",
              "Region_Code             float64\n",
              "Previously_Insured        int64\n",
              "Vehicle_Age              object\n",
              "Vehicle_Damage           object\n",
              "Annual_Premium          float64\n",
              "Policy_Sales_Channel    float64\n",
              "Vintage                   int64\n",
              "Response                  int64\n",
              "dtype: object"
            ]
          },
          "metadata": {},
          "execution_count": 130
        }
      ],
      "source": [
        "#Criando uma copia do dataset de treino \n",
        "df_train= df.copy()\n",
        "df_train.dtypes"
      ]
    },
    {
      "cell_type": "code",
      "execution_count": 131,
      "id": "e7181738",
      "metadata": {
        "id": "e7181738",
        "colab": {
          "base_uri": "https://localhost:8080/",
          "height": 487
        },
        "outputId": "96ec6385-8fb9-4e61-a1f2-f3ddd6454d4c"
      },
      "outputs": [
        {
          "output_type": "display_data",
          "data": {
            "text/plain": [
              "        Gender  Age  Driving_License  Region_Code  Previously_Insured  \\\n",
              "0         Male   44                1         28.0                   0   \n",
              "1         Male   76                1          3.0                   0   \n",
              "2         Male   47                1         28.0                   0   \n",
              "3         Male   21                1         11.0                   1   \n",
              "4       Female   29                1         41.0                   1   \n",
              "...        ...  ...              ...          ...                 ...   \n",
              "381104    Male   74                1         26.0                   1   \n",
              "381105    Male   30                1         37.0                   1   \n",
              "381106    Male   21                1         30.0                   1   \n",
              "381107  Female   68                1         14.0                   0   \n",
              "381108    Male   46                1         29.0                   0   \n",
              "\n",
              "       Vehicle_Age Vehicle_Damage  Annual_Premium  Policy_Sales_Channel  \\\n",
              "0        > 2 Years            Yes         40454.0                  26.0   \n",
              "1         1-2 Year             No         33536.0                  26.0   \n",
              "2        > 2 Years            Yes         38294.0                  26.0   \n",
              "3         < 1 Year             No         28619.0                 152.0   \n",
              "4         < 1 Year             No         27496.0                 152.0   \n",
              "...            ...            ...             ...                   ...   \n",
              "381104    1-2 Year             No         30170.0                  26.0   \n",
              "381105    < 1 Year             No         40016.0                 152.0   \n",
              "381106    < 1 Year             No         35118.0                 160.0   \n",
              "381107   > 2 Years            Yes         44617.0                 124.0   \n",
              "381108    1-2 Year             No         41777.0                  26.0   \n",
              "\n",
              "        Vintage  Response  \n",
              "0           217         1  \n",
              "1           183         0  \n",
              "2            27         1  \n",
              "3           203         0  \n",
              "4            39         0  \n",
              "...         ...       ...  \n",
              "381104       88         0  \n",
              "381105      131         0  \n",
              "381106      161         0  \n",
              "381107       74         0  \n",
              "381108      237         0  \n",
              "\n",
              "[381109 rows x 11 columns]"
            ],
            "text/html": [
              "\n",
              "  <div id=\"df-1c1cd8a7-9025-4e18-935e-166d9a501a75\">\n",
              "    <div class=\"colab-df-container\">\n",
              "      <div>\n",
              "<style scoped>\n",
              "    .dataframe tbody tr th:only-of-type {\n",
              "        vertical-align: middle;\n",
              "    }\n",
              "\n",
              "    .dataframe tbody tr th {\n",
              "        vertical-align: top;\n",
              "    }\n",
              "\n",
              "    .dataframe thead th {\n",
              "        text-align: right;\n",
              "    }\n",
              "</style>\n",
              "<table border=\"1\" class=\"dataframe\">\n",
              "  <thead>\n",
              "    <tr style=\"text-align: right;\">\n",
              "      <th></th>\n",
              "      <th>Gender</th>\n",
              "      <th>Age</th>\n",
              "      <th>Driving_License</th>\n",
              "      <th>Region_Code</th>\n",
              "      <th>Previously_Insured</th>\n",
              "      <th>Vehicle_Age</th>\n",
              "      <th>Vehicle_Damage</th>\n",
              "      <th>Annual_Premium</th>\n",
              "      <th>Policy_Sales_Channel</th>\n",
              "      <th>Vintage</th>\n",
              "      <th>Response</th>\n",
              "    </tr>\n",
              "  </thead>\n",
              "  <tbody>\n",
              "    <tr>\n",
              "      <th>0</th>\n",
              "      <td>Male</td>\n",
              "      <td>44</td>\n",
              "      <td>1</td>\n",
              "      <td>28.0</td>\n",
              "      <td>0</td>\n",
              "      <td>&gt; 2 Years</td>\n",
              "      <td>Yes</td>\n",
              "      <td>40454.0</td>\n",
              "      <td>26.0</td>\n",
              "      <td>217</td>\n",
              "      <td>1</td>\n",
              "    </tr>\n",
              "    <tr>\n",
              "      <th>1</th>\n",
              "      <td>Male</td>\n",
              "      <td>76</td>\n",
              "      <td>1</td>\n",
              "      <td>3.0</td>\n",
              "      <td>0</td>\n",
              "      <td>1-2 Year</td>\n",
              "      <td>No</td>\n",
              "      <td>33536.0</td>\n",
              "      <td>26.0</td>\n",
              "      <td>183</td>\n",
              "      <td>0</td>\n",
              "    </tr>\n",
              "    <tr>\n",
              "      <th>2</th>\n",
              "      <td>Male</td>\n",
              "      <td>47</td>\n",
              "      <td>1</td>\n",
              "      <td>28.0</td>\n",
              "      <td>0</td>\n",
              "      <td>&gt; 2 Years</td>\n",
              "      <td>Yes</td>\n",
              "      <td>38294.0</td>\n",
              "      <td>26.0</td>\n",
              "      <td>27</td>\n",
              "      <td>1</td>\n",
              "    </tr>\n",
              "    <tr>\n",
              "      <th>3</th>\n",
              "      <td>Male</td>\n",
              "      <td>21</td>\n",
              "      <td>1</td>\n",
              "      <td>11.0</td>\n",
              "      <td>1</td>\n",
              "      <td>&lt; 1 Year</td>\n",
              "      <td>No</td>\n",
              "      <td>28619.0</td>\n",
              "      <td>152.0</td>\n",
              "      <td>203</td>\n",
              "      <td>0</td>\n",
              "    </tr>\n",
              "    <tr>\n",
              "      <th>4</th>\n",
              "      <td>Female</td>\n",
              "      <td>29</td>\n",
              "      <td>1</td>\n",
              "      <td>41.0</td>\n",
              "      <td>1</td>\n",
              "      <td>&lt; 1 Year</td>\n",
              "      <td>No</td>\n",
              "      <td>27496.0</td>\n",
              "      <td>152.0</td>\n",
              "      <td>39</td>\n",
              "      <td>0</td>\n",
              "    </tr>\n",
              "    <tr>\n",
              "      <th>...</th>\n",
              "      <td>...</td>\n",
              "      <td>...</td>\n",
              "      <td>...</td>\n",
              "      <td>...</td>\n",
              "      <td>...</td>\n",
              "      <td>...</td>\n",
              "      <td>...</td>\n",
              "      <td>...</td>\n",
              "      <td>...</td>\n",
              "      <td>...</td>\n",
              "      <td>...</td>\n",
              "    </tr>\n",
              "    <tr>\n",
              "      <th>381104</th>\n",
              "      <td>Male</td>\n",
              "      <td>74</td>\n",
              "      <td>1</td>\n",
              "      <td>26.0</td>\n",
              "      <td>1</td>\n",
              "      <td>1-2 Year</td>\n",
              "      <td>No</td>\n",
              "      <td>30170.0</td>\n",
              "      <td>26.0</td>\n",
              "      <td>88</td>\n",
              "      <td>0</td>\n",
              "    </tr>\n",
              "    <tr>\n",
              "      <th>381105</th>\n",
              "      <td>Male</td>\n",
              "      <td>30</td>\n",
              "      <td>1</td>\n",
              "      <td>37.0</td>\n",
              "      <td>1</td>\n",
              "      <td>&lt; 1 Year</td>\n",
              "      <td>No</td>\n",
              "      <td>40016.0</td>\n",
              "      <td>152.0</td>\n",
              "      <td>131</td>\n",
              "      <td>0</td>\n",
              "    </tr>\n",
              "    <tr>\n",
              "      <th>381106</th>\n",
              "      <td>Male</td>\n",
              "      <td>21</td>\n",
              "      <td>1</td>\n",
              "      <td>30.0</td>\n",
              "      <td>1</td>\n",
              "      <td>&lt; 1 Year</td>\n",
              "      <td>No</td>\n",
              "      <td>35118.0</td>\n",
              "      <td>160.0</td>\n",
              "      <td>161</td>\n",
              "      <td>0</td>\n",
              "    </tr>\n",
              "    <tr>\n",
              "      <th>381107</th>\n",
              "      <td>Female</td>\n",
              "      <td>68</td>\n",
              "      <td>1</td>\n",
              "      <td>14.0</td>\n",
              "      <td>0</td>\n",
              "      <td>&gt; 2 Years</td>\n",
              "      <td>Yes</td>\n",
              "      <td>44617.0</td>\n",
              "      <td>124.0</td>\n",
              "      <td>74</td>\n",
              "      <td>0</td>\n",
              "    </tr>\n",
              "    <tr>\n",
              "      <th>381108</th>\n",
              "      <td>Male</td>\n",
              "      <td>46</td>\n",
              "      <td>1</td>\n",
              "      <td>29.0</td>\n",
              "      <td>0</td>\n",
              "      <td>1-2 Year</td>\n",
              "      <td>No</td>\n",
              "      <td>41777.0</td>\n",
              "      <td>26.0</td>\n",
              "      <td>237</td>\n",
              "      <td>0</td>\n",
              "    </tr>\n",
              "  </tbody>\n",
              "</table>\n",
              "<p>381109 rows × 11 columns</p>\n",
              "</div>\n",
              "      <button class=\"colab-df-convert\" onclick=\"convertToInteractive('df-1c1cd8a7-9025-4e18-935e-166d9a501a75')\"\n",
              "              title=\"Convert this dataframe to an interactive table.\"\n",
              "              style=\"display:none;\">\n",
              "        \n",
              "  <svg xmlns=\"http://www.w3.org/2000/svg\" height=\"24px\"viewBox=\"0 0 24 24\"\n",
              "       width=\"24px\">\n",
              "    <path d=\"M0 0h24v24H0V0z\" fill=\"none\"/>\n",
              "    <path d=\"M18.56 5.44l.94 2.06.94-2.06 2.06-.94-2.06-.94-.94-2.06-.94 2.06-2.06.94zm-11 1L8.5 8.5l.94-2.06 2.06-.94-2.06-.94L8.5 2.5l-.94 2.06-2.06.94zm10 10l.94 2.06.94-2.06 2.06-.94-2.06-.94-.94-2.06-.94 2.06-2.06.94z\"/><path d=\"M17.41 7.96l-1.37-1.37c-.4-.4-.92-.59-1.43-.59-.52 0-1.04.2-1.43.59L10.3 9.45l-7.72 7.72c-.78.78-.78 2.05 0 2.83L4 21.41c.39.39.9.59 1.41.59.51 0 1.02-.2 1.41-.59l7.78-7.78 2.81-2.81c.8-.78.8-2.07 0-2.86zM5.41 20L4 18.59l7.72-7.72 1.47 1.35L5.41 20z\"/>\n",
              "  </svg>\n",
              "      </button>\n",
              "      \n",
              "  <style>\n",
              "    .colab-df-container {\n",
              "      display:flex;\n",
              "      flex-wrap:wrap;\n",
              "      gap: 12px;\n",
              "    }\n",
              "\n",
              "    .colab-df-convert {\n",
              "      background-color: #E8F0FE;\n",
              "      border: none;\n",
              "      border-radius: 50%;\n",
              "      cursor: pointer;\n",
              "      display: none;\n",
              "      fill: #1967D2;\n",
              "      height: 32px;\n",
              "      padding: 0 0 0 0;\n",
              "      width: 32px;\n",
              "    }\n",
              "\n",
              "    .colab-df-convert:hover {\n",
              "      background-color: #E2EBFA;\n",
              "      box-shadow: 0px 1px 2px rgba(60, 64, 67, 0.3), 0px 1px 3px 1px rgba(60, 64, 67, 0.15);\n",
              "      fill: #174EA6;\n",
              "    }\n",
              "\n",
              "    [theme=dark] .colab-df-convert {\n",
              "      background-color: #3B4455;\n",
              "      fill: #D2E3FC;\n",
              "    }\n",
              "\n",
              "    [theme=dark] .colab-df-convert:hover {\n",
              "      background-color: #434B5C;\n",
              "      box-shadow: 0px 1px 3px 1px rgba(0, 0, 0, 0.15);\n",
              "      filter: drop-shadow(0px 1px 2px rgba(0, 0, 0, 0.3));\n",
              "      fill: #FFFFFF;\n",
              "    }\n",
              "  </style>\n",
              "\n",
              "      <script>\n",
              "        const buttonEl =\n",
              "          document.querySelector('#df-1c1cd8a7-9025-4e18-935e-166d9a501a75 button.colab-df-convert');\n",
              "        buttonEl.style.display =\n",
              "          google.colab.kernel.accessAllowed ? 'block' : 'none';\n",
              "\n",
              "        async function convertToInteractive(key) {\n",
              "          const element = document.querySelector('#df-1c1cd8a7-9025-4e18-935e-166d9a501a75');\n",
              "          const dataTable =\n",
              "            await google.colab.kernel.invokeFunction('convertToInteractive',\n",
              "                                                     [key], {});\n",
              "          if (!dataTable) return;\n",
              "\n",
              "          const docLinkHtml = 'Like what you see? Visit the ' +\n",
              "            '<a target=\"_blank\" href=https://colab.research.google.com/notebooks/data_table.ipynb>data table notebook</a>'\n",
              "            + ' to learn more about interactive tables.';\n",
              "          element.innerHTML = '';\n",
              "          dataTable['output_type'] = 'display_data';\n",
              "          await google.colab.output.renderOutput(dataTable, element);\n",
              "          const docLink = document.createElement('div');\n",
              "          docLink.innerHTML = docLinkHtml;\n",
              "          element.appendChild(docLink);\n",
              "        }\n",
              "      </script>\n",
              "    </div>\n",
              "  </div>\n",
              "  "
            ]
          },
          "metadata": {}
        }
      ],
      "source": [
        "#excluindo a coluna \"id\"\n",
        "del df_train['id']\n",
        "display(df_train)"
      ]
    },
    {
      "cell_type": "code",
      "execution_count": 186,
      "id": "4386bbe2",
      "metadata": {
        "id": "4386bbe2"
      },
      "outputs": [],
      "source": [
        "#importando bibliotecas\n",
        "import pandas as pd\n",
        "import numpy as np\n",
        "\n",
        "from sklearn.pipeline import Pipeline, make_pipeline\n",
        "from sklearn.ensemble import RandomForestClassifier\n",
        "from sklearn.linear_model import LogisticRegression\n",
        "from sklearn import tree, svm\n",
        "from sklearn.preprocessing import StandardScaler, MinMaxScaler, OneHotEncoder\n",
        "from sklearn.compose import ColumnTransformer\n",
        "from sklearn.impute import KNNImputer, SimpleImputer #Se necessário...\n",
        "from sklearn.model_selection import train_test_split, KFold, cross_val_score, GridSearchCV"
      ]
    },
    {
      "cell_type": "code",
      "execution_count": 132,
      "id": "d84e86a3",
      "metadata": {
        "id": "d84e86a3"
      },
      "outputs": [],
      "source": [
        "# Separando em X e y\n",
        "\n",
        "X = df_train.drop('Response', axis = 1)\n",
        "y = df_train['Response']\n",
        "\n",
        "# X_treino, X_teste, y_treino, y_teste = train_test_split(X, y)\n",
        "\n",
        "# X_treino.shape, X_teste.shape, y_treino.shape, y_teste.shape"
      ]
    },
    {
      "cell_type": "markdown",
      "id": "271dc1fa",
      "metadata": {
        "id": "271dc1fa"
      },
      "source": [
        "## Cuidando do y"
      ]
    },
    {
      "cell_type": "code",
      "execution_count": null,
      "id": "8ca6c4cd",
      "metadata": {
        "id": "8ca6c4cd"
      },
      "outputs": [],
      "source": [
        ""
      ]
    },
    {
      "cell_type": "markdown",
      "id": "c3eb8a2b",
      "metadata": {
        "id": "c3eb8a2b"
      },
      "source": [
        "## Cuidando do X"
      ]
    },
    {
      "cell_type": "code",
      "source": [
        "#Fazendo uma cópia do X_treino\n",
        "X_trat= X.copy()\n",
        "X_trat"
      ],
      "metadata": {
        "colab": {
          "base_uri": "https://localhost:8080/",
          "height": 487
        },
        "id": "gs_VGp2jjWlS",
        "outputId": "e355d058-ee0c-405b-8e7a-d07b4e6697bc"
      },
      "id": "gs_VGp2jjWlS",
      "execution_count": 136,
      "outputs": [
        {
          "output_type": "execute_result",
          "data": {
            "text/plain": [
              "        Gender  Age  Driving_License  Region_Code  Previously_Insured  \\\n",
              "0         Male   44                1         28.0                   0   \n",
              "1         Male   76                1          3.0                   0   \n",
              "2         Male   47                1         28.0                   0   \n",
              "3         Male   21                1         11.0                   1   \n",
              "4       Female   29                1         41.0                   1   \n",
              "...        ...  ...              ...          ...                 ...   \n",
              "381104    Male   74                1         26.0                   1   \n",
              "381105    Male   30                1         37.0                   1   \n",
              "381106    Male   21                1         30.0                   1   \n",
              "381107  Female   68                1         14.0                   0   \n",
              "381108    Male   46                1         29.0                   0   \n",
              "\n",
              "       Vehicle_Age Vehicle_Damage  Annual_Premium  Policy_Sales_Channel  \\\n",
              "0        > 2 Years            Yes         40454.0                  26.0   \n",
              "1         1-2 Year             No         33536.0                  26.0   \n",
              "2        > 2 Years            Yes         38294.0                  26.0   \n",
              "3         < 1 Year             No         28619.0                 152.0   \n",
              "4         < 1 Year             No         27496.0                 152.0   \n",
              "...            ...            ...             ...                   ...   \n",
              "381104    1-2 Year             No         30170.0                  26.0   \n",
              "381105    < 1 Year             No         40016.0                 152.0   \n",
              "381106    < 1 Year             No         35118.0                 160.0   \n",
              "381107   > 2 Years            Yes         44617.0                 124.0   \n",
              "381108    1-2 Year             No         41777.0                  26.0   \n",
              "\n",
              "        Vintage  \n",
              "0           217  \n",
              "1           183  \n",
              "2            27  \n",
              "3           203  \n",
              "4            39  \n",
              "...         ...  \n",
              "381104       88  \n",
              "381105      131  \n",
              "381106      161  \n",
              "381107       74  \n",
              "381108      237  \n",
              "\n",
              "[381109 rows x 10 columns]"
            ],
            "text/html": [
              "\n",
              "  <div id=\"df-93d06328-8cfb-4403-96df-e29de0dace4b\">\n",
              "    <div class=\"colab-df-container\">\n",
              "      <div>\n",
              "<style scoped>\n",
              "    .dataframe tbody tr th:only-of-type {\n",
              "        vertical-align: middle;\n",
              "    }\n",
              "\n",
              "    .dataframe tbody tr th {\n",
              "        vertical-align: top;\n",
              "    }\n",
              "\n",
              "    .dataframe thead th {\n",
              "        text-align: right;\n",
              "    }\n",
              "</style>\n",
              "<table border=\"1\" class=\"dataframe\">\n",
              "  <thead>\n",
              "    <tr style=\"text-align: right;\">\n",
              "      <th></th>\n",
              "      <th>Gender</th>\n",
              "      <th>Age</th>\n",
              "      <th>Driving_License</th>\n",
              "      <th>Region_Code</th>\n",
              "      <th>Previously_Insured</th>\n",
              "      <th>Vehicle_Age</th>\n",
              "      <th>Vehicle_Damage</th>\n",
              "      <th>Annual_Premium</th>\n",
              "      <th>Policy_Sales_Channel</th>\n",
              "      <th>Vintage</th>\n",
              "    </tr>\n",
              "  </thead>\n",
              "  <tbody>\n",
              "    <tr>\n",
              "      <th>0</th>\n",
              "      <td>Male</td>\n",
              "      <td>44</td>\n",
              "      <td>1</td>\n",
              "      <td>28.0</td>\n",
              "      <td>0</td>\n",
              "      <td>&gt; 2 Years</td>\n",
              "      <td>Yes</td>\n",
              "      <td>40454.0</td>\n",
              "      <td>26.0</td>\n",
              "      <td>217</td>\n",
              "    </tr>\n",
              "    <tr>\n",
              "      <th>1</th>\n",
              "      <td>Male</td>\n",
              "      <td>76</td>\n",
              "      <td>1</td>\n",
              "      <td>3.0</td>\n",
              "      <td>0</td>\n",
              "      <td>1-2 Year</td>\n",
              "      <td>No</td>\n",
              "      <td>33536.0</td>\n",
              "      <td>26.0</td>\n",
              "      <td>183</td>\n",
              "    </tr>\n",
              "    <tr>\n",
              "      <th>2</th>\n",
              "      <td>Male</td>\n",
              "      <td>47</td>\n",
              "      <td>1</td>\n",
              "      <td>28.0</td>\n",
              "      <td>0</td>\n",
              "      <td>&gt; 2 Years</td>\n",
              "      <td>Yes</td>\n",
              "      <td>38294.0</td>\n",
              "      <td>26.0</td>\n",
              "      <td>27</td>\n",
              "    </tr>\n",
              "    <tr>\n",
              "      <th>3</th>\n",
              "      <td>Male</td>\n",
              "      <td>21</td>\n",
              "      <td>1</td>\n",
              "      <td>11.0</td>\n",
              "      <td>1</td>\n",
              "      <td>&lt; 1 Year</td>\n",
              "      <td>No</td>\n",
              "      <td>28619.0</td>\n",
              "      <td>152.0</td>\n",
              "      <td>203</td>\n",
              "    </tr>\n",
              "    <tr>\n",
              "      <th>4</th>\n",
              "      <td>Female</td>\n",
              "      <td>29</td>\n",
              "      <td>1</td>\n",
              "      <td>41.0</td>\n",
              "      <td>1</td>\n",
              "      <td>&lt; 1 Year</td>\n",
              "      <td>No</td>\n",
              "      <td>27496.0</td>\n",
              "      <td>152.0</td>\n",
              "      <td>39</td>\n",
              "    </tr>\n",
              "    <tr>\n",
              "      <th>...</th>\n",
              "      <td>...</td>\n",
              "      <td>...</td>\n",
              "      <td>...</td>\n",
              "      <td>...</td>\n",
              "      <td>...</td>\n",
              "      <td>...</td>\n",
              "      <td>...</td>\n",
              "      <td>...</td>\n",
              "      <td>...</td>\n",
              "      <td>...</td>\n",
              "    </tr>\n",
              "    <tr>\n",
              "      <th>381104</th>\n",
              "      <td>Male</td>\n",
              "      <td>74</td>\n",
              "      <td>1</td>\n",
              "      <td>26.0</td>\n",
              "      <td>1</td>\n",
              "      <td>1-2 Year</td>\n",
              "      <td>No</td>\n",
              "      <td>30170.0</td>\n",
              "      <td>26.0</td>\n",
              "      <td>88</td>\n",
              "    </tr>\n",
              "    <tr>\n",
              "      <th>381105</th>\n",
              "      <td>Male</td>\n",
              "      <td>30</td>\n",
              "      <td>1</td>\n",
              "      <td>37.0</td>\n",
              "      <td>1</td>\n",
              "      <td>&lt; 1 Year</td>\n",
              "      <td>No</td>\n",
              "      <td>40016.0</td>\n",
              "      <td>152.0</td>\n",
              "      <td>131</td>\n",
              "    </tr>\n",
              "    <tr>\n",
              "      <th>381106</th>\n",
              "      <td>Male</td>\n",
              "      <td>21</td>\n",
              "      <td>1</td>\n",
              "      <td>30.0</td>\n",
              "      <td>1</td>\n",
              "      <td>&lt; 1 Year</td>\n",
              "      <td>No</td>\n",
              "      <td>35118.0</td>\n",
              "      <td>160.0</td>\n",
              "      <td>161</td>\n",
              "    </tr>\n",
              "    <tr>\n",
              "      <th>381107</th>\n",
              "      <td>Female</td>\n",
              "      <td>68</td>\n",
              "      <td>1</td>\n",
              "      <td>14.0</td>\n",
              "      <td>0</td>\n",
              "      <td>&gt; 2 Years</td>\n",
              "      <td>Yes</td>\n",
              "      <td>44617.0</td>\n",
              "      <td>124.0</td>\n",
              "      <td>74</td>\n",
              "    </tr>\n",
              "    <tr>\n",
              "      <th>381108</th>\n",
              "      <td>Male</td>\n",
              "      <td>46</td>\n",
              "      <td>1</td>\n",
              "      <td>29.0</td>\n",
              "      <td>0</td>\n",
              "      <td>1-2 Year</td>\n",
              "      <td>No</td>\n",
              "      <td>41777.0</td>\n",
              "      <td>26.0</td>\n",
              "      <td>237</td>\n",
              "    </tr>\n",
              "  </tbody>\n",
              "</table>\n",
              "<p>381109 rows × 10 columns</p>\n",
              "</div>\n",
              "      <button class=\"colab-df-convert\" onclick=\"convertToInteractive('df-93d06328-8cfb-4403-96df-e29de0dace4b')\"\n",
              "              title=\"Convert this dataframe to an interactive table.\"\n",
              "              style=\"display:none;\">\n",
              "        \n",
              "  <svg xmlns=\"http://www.w3.org/2000/svg\" height=\"24px\"viewBox=\"0 0 24 24\"\n",
              "       width=\"24px\">\n",
              "    <path d=\"M0 0h24v24H0V0z\" fill=\"none\"/>\n",
              "    <path d=\"M18.56 5.44l.94 2.06.94-2.06 2.06-.94-2.06-.94-.94-2.06-.94 2.06-2.06.94zm-11 1L8.5 8.5l.94-2.06 2.06-.94-2.06-.94L8.5 2.5l-.94 2.06-2.06.94zm10 10l.94 2.06.94-2.06 2.06-.94-2.06-.94-.94-2.06-.94 2.06-2.06.94z\"/><path d=\"M17.41 7.96l-1.37-1.37c-.4-.4-.92-.59-1.43-.59-.52 0-1.04.2-1.43.59L10.3 9.45l-7.72 7.72c-.78.78-.78 2.05 0 2.83L4 21.41c.39.39.9.59 1.41.59.51 0 1.02-.2 1.41-.59l7.78-7.78 2.81-2.81c.8-.78.8-2.07 0-2.86zM5.41 20L4 18.59l7.72-7.72 1.47 1.35L5.41 20z\"/>\n",
              "  </svg>\n",
              "      </button>\n",
              "      \n",
              "  <style>\n",
              "    .colab-df-container {\n",
              "      display:flex;\n",
              "      flex-wrap:wrap;\n",
              "      gap: 12px;\n",
              "    }\n",
              "\n",
              "    .colab-df-convert {\n",
              "      background-color: #E8F0FE;\n",
              "      border: none;\n",
              "      border-radius: 50%;\n",
              "      cursor: pointer;\n",
              "      display: none;\n",
              "      fill: #1967D2;\n",
              "      height: 32px;\n",
              "      padding: 0 0 0 0;\n",
              "      width: 32px;\n",
              "    }\n",
              "\n",
              "    .colab-df-convert:hover {\n",
              "      background-color: #E2EBFA;\n",
              "      box-shadow: 0px 1px 2px rgba(60, 64, 67, 0.3), 0px 1px 3px 1px rgba(60, 64, 67, 0.15);\n",
              "      fill: #174EA6;\n",
              "    }\n",
              "\n",
              "    [theme=dark] .colab-df-convert {\n",
              "      background-color: #3B4455;\n",
              "      fill: #D2E3FC;\n",
              "    }\n",
              "\n",
              "    [theme=dark] .colab-df-convert:hover {\n",
              "      background-color: #434B5C;\n",
              "      box-shadow: 0px 1px 3px 1px rgba(0, 0, 0, 0.15);\n",
              "      filter: drop-shadow(0px 1px 2px rgba(0, 0, 0, 0.3));\n",
              "      fill: #FFFFFF;\n",
              "    }\n",
              "  </style>\n",
              "\n",
              "      <script>\n",
              "        const buttonEl =\n",
              "          document.querySelector('#df-93d06328-8cfb-4403-96df-e29de0dace4b button.colab-df-convert');\n",
              "        buttonEl.style.display =\n",
              "          google.colab.kernel.accessAllowed ? 'block' : 'none';\n",
              "\n",
              "        async function convertToInteractive(key) {\n",
              "          const element = document.querySelector('#df-93d06328-8cfb-4403-96df-e29de0dace4b');\n",
              "          const dataTable =\n",
              "            await google.colab.kernel.invokeFunction('convertToInteractive',\n",
              "                                                     [key], {});\n",
              "          if (!dataTable) return;\n",
              "\n",
              "          const docLinkHtml = 'Like what you see? Visit the ' +\n",
              "            '<a target=\"_blank\" href=https://colab.research.google.com/notebooks/data_table.ipynb>data table notebook</a>'\n",
              "            + ' to learn more about interactive tables.';\n",
              "          element.innerHTML = '';\n",
              "          dataTable['output_type'] = 'display_data';\n",
              "          await google.colab.output.renderOutput(dataTable, element);\n",
              "          const docLink = document.createElement('div');\n",
              "          docLink.innerHTML = docLinkHtml;\n",
              "          element.appendChild(docLink);\n",
              "        }\n",
              "      </script>\n",
              "    </div>\n",
              "  </div>\n",
              "  "
            ]
          },
          "metadata": {},
          "execution_count": 136
        }
      ]
    },
    {
      "cell_type": "code",
      "execution_count": 137,
      "id": "316d21a6",
      "metadata": {
        "id": "316d21a6",
        "colab": {
          "base_uri": "https://localhost:8080/"
        },
        "outputId": "72468be3-14ce-4d49-fc25-54eece058ba4"
      },
      "outputs": [
        {
          "output_type": "execute_result",
          "data": {
            "text/plain": [
              "Gender                   object\n",
              "Age                       int64\n",
              "Driving_License           int64\n",
              "Region_Code             float64\n",
              "Previously_Insured        int64\n",
              "Vehicle_Age              object\n",
              "Vehicle_Damage           object\n",
              "Annual_Premium          float64\n",
              "Policy_Sales_Channel    float64\n",
              "Vintage                   int64\n",
              "dtype: object"
            ]
          },
          "metadata": {},
          "execution_count": 137
        }
      ],
      "source": [
        "#Verificando o tipo dos dados\n",
        "X_trat.dtypes"
      ]
    },
    {
      "cell_type": "code",
      "execution_count": 138,
      "id": "76fc7b6b",
      "metadata": {
        "id": "76fc7b6b",
        "colab": {
          "base_uri": "https://localhost:8080/",
          "height": 270
        },
        "outputId": "5fe6d3c1-04bd-405d-f345-e62ca8150b10"
      },
      "outputs": [
        {
          "output_type": "execute_result",
          "data": {
            "text/plain": [
              "   Gender  Age  Driving_License  Region_Code  Previously_Insured Vehicle_Age  \\\n",
              "0    Male   44                1         28.0                   0   > 2 Years   \n",
              "1    Male   76                1          3.0                   0    1-2 Year   \n",
              "2    Male   47                1         28.0                   0   > 2 Years   \n",
              "3    Male   21                1         11.0                   1    < 1 Year   \n",
              "4  Female   29                1         41.0                   1    < 1 Year   \n",
              "\n",
              "  Vehicle_Damage  Annual_Premium  Policy_Sales_Channel  Vintage  \n",
              "0            Yes         40454.0                  26.0      217  \n",
              "1             No         33536.0                  26.0      183  \n",
              "2            Yes         38294.0                  26.0       27  \n",
              "3             No         28619.0                 152.0      203  \n",
              "4             No         27496.0                 152.0       39  "
            ],
            "text/html": [
              "\n",
              "  <div id=\"df-2af45aba-6520-423c-9fc3-3f1692b14946\">\n",
              "    <div class=\"colab-df-container\">\n",
              "      <div>\n",
              "<style scoped>\n",
              "    .dataframe tbody tr th:only-of-type {\n",
              "        vertical-align: middle;\n",
              "    }\n",
              "\n",
              "    .dataframe tbody tr th {\n",
              "        vertical-align: top;\n",
              "    }\n",
              "\n",
              "    .dataframe thead th {\n",
              "        text-align: right;\n",
              "    }\n",
              "</style>\n",
              "<table border=\"1\" class=\"dataframe\">\n",
              "  <thead>\n",
              "    <tr style=\"text-align: right;\">\n",
              "      <th></th>\n",
              "      <th>Gender</th>\n",
              "      <th>Age</th>\n",
              "      <th>Driving_License</th>\n",
              "      <th>Region_Code</th>\n",
              "      <th>Previously_Insured</th>\n",
              "      <th>Vehicle_Age</th>\n",
              "      <th>Vehicle_Damage</th>\n",
              "      <th>Annual_Premium</th>\n",
              "      <th>Policy_Sales_Channel</th>\n",
              "      <th>Vintage</th>\n",
              "    </tr>\n",
              "  </thead>\n",
              "  <tbody>\n",
              "    <tr>\n",
              "      <th>0</th>\n",
              "      <td>Male</td>\n",
              "      <td>44</td>\n",
              "      <td>1</td>\n",
              "      <td>28.0</td>\n",
              "      <td>0</td>\n",
              "      <td>&gt; 2 Years</td>\n",
              "      <td>Yes</td>\n",
              "      <td>40454.0</td>\n",
              "      <td>26.0</td>\n",
              "      <td>217</td>\n",
              "    </tr>\n",
              "    <tr>\n",
              "      <th>1</th>\n",
              "      <td>Male</td>\n",
              "      <td>76</td>\n",
              "      <td>1</td>\n",
              "      <td>3.0</td>\n",
              "      <td>0</td>\n",
              "      <td>1-2 Year</td>\n",
              "      <td>No</td>\n",
              "      <td>33536.0</td>\n",
              "      <td>26.0</td>\n",
              "      <td>183</td>\n",
              "    </tr>\n",
              "    <tr>\n",
              "      <th>2</th>\n",
              "      <td>Male</td>\n",
              "      <td>47</td>\n",
              "      <td>1</td>\n",
              "      <td>28.0</td>\n",
              "      <td>0</td>\n",
              "      <td>&gt; 2 Years</td>\n",
              "      <td>Yes</td>\n",
              "      <td>38294.0</td>\n",
              "      <td>26.0</td>\n",
              "      <td>27</td>\n",
              "    </tr>\n",
              "    <tr>\n",
              "      <th>3</th>\n",
              "      <td>Male</td>\n",
              "      <td>21</td>\n",
              "      <td>1</td>\n",
              "      <td>11.0</td>\n",
              "      <td>1</td>\n",
              "      <td>&lt; 1 Year</td>\n",
              "      <td>No</td>\n",
              "      <td>28619.0</td>\n",
              "      <td>152.0</td>\n",
              "      <td>203</td>\n",
              "    </tr>\n",
              "    <tr>\n",
              "      <th>4</th>\n",
              "      <td>Female</td>\n",
              "      <td>29</td>\n",
              "      <td>1</td>\n",
              "      <td>41.0</td>\n",
              "      <td>1</td>\n",
              "      <td>&lt; 1 Year</td>\n",
              "      <td>No</td>\n",
              "      <td>27496.0</td>\n",
              "      <td>152.0</td>\n",
              "      <td>39</td>\n",
              "    </tr>\n",
              "  </tbody>\n",
              "</table>\n",
              "</div>\n",
              "      <button class=\"colab-df-convert\" onclick=\"convertToInteractive('df-2af45aba-6520-423c-9fc3-3f1692b14946')\"\n",
              "              title=\"Convert this dataframe to an interactive table.\"\n",
              "              style=\"display:none;\">\n",
              "        \n",
              "  <svg xmlns=\"http://www.w3.org/2000/svg\" height=\"24px\"viewBox=\"0 0 24 24\"\n",
              "       width=\"24px\">\n",
              "    <path d=\"M0 0h24v24H0V0z\" fill=\"none\"/>\n",
              "    <path d=\"M18.56 5.44l.94 2.06.94-2.06 2.06-.94-2.06-.94-.94-2.06-.94 2.06-2.06.94zm-11 1L8.5 8.5l.94-2.06 2.06-.94-2.06-.94L8.5 2.5l-.94 2.06-2.06.94zm10 10l.94 2.06.94-2.06 2.06-.94-2.06-.94-.94-2.06-.94 2.06-2.06.94z\"/><path d=\"M17.41 7.96l-1.37-1.37c-.4-.4-.92-.59-1.43-.59-.52 0-1.04.2-1.43.59L10.3 9.45l-7.72 7.72c-.78.78-.78 2.05 0 2.83L4 21.41c.39.39.9.59 1.41.59.51 0 1.02-.2 1.41-.59l7.78-7.78 2.81-2.81c.8-.78.8-2.07 0-2.86zM5.41 20L4 18.59l7.72-7.72 1.47 1.35L5.41 20z\"/>\n",
              "  </svg>\n",
              "      </button>\n",
              "      \n",
              "  <style>\n",
              "    .colab-df-container {\n",
              "      display:flex;\n",
              "      flex-wrap:wrap;\n",
              "      gap: 12px;\n",
              "    }\n",
              "\n",
              "    .colab-df-convert {\n",
              "      background-color: #E8F0FE;\n",
              "      border: none;\n",
              "      border-radius: 50%;\n",
              "      cursor: pointer;\n",
              "      display: none;\n",
              "      fill: #1967D2;\n",
              "      height: 32px;\n",
              "      padding: 0 0 0 0;\n",
              "      width: 32px;\n",
              "    }\n",
              "\n",
              "    .colab-df-convert:hover {\n",
              "      background-color: #E2EBFA;\n",
              "      box-shadow: 0px 1px 2px rgba(60, 64, 67, 0.3), 0px 1px 3px 1px rgba(60, 64, 67, 0.15);\n",
              "      fill: #174EA6;\n",
              "    }\n",
              "\n",
              "    [theme=dark] .colab-df-convert {\n",
              "      background-color: #3B4455;\n",
              "      fill: #D2E3FC;\n",
              "    }\n",
              "\n",
              "    [theme=dark] .colab-df-convert:hover {\n",
              "      background-color: #434B5C;\n",
              "      box-shadow: 0px 1px 3px 1px rgba(0, 0, 0, 0.15);\n",
              "      filter: drop-shadow(0px 1px 2px rgba(0, 0, 0, 0.3));\n",
              "      fill: #FFFFFF;\n",
              "    }\n",
              "  </style>\n",
              "\n",
              "      <script>\n",
              "        const buttonEl =\n",
              "          document.querySelector('#df-2af45aba-6520-423c-9fc3-3f1692b14946 button.colab-df-convert');\n",
              "        buttonEl.style.display =\n",
              "          google.colab.kernel.accessAllowed ? 'block' : 'none';\n",
              "\n",
              "        async function convertToInteractive(key) {\n",
              "          const element = document.querySelector('#df-2af45aba-6520-423c-9fc3-3f1692b14946');\n",
              "          const dataTable =\n",
              "            await google.colab.kernel.invokeFunction('convertToInteractive',\n",
              "                                                     [key], {});\n",
              "          if (!dataTable) return;\n",
              "\n",
              "          const docLinkHtml = 'Like what you see? Visit the ' +\n",
              "            '<a target=\"_blank\" href=https://colab.research.google.com/notebooks/data_table.ipynb>data table notebook</a>'\n",
              "            + ' to learn more about interactive tables.';\n",
              "          element.innerHTML = '';\n",
              "          dataTable['output_type'] = 'display_data';\n",
              "          await google.colab.output.renderOutput(dataTable, element);\n",
              "          const docLink = document.createElement('div');\n",
              "          docLink.innerHTML = docLinkHtml;\n",
              "          element.appendChild(docLink);\n",
              "        }\n",
              "      </script>\n",
              "    </div>\n",
              "  </div>\n",
              "  "
            ]
          },
          "metadata": {},
          "execution_count": 138
        }
      ],
      "source": [
        "#Verificando o dataset\n",
        "X_trat.head()"
      ]
    },
    {
      "cell_type": "markdown",
      "source": [
        "### Tratando a coluna Region_Code"
      ],
      "metadata": {
        "id": "_8oTcgbQ9cC8"
      },
      "id": "_8oTcgbQ9cC8"
    },
    {
      "cell_type": "code",
      "source": [
        "#Criando a coluna UF para receber Region_Code\n",
        "X_trat[\"UF\"]= \"NaN\"\n",
        "X_trat.sample(5)"
      ],
      "metadata": {
        "id": "x4adugZJmQCu",
        "colab": {
          "base_uri": "https://localhost:8080/",
          "height": 270
        },
        "outputId": "3c78199d-822b-4c18-b0b6-f61bf658bb4a"
      },
      "id": "x4adugZJmQCu",
      "execution_count": 139,
      "outputs": [
        {
          "output_type": "execute_result",
          "data": {
            "text/plain": [
              "        Gender  Age  Driving_License  Region_Code  Previously_Insured  \\\n",
              "88782   Female   42                1         33.0                   0   \n",
              "169276    Male   42                1         28.0                   0   \n",
              "31510     Male   37                1         28.0                   1   \n",
              "372625    Male   51                1         28.0                   0   \n",
              "152889    Male   22                1         28.0                   1   \n",
              "\n",
              "       Vehicle_Age Vehicle_Damage  Annual_Premium  Policy_Sales_Channel  \\\n",
              "88782     1-2 Year            Yes         24809.0                 124.0   \n",
              "169276    1-2 Year            Yes          2630.0                 158.0   \n",
              "31510     1-2 Year             No         56697.0                  13.0   \n",
              "372625    1-2 Year            Yes         38629.0                  26.0   \n",
              "152889    < 1 Year             No         28463.0                 152.0   \n",
              "\n",
              "        Vintage   UF  \n",
              "88782       211  NaN  \n",
              "169276       50  NaN  \n",
              "31510       158  NaN  \n",
              "372625      245  NaN  \n",
              "152889      127  NaN  "
            ],
            "text/html": [
              "\n",
              "  <div id=\"df-76184de8-44a5-4a2b-8648-9361ae306e80\">\n",
              "    <div class=\"colab-df-container\">\n",
              "      <div>\n",
              "<style scoped>\n",
              "    .dataframe tbody tr th:only-of-type {\n",
              "        vertical-align: middle;\n",
              "    }\n",
              "\n",
              "    .dataframe tbody tr th {\n",
              "        vertical-align: top;\n",
              "    }\n",
              "\n",
              "    .dataframe thead th {\n",
              "        text-align: right;\n",
              "    }\n",
              "</style>\n",
              "<table border=\"1\" class=\"dataframe\">\n",
              "  <thead>\n",
              "    <tr style=\"text-align: right;\">\n",
              "      <th></th>\n",
              "      <th>Gender</th>\n",
              "      <th>Age</th>\n",
              "      <th>Driving_License</th>\n",
              "      <th>Region_Code</th>\n",
              "      <th>Previously_Insured</th>\n",
              "      <th>Vehicle_Age</th>\n",
              "      <th>Vehicle_Damage</th>\n",
              "      <th>Annual_Premium</th>\n",
              "      <th>Policy_Sales_Channel</th>\n",
              "      <th>Vintage</th>\n",
              "      <th>UF</th>\n",
              "    </tr>\n",
              "  </thead>\n",
              "  <tbody>\n",
              "    <tr>\n",
              "      <th>88782</th>\n",
              "      <td>Female</td>\n",
              "      <td>42</td>\n",
              "      <td>1</td>\n",
              "      <td>33.0</td>\n",
              "      <td>0</td>\n",
              "      <td>1-2 Year</td>\n",
              "      <td>Yes</td>\n",
              "      <td>24809.0</td>\n",
              "      <td>124.0</td>\n",
              "      <td>211</td>\n",
              "      <td>NaN</td>\n",
              "    </tr>\n",
              "    <tr>\n",
              "      <th>169276</th>\n",
              "      <td>Male</td>\n",
              "      <td>42</td>\n",
              "      <td>1</td>\n",
              "      <td>28.0</td>\n",
              "      <td>0</td>\n",
              "      <td>1-2 Year</td>\n",
              "      <td>Yes</td>\n",
              "      <td>2630.0</td>\n",
              "      <td>158.0</td>\n",
              "      <td>50</td>\n",
              "      <td>NaN</td>\n",
              "    </tr>\n",
              "    <tr>\n",
              "      <th>31510</th>\n",
              "      <td>Male</td>\n",
              "      <td>37</td>\n",
              "      <td>1</td>\n",
              "      <td>28.0</td>\n",
              "      <td>1</td>\n",
              "      <td>1-2 Year</td>\n",
              "      <td>No</td>\n",
              "      <td>56697.0</td>\n",
              "      <td>13.0</td>\n",
              "      <td>158</td>\n",
              "      <td>NaN</td>\n",
              "    </tr>\n",
              "    <tr>\n",
              "      <th>372625</th>\n",
              "      <td>Male</td>\n",
              "      <td>51</td>\n",
              "      <td>1</td>\n",
              "      <td>28.0</td>\n",
              "      <td>0</td>\n",
              "      <td>1-2 Year</td>\n",
              "      <td>Yes</td>\n",
              "      <td>38629.0</td>\n",
              "      <td>26.0</td>\n",
              "      <td>245</td>\n",
              "      <td>NaN</td>\n",
              "    </tr>\n",
              "    <tr>\n",
              "      <th>152889</th>\n",
              "      <td>Male</td>\n",
              "      <td>22</td>\n",
              "      <td>1</td>\n",
              "      <td>28.0</td>\n",
              "      <td>1</td>\n",
              "      <td>&lt; 1 Year</td>\n",
              "      <td>No</td>\n",
              "      <td>28463.0</td>\n",
              "      <td>152.0</td>\n",
              "      <td>127</td>\n",
              "      <td>NaN</td>\n",
              "    </tr>\n",
              "  </tbody>\n",
              "</table>\n",
              "</div>\n",
              "      <button class=\"colab-df-convert\" onclick=\"convertToInteractive('df-76184de8-44a5-4a2b-8648-9361ae306e80')\"\n",
              "              title=\"Convert this dataframe to an interactive table.\"\n",
              "              style=\"display:none;\">\n",
              "        \n",
              "  <svg xmlns=\"http://www.w3.org/2000/svg\" height=\"24px\"viewBox=\"0 0 24 24\"\n",
              "       width=\"24px\">\n",
              "    <path d=\"M0 0h24v24H0V0z\" fill=\"none\"/>\n",
              "    <path d=\"M18.56 5.44l.94 2.06.94-2.06 2.06-.94-2.06-.94-.94-2.06-.94 2.06-2.06.94zm-11 1L8.5 8.5l.94-2.06 2.06-.94-2.06-.94L8.5 2.5l-.94 2.06-2.06.94zm10 10l.94 2.06.94-2.06 2.06-.94-2.06-.94-.94-2.06-.94 2.06-2.06.94z\"/><path d=\"M17.41 7.96l-1.37-1.37c-.4-.4-.92-.59-1.43-.59-.52 0-1.04.2-1.43.59L10.3 9.45l-7.72 7.72c-.78.78-.78 2.05 0 2.83L4 21.41c.39.39.9.59 1.41.59.51 0 1.02-.2 1.41-.59l7.78-7.78 2.81-2.81c.8-.78.8-2.07 0-2.86zM5.41 20L4 18.59l7.72-7.72 1.47 1.35L5.41 20z\"/>\n",
              "  </svg>\n",
              "      </button>\n",
              "      \n",
              "  <style>\n",
              "    .colab-df-container {\n",
              "      display:flex;\n",
              "      flex-wrap:wrap;\n",
              "      gap: 12px;\n",
              "    }\n",
              "\n",
              "    .colab-df-convert {\n",
              "      background-color: #E8F0FE;\n",
              "      border: none;\n",
              "      border-radius: 50%;\n",
              "      cursor: pointer;\n",
              "      display: none;\n",
              "      fill: #1967D2;\n",
              "      height: 32px;\n",
              "      padding: 0 0 0 0;\n",
              "      width: 32px;\n",
              "    }\n",
              "\n",
              "    .colab-df-convert:hover {\n",
              "      background-color: #E2EBFA;\n",
              "      box-shadow: 0px 1px 2px rgba(60, 64, 67, 0.3), 0px 1px 3px 1px rgba(60, 64, 67, 0.15);\n",
              "      fill: #174EA6;\n",
              "    }\n",
              "\n",
              "    [theme=dark] .colab-df-convert {\n",
              "      background-color: #3B4455;\n",
              "      fill: #D2E3FC;\n",
              "    }\n",
              "\n",
              "    [theme=dark] .colab-df-convert:hover {\n",
              "      background-color: #434B5C;\n",
              "      box-shadow: 0px 1px 3px 1px rgba(0, 0, 0, 0.15);\n",
              "      filter: drop-shadow(0px 1px 2px rgba(0, 0, 0, 0.3));\n",
              "      fill: #FFFFFF;\n",
              "    }\n",
              "  </style>\n",
              "\n",
              "      <script>\n",
              "        const buttonEl =\n",
              "          document.querySelector('#df-76184de8-44a5-4a2b-8648-9361ae306e80 button.colab-df-convert');\n",
              "        buttonEl.style.display =\n",
              "          google.colab.kernel.accessAllowed ? 'block' : 'none';\n",
              "\n",
              "        async function convertToInteractive(key) {\n",
              "          const element = document.querySelector('#df-76184de8-44a5-4a2b-8648-9361ae306e80');\n",
              "          const dataTable =\n",
              "            await google.colab.kernel.invokeFunction('convertToInteractive',\n",
              "                                                     [key], {});\n",
              "          if (!dataTable) return;\n",
              "\n",
              "          const docLinkHtml = 'Like what you see? Visit the ' +\n",
              "            '<a target=\"_blank\" href=https://colab.research.google.com/notebooks/data_table.ipynb>data table notebook</a>'\n",
              "            + ' to learn more about interactive tables.';\n",
              "          element.innerHTML = '';\n",
              "          dataTable['output_type'] = 'display_data';\n",
              "          await google.colab.output.renderOutput(dataTable, element);\n",
              "          const docLink = document.createElement('div');\n",
              "          docLink.innerHTML = docLinkHtml;\n",
              "          element.appendChild(docLink);\n",
              "        }\n",
              "      </script>\n",
              "    </div>\n",
              "  </div>\n",
              "  "
            ]
          },
          "metadata": {},
          "execution_count": 139
        }
      ]
    },
    {
      "cell_type": "code",
      "source": [
        "#Carregando o arquivo com Region_Code e UF. Vamos utilizar apenas as colunas Region_Code e UF\n",
        "#Valores baseados de acordo com dados da Frota Nacional(dezembro/2021) divulgado pelo Ministério da infraestrutura\n",
        "#link: https://www.gov.br/infraestrutura/pt-br/assuntos/transito/conteudo-denatran/frota-de-veiculos-2021 \n",
        "\n",
        "ufs = pd.read_excel(\"/content/drive/MyDrive/Colab Notebooks/Stack/UFs.xlsx\")\n",
        "regiao = ufs[[\"Region_Code\", \"UF\"]]\n"
      ],
      "metadata": {
        "id": "Yv_oqA_kyTA7"
      },
      "id": "Yv_oqA_kyTA7",
      "execution_count": 140,
      "outputs": []
    },
    {
      "cell_type": "code",
      "source": [
        "#Vamos transformar o dataset em dicionários para podermos mapear com o dataset de treino\n",
        "d =  dict([(i,a) for i,a in zip(regiao['Region_Code'], regiao['UF'])])\n",
        "print(d)"
      ],
      "metadata": {
        "colab": {
          "base_uri": "https://localhost:8080/"
        },
        "id": "fCONB0m15y8D",
        "outputId": "6b859513-3de3-4b55-809e-0c310a24d040"
      },
      "id": "fCONB0m15y8D",
      "execution_count": 141,
      "outputs": [
        {
          "output_type": "stream",
          "name": "stdout",
          "text": [
            "{28.0: 'SP', 8.0: 'MG', 46.0: 'MG', 41.0: 'RJ', 15.0: 'RJ', 30.0: 'ES', 29.0: 'ES', 50.0: 'ES', 3.0: 'ES', 11.0: 'PR', 36.0: 'PR', 33.0: 'PR', 47.0: 'PR', 35.0: 'PR', 6.0: 'PR', 45.0: 'RS', 37.0: 'RS', 18.0: 'RS', 48.0: 'RS', 14.0: 'SC', 39.0: 'SC', 10.0: 'SC', 21.0: 'SC', 13.0: 'PI', 2.0: 'RN', 7.0: 'AL', 12.0: 'SE', 9.0: 'BA', 27.0: 'CE', 32.0: 'MA', 43.0: 'PB', 17.0: 'PE', 26.0: 'GO', 25.0: 'GO', 24.0: 'GO', 38.0: 'GO', 16.0: 'GO', 31.0: 'MT', 0.0: 'MT', 23.0: 'MT', 20.0: 'MT', 49.0: 'MS', 4.0: 'MS', 34.0: 'MS', 19.0: 'DF', 22.0: 'DF', 5.0: 'PA', 40.0: 'RO', 1.0: 'AM', 44.0: 'TO', 42.0: 'AC', 52.0: 'RR', 51.0: 'AP'}\n"
          ]
        }
      ]
    },
    {
      "cell_type": "code",
      "source": [
        "#Usando a função .map para atribuir UF ao Region_Code\n",
        "X_trat[\"UF\"] = X_trat[\"Region_Code\"].map(d)\n",
        "X_trat"
      ],
      "metadata": {
        "colab": {
          "base_uri": "https://localhost:8080/",
          "height": 487
        },
        "id": "W5lSy6HTgoOH",
        "outputId": "7cee70a3-a0f9-448e-8744-a1c3cdc56b56"
      },
      "id": "W5lSy6HTgoOH",
      "execution_count": 142,
      "outputs": [
        {
          "output_type": "execute_result",
          "data": {
            "text/plain": [
              "        Gender  Age  Driving_License  Region_Code  Previously_Insured  \\\n",
              "0         Male   44                1         28.0                   0   \n",
              "1         Male   76                1          3.0                   0   \n",
              "2         Male   47                1         28.0                   0   \n",
              "3         Male   21                1         11.0                   1   \n",
              "4       Female   29                1         41.0                   1   \n",
              "...        ...  ...              ...          ...                 ...   \n",
              "381104    Male   74                1         26.0                   1   \n",
              "381105    Male   30                1         37.0                   1   \n",
              "381106    Male   21                1         30.0                   1   \n",
              "381107  Female   68                1         14.0                   0   \n",
              "381108    Male   46                1         29.0                   0   \n",
              "\n",
              "       Vehicle_Age Vehicle_Damage  Annual_Premium  Policy_Sales_Channel  \\\n",
              "0        > 2 Years            Yes         40454.0                  26.0   \n",
              "1         1-2 Year             No         33536.0                  26.0   \n",
              "2        > 2 Years            Yes         38294.0                  26.0   \n",
              "3         < 1 Year             No         28619.0                 152.0   \n",
              "4         < 1 Year             No         27496.0                 152.0   \n",
              "...            ...            ...             ...                   ...   \n",
              "381104    1-2 Year             No         30170.0                  26.0   \n",
              "381105    < 1 Year             No         40016.0                 152.0   \n",
              "381106    < 1 Year             No         35118.0                 160.0   \n",
              "381107   > 2 Years            Yes         44617.0                 124.0   \n",
              "381108    1-2 Year             No         41777.0                  26.0   \n",
              "\n",
              "        Vintage  UF  \n",
              "0           217  SP  \n",
              "1           183  ES  \n",
              "2            27  SP  \n",
              "3           203  PR  \n",
              "4            39  RJ  \n",
              "...         ...  ..  \n",
              "381104       88  GO  \n",
              "381105      131  RS  \n",
              "381106      161  ES  \n",
              "381107       74  SC  \n",
              "381108      237  ES  \n",
              "\n",
              "[381109 rows x 11 columns]"
            ],
            "text/html": [
              "\n",
              "  <div id=\"df-e27d836a-5377-4bfa-aa8b-341a156da1e1\">\n",
              "    <div class=\"colab-df-container\">\n",
              "      <div>\n",
              "<style scoped>\n",
              "    .dataframe tbody tr th:only-of-type {\n",
              "        vertical-align: middle;\n",
              "    }\n",
              "\n",
              "    .dataframe tbody tr th {\n",
              "        vertical-align: top;\n",
              "    }\n",
              "\n",
              "    .dataframe thead th {\n",
              "        text-align: right;\n",
              "    }\n",
              "</style>\n",
              "<table border=\"1\" class=\"dataframe\">\n",
              "  <thead>\n",
              "    <tr style=\"text-align: right;\">\n",
              "      <th></th>\n",
              "      <th>Gender</th>\n",
              "      <th>Age</th>\n",
              "      <th>Driving_License</th>\n",
              "      <th>Region_Code</th>\n",
              "      <th>Previously_Insured</th>\n",
              "      <th>Vehicle_Age</th>\n",
              "      <th>Vehicle_Damage</th>\n",
              "      <th>Annual_Premium</th>\n",
              "      <th>Policy_Sales_Channel</th>\n",
              "      <th>Vintage</th>\n",
              "      <th>UF</th>\n",
              "    </tr>\n",
              "  </thead>\n",
              "  <tbody>\n",
              "    <tr>\n",
              "      <th>0</th>\n",
              "      <td>Male</td>\n",
              "      <td>44</td>\n",
              "      <td>1</td>\n",
              "      <td>28.0</td>\n",
              "      <td>0</td>\n",
              "      <td>&gt; 2 Years</td>\n",
              "      <td>Yes</td>\n",
              "      <td>40454.0</td>\n",
              "      <td>26.0</td>\n",
              "      <td>217</td>\n",
              "      <td>SP</td>\n",
              "    </tr>\n",
              "    <tr>\n",
              "      <th>1</th>\n",
              "      <td>Male</td>\n",
              "      <td>76</td>\n",
              "      <td>1</td>\n",
              "      <td>3.0</td>\n",
              "      <td>0</td>\n",
              "      <td>1-2 Year</td>\n",
              "      <td>No</td>\n",
              "      <td>33536.0</td>\n",
              "      <td>26.0</td>\n",
              "      <td>183</td>\n",
              "      <td>ES</td>\n",
              "    </tr>\n",
              "    <tr>\n",
              "      <th>2</th>\n",
              "      <td>Male</td>\n",
              "      <td>47</td>\n",
              "      <td>1</td>\n",
              "      <td>28.0</td>\n",
              "      <td>0</td>\n",
              "      <td>&gt; 2 Years</td>\n",
              "      <td>Yes</td>\n",
              "      <td>38294.0</td>\n",
              "      <td>26.0</td>\n",
              "      <td>27</td>\n",
              "      <td>SP</td>\n",
              "    </tr>\n",
              "    <tr>\n",
              "      <th>3</th>\n",
              "      <td>Male</td>\n",
              "      <td>21</td>\n",
              "      <td>1</td>\n",
              "      <td>11.0</td>\n",
              "      <td>1</td>\n",
              "      <td>&lt; 1 Year</td>\n",
              "      <td>No</td>\n",
              "      <td>28619.0</td>\n",
              "      <td>152.0</td>\n",
              "      <td>203</td>\n",
              "      <td>PR</td>\n",
              "    </tr>\n",
              "    <tr>\n",
              "      <th>4</th>\n",
              "      <td>Female</td>\n",
              "      <td>29</td>\n",
              "      <td>1</td>\n",
              "      <td>41.0</td>\n",
              "      <td>1</td>\n",
              "      <td>&lt; 1 Year</td>\n",
              "      <td>No</td>\n",
              "      <td>27496.0</td>\n",
              "      <td>152.0</td>\n",
              "      <td>39</td>\n",
              "      <td>RJ</td>\n",
              "    </tr>\n",
              "    <tr>\n",
              "      <th>...</th>\n",
              "      <td>...</td>\n",
              "      <td>...</td>\n",
              "      <td>...</td>\n",
              "      <td>...</td>\n",
              "      <td>...</td>\n",
              "      <td>...</td>\n",
              "      <td>...</td>\n",
              "      <td>...</td>\n",
              "      <td>...</td>\n",
              "      <td>...</td>\n",
              "      <td>...</td>\n",
              "    </tr>\n",
              "    <tr>\n",
              "      <th>381104</th>\n",
              "      <td>Male</td>\n",
              "      <td>74</td>\n",
              "      <td>1</td>\n",
              "      <td>26.0</td>\n",
              "      <td>1</td>\n",
              "      <td>1-2 Year</td>\n",
              "      <td>No</td>\n",
              "      <td>30170.0</td>\n",
              "      <td>26.0</td>\n",
              "      <td>88</td>\n",
              "      <td>GO</td>\n",
              "    </tr>\n",
              "    <tr>\n",
              "      <th>381105</th>\n",
              "      <td>Male</td>\n",
              "      <td>30</td>\n",
              "      <td>1</td>\n",
              "      <td>37.0</td>\n",
              "      <td>1</td>\n",
              "      <td>&lt; 1 Year</td>\n",
              "      <td>No</td>\n",
              "      <td>40016.0</td>\n",
              "      <td>152.0</td>\n",
              "      <td>131</td>\n",
              "      <td>RS</td>\n",
              "    </tr>\n",
              "    <tr>\n",
              "      <th>381106</th>\n",
              "      <td>Male</td>\n",
              "      <td>21</td>\n",
              "      <td>1</td>\n",
              "      <td>30.0</td>\n",
              "      <td>1</td>\n",
              "      <td>&lt; 1 Year</td>\n",
              "      <td>No</td>\n",
              "      <td>35118.0</td>\n",
              "      <td>160.0</td>\n",
              "      <td>161</td>\n",
              "      <td>ES</td>\n",
              "    </tr>\n",
              "    <tr>\n",
              "      <th>381107</th>\n",
              "      <td>Female</td>\n",
              "      <td>68</td>\n",
              "      <td>1</td>\n",
              "      <td>14.0</td>\n",
              "      <td>0</td>\n",
              "      <td>&gt; 2 Years</td>\n",
              "      <td>Yes</td>\n",
              "      <td>44617.0</td>\n",
              "      <td>124.0</td>\n",
              "      <td>74</td>\n",
              "      <td>SC</td>\n",
              "    </tr>\n",
              "    <tr>\n",
              "      <th>381108</th>\n",
              "      <td>Male</td>\n",
              "      <td>46</td>\n",
              "      <td>1</td>\n",
              "      <td>29.0</td>\n",
              "      <td>0</td>\n",
              "      <td>1-2 Year</td>\n",
              "      <td>No</td>\n",
              "      <td>41777.0</td>\n",
              "      <td>26.0</td>\n",
              "      <td>237</td>\n",
              "      <td>ES</td>\n",
              "    </tr>\n",
              "  </tbody>\n",
              "</table>\n",
              "<p>381109 rows × 11 columns</p>\n",
              "</div>\n",
              "      <button class=\"colab-df-convert\" onclick=\"convertToInteractive('df-e27d836a-5377-4bfa-aa8b-341a156da1e1')\"\n",
              "              title=\"Convert this dataframe to an interactive table.\"\n",
              "              style=\"display:none;\">\n",
              "        \n",
              "  <svg xmlns=\"http://www.w3.org/2000/svg\" height=\"24px\"viewBox=\"0 0 24 24\"\n",
              "       width=\"24px\">\n",
              "    <path d=\"M0 0h24v24H0V0z\" fill=\"none\"/>\n",
              "    <path d=\"M18.56 5.44l.94 2.06.94-2.06 2.06-.94-2.06-.94-.94-2.06-.94 2.06-2.06.94zm-11 1L8.5 8.5l.94-2.06 2.06-.94-2.06-.94L8.5 2.5l-.94 2.06-2.06.94zm10 10l.94 2.06.94-2.06 2.06-.94-2.06-.94-.94-2.06-.94 2.06-2.06.94z\"/><path d=\"M17.41 7.96l-1.37-1.37c-.4-.4-.92-.59-1.43-.59-.52 0-1.04.2-1.43.59L10.3 9.45l-7.72 7.72c-.78.78-.78 2.05 0 2.83L4 21.41c.39.39.9.59 1.41.59.51 0 1.02-.2 1.41-.59l7.78-7.78 2.81-2.81c.8-.78.8-2.07 0-2.86zM5.41 20L4 18.59l7.72-7.72 1.47 1.35L5.41 20z\"/>\n",
              "  </svg>\n",
              "      </button>\n",
              "      \n",
              "  <style>\n",
              "    .colab-df-container {\n",
              "      display:flex;\n",
              "      flex-wrap:wrap;\n",
              "      gap: 12px;\n",
              "    }\n",
              "\n",
              "    .colab-df-convert {\n",
              "      background-color: #E8F0FE;\n",
              "      border: none;\n",
              "      border-radius: 50%;\n",
              "      cursor: pointer;\n",
              "      display: none;\n",
              "      fill: #1967D2;\n",
              "      height: 32px;\n",
              "      padding: 0 0 0 0;\n",
              "      width: 32px;\n",
              "    }\n",
              "\n",
              "    .colab-df-convert:hover {\n",
              "      background-color: #E2EBFA;\n",
              "      box-shadow: 0px 1px 2px rgba(60, 64, 67, 0.3), 0px 1px 3px 1px rgba(60, 64, 67, 0.15);\n",
              "      fill: #174EA6;\n",
              "    }\n",
              "\n",
              "    [theme=dark] .colab-df-convert {\n",
              "      background-color: #3B4455;\n",
              "      fill: #D2E3FC;\n",
              "    }\n",
              "\n",
              "    [theme=dark] .colab-df-convert:hover {\n",
              "      background-color: #434B5C;\n",
              "      box-shadow: 0px 1px 3px 1px rgba(0, 0, 0, 0.15);\n",
              "      filter: drop-shadow(0px 1px 2px rgba(0, 0, 0, 0.3));\n",
              "      fill: #FFFFFF;\n",
              "    }\n",
              "  </style>\n",
              "\n",
              "      <script>\n",
              "        const buttonEl =\n",
              "          document.querySelector('#df-e27d836a-5377-4bfa-aa8b-341a156da1e1 button.colab-df-convert');\n",
              "        buttonEl.style.display =\n",
              "          google.colab.kernel.accessAllowed ? 'block' : 'none';\n",
              "\n",
              "        async function convertToInteractive(key) {\n",
              "          const element = document.querySelector('#df-e27d836a-5377-4bfa-aa8b-341a156da1e1');\n",
              "          const dataTable =\n",
              "            await google.colab.kernel.invokeFunction('convertToInteractive',\n",
              "                                                     [key], {});\n",
              "          if (!dataTable) return;\n",
              "\n",
              "          const docLinkHtml = 'Like what you see? Visit the ' +\n",
              "            '<a target=\"_blank\" href=https://colab.research.google.com/notebooks/data_table.ipynb>data table notebook</a>'\n",
              "            + ' to learn more about interactive tables.';\n",
              "          element.innerHTML = '';\n",
              "          dataTable['output_type'] = 'display_data';\n",
              "          await google.colab.output.renderOutput(dataTable, element);\n",
              "          const docLink = document.createElement('div');\n",
              "          docLink.innerHTML = docLinkHtml;\n",
              "          element.appendChild(docLink);\n",
              "        }\n",
              "      </script>\n",
              "    </div>\n",
              "  </div>\n",
              "  "
            ]
          },
          "metadata": {},
          "execution_count": 142
        }
      ]
    },
    {
      "cell_type": "markdown",
      "source": [
        "### Tratando a coluna Policy_Sales_Channel"
      ],
      "metadata": {
        "id": "pyMYmOYttT5u"
      },
      "id": "pyMYmOYttT5u"
    },
    {
      "cell_type": "markdown",
      "source": [
        "- Geração de leads: estratégias para conquistar possíveis compradores\n",
        "\n",
        "[Materia exame](https://exame.com/invest/minhas-financas/como-escolher-a-melhor-franquia-para-o-seguro-do-seu-carro/)\n",
        "\n",
        "[Pesquisa feita pela seguradora](https://www.revistaapolice.com.br/2021/09/seguro-automovel-maioria-dos-brasileiros-acha-produto-caro-e-pouco-acessivel/)\n",
        "\n",
        "[O que é importante ter no seguro do automóvel?](https://www.seguroauto.org/importante-ter-no-seguro-de-automovel/)"
      ],
      "metadata": {
        "id": "AhmZgHzKtkgq"
      },
      "id": "AhmZgHzKtkgq"
    },
    {
      "cell_type": "code",
      "source": [
        "X_trat_channel = X_trat.copy()\n",
        "X_trat_channel.Policy_Sales_Channel.hist()"
      ],
      "metadata": {
        "colab": {
          "base_uri": "https://localhost:8080/",
          "height": 283
        },
        "id": "lIpWAX-Ltjc8",
        "outputId": "c554a515-bf39-4a77-cec3-2f8d38f543ae"
      },
      "id": "lIpWAX-Ltjc8",
      "execution_count": 171,
      "outputs": [
        {
          "output_type": "execute_result",
          "data": {
            "text/plain": [
              "<matplotlib.axes._subplots.AxesSubplot at 0x7f0fe5fa9cd0>"
            ]
          },
          "metadata": {},
          "execution_count": 171
        },
        {
          "output_type": "display_data",
          "data": {
            "text/plain": [
              "<Figure size 432x288 with 1 Axes>"
            ],
            "image/png": "[encoded data removed]"
          },
          "metadata": {
            "needs_background": "light"
          }
        }
      ]
    },
    {
      "cell_type": "code",
      "source": [
        ""
      ],
      "metadata": {
        "id": "zGVQ34vhP4FD"
      },
      "id": "zGVQ34vhP4FD",
      "execution_count": null,
      "outputs": []
    },
    {
      "cell_type": "code",
      "source": [
        "X_trat_channel.Policy_Sales_Channel.value_counts()"
      ],
      "metadata": {
        "colab": {
          "base_uri": "https://localhost:8080/"
        },
        "id": "m9nvn4H0P3EL",
        "outputId": "9c37baa2-bd1d-4113-ab05-4291716af156"
      },
      "id": "m9nvn4H0P3EL",
      "execution_count": 145,
      "outputs": [
        {
          "output_type": "execute_result",
          "data": {
            "text/plain": [
              "152.0    134784\n",
              "26.0      79700\n",
              "124.0     73995\n",
              "160.0     21779\n",
              "156.0     10661\n",
              "          ...  \n",
              "149.0         1\n",
              "43.0          1\n",
              "144.0         1\n",
              "143.0         1\n",
              "41.0          1\n",
              "Name: Policy_Sales_Channel, Length: 155, dtype: int64"
            ]
          },
          "metadata": {},
          "execution_count": 145
        }
      ]
    },
    {
      "cell_type": "code",
      "source": [
        "#Criando um mini-dicionario para alterar os valores de Policy_Sales_Channel\n",
        "X_trat_channel['channel']=\"\"\n",
        "X_trat_channel['channel'] = X_trat_channel['Policy_Sales_Channel'].map({152.0:'Corretor',\n",
        "                             26.0:'Corretor',\n",
        "                             124.0:'Telefone',\n",
        "                             160.0: 'Telefone',\n",
        "                             156.0: \"Outros\",\n",
        "                             \" \": \"outros\"},\n",
        "                             na_action=None)\n",
        "\n",
        "X_trat_channel.head()"
      ],
      "metadata": {
        "colab": {
          "base_uri": "https://localhost:8080/",
          "height": 270
        },
        "id": "YcxmsU8PPCZC",
        "outputId": "0bcd9834-fe28-4c6a-e74a-db62d7968b27"
      },
      "id": "YcxmsU8PPCZC",
      "execution_count": 172,
      "outputs": [
        {
          "output_type": "execute_result",
          "data": {
            "text/plain": [
              "   Gender  Age  Driving_License  Region_Code  Previously_Insured Vehicle_Age  \\\n",
              "0    Male   44                1         28.0                   0   > 2 Years   \n",
              "1    Male   76                1          3.0                   0    1-2 Year   \n",
              "2    Male   47                1         28.0                   0   > 2 Years   \n",
              "3    Male   21                1         11.0                   1    < 1 Year   \n",
              "4  Female   29                1         41.0                   1    < 1 Year   \n",
              "\n",
              "  Vehicle_Damage  Annual_Premium  Policy_Sales_Channel  Vintage  UF   channel  \n",
              "0            Yes         40454.0                  26.0      217  SP  Corretor  \n",
              "1             No         33536.0                  26.0      183  ES  Corretor  \n",
              "2            Yes         38294.0                  26.0       27  SP  Corretor  \n",
              "3             No         28619.0                 152.0      203  PR  Corretor  \n",
              "4             No         27496.0                 152.0       39  RJ  Corretor  "
            ],
            "text/html": [
              "\n",
              "  <div id=\"df-d9d905fe-dc95-4edc-b2c4-aa319d98a462\">\n",
              "    <div class=\"colab-df-container\">\n",
              "      <div>\n",
              "<style scoped>\n",
              "    .dataframe tbody tr th:only-of-type {\n",
              "        vertical-align: middle;\n",
              "    }\n",
              "\n",
              "    .dataframe tbody tr th {\n",
              "        vertical-align: top;\n",
              "    }\n",
              "\n",
              "    .dataframe thead th {\n",
              "        text-align: right;\n",
              "    }\n",
              "</style>\n",
              "<table border=\"1\" class=\"dataframe\">\n",
              "  <thead>\n",
              "    <tr style=\"text-align: right;\">\n",
              "      <th></th>\n",
              "      <th>Gender</th>\n",
              "      <th>Age</th>\n",
              "      <th>Driving_License</th>\n",
              "      <th>Region_Code</th>\n",
              "      <th>Previously_Insured</th>\n",
              "      <th>Vehicle_Age</th>\n",
              "      <th>Vehicle_Damage</th>\n",
              "      <th>Annual_Premium</th>\n",
              "      <th>Policy_Sales_Channel</th>\n",
              "      <th>Vintage</th>\n",
              "      <th>UF</th>\n",
              "      <th>channel</th>\n",
              "    </tr>\n",
              "  </thead>\n",
              "  <tbody>\n",
              "    <tr>\n",
              "      <th>0</th>\n",
              "      <td>Male</td>\n",
              "      <td>44</td>\n",
              "      <td>1</td>\n",
              "      <td>28.0</td>\n",
              "      <td>0</td>\n",
              "      <td>&gt; 2 Years</td>\n",
              "      <td>Yes</td>\n",
              "      <td>40454.0</td>\n",
              "      <td>26.0</td>\n",
              "      <td>217</td>\n",
              "      <td>SP</td>\n",
              "      <td>Corretor</td>\n",
              "    </tr>\n",
              "    <tr>\n",
              "      <th>1</th>\n",
              "      <td>Male</td>\n",
              "      <td>76</td>\n",
              "      <td>1</td>\n",
              "      <td>3.0</td>\n",
              "      <td>0</td>\n",
              "      <td>1-2 Year</td>\n",
              "      <td>No</td>\n",
              "      <td>33536.0</td>\n",
              "      <td>26.0</td>\n",
              "      <td>183</td>\n",
              "      <td>ES</td>\n",
              "      <td>Corretor</td>\n",
              "    </tr>\n",
              "    <tr>\n",
              "      <th>2</th>\n",
              "      <td>Male</td>\n",
              "      <td>47</td>\n",
              "      <td>1</td>\n",
              "      <td>28.0</td>\n",
              "      <td>0</td>\n",
              "      <td>&gt; 2 Years</td>\n",
              "      <td>Yes</td>\n",
              "      <td>38294.0</td>\n",
              "      <td>26.0</td>\n",
              "      <td>27</td>\n",
              "      <td>SP</td>\n",
              "      <td>Corretor</td>\n",
              "    </tr>\n",
              "    <tr>\n",
              "      <th>3</th>\n",
              "      <td>Male</td>\n",
              "      <td>21</td>\n",
              "      <td>1</td>\n",
              "      <td>11.0</td>\n",
              "      <td>1</td>\n",
              "      <td>&lt; 1 Year</td>\n",
              "      <td>No</td>\n",
              "      <td>28619.0</td>\n",
              "      <td>152.0</td>\n",
              "      <td>203</td>\n",
              "      <td>PR</td>\n",
              "      <td>Corretor</td>\n",
              "    </tr>\n",
              "    <tr>\n",
              "      <th>4</th>\n",
              "      <td>Female</td>\n",
              "      <td>29</td>\n",
              "      <td>1</td>\n",
              "      <td>41.0</td>\n",
              "      <td>1</td>\n",
              "      <td>&lt; 1 Year</td>\n",
              "      <td>No</td>\n",
              "      <td>27496.0</td>\n",
              "      <td>152.0</td>\n",
              "      <td>39</td>\n",
              "      <td>RJ</td>\n",
              "      <td>Corretor</td>\n",
              "    </tr>\n",
              "  </tbody>\n",
              "</table>\n",
              "</div>\n",
              "      <button class=\"colab-df-convert\" onclick=\"convertToInteractive('df-d9d905fe-dc95-4edc-b2c4-aa319d98a462')\"\n",
              "              title=\"Convert this dataframe to an interactive table.\"\n",
              "              style=\"display:none;\">\n",
              "        \n",
              "  <svg xmlns=\"http://www.w3.org/2000/svg\" height=\"24px\"viewBox=\"0 0 24 24\"\n",
              "       width=\"24px\">\n",
              "    <path d=\"M0 0h24v24H0V0z\" fill=\"none\"/>\n",
              "    <path d=\"M18.56 5.44l.94 2.06.94-2.06 2.06-.94-2.06-.94-.94-2.06-.94 2.06-2.06.94zm-11 1L8.5 8.5l.94-2.06 2.06-.94-2.06-.94L8.5 2.5l-.94 2.06-2.06.94zm10 10l.94 2.06.94-2.06 2.06-.94-2.06-.94-.94-2.06-.94 2.06-2.06.94z\"/><path d=\"M17.41 7.96l-1.37-1.37c-.4-.4-.92-.59-1.43-.59-.52 0-1.04.2-1.43.59L10.3 9.45l-7.72 7.72c-.78.78-.78 2.05 0 2.83L4 21.41c.39.39.9.59 1.41.59.51 0 1.02-.2 1.41-.59l7.78-7.78 2.81-2.81c.8-.78.8-2.07 0-2.86zM5.41 20L4 18.59l7.72-7.72 1.47 1.35L5.41 20z\"/>\n",
              "  </svg>\n",
              "      </button>\n",
              "      \n",
              "  <style>\n",
              "    .colab-df-container {\n",
              "      display:flex;\n",
              "      flex-wrap:wrap;\n",
              "      gap: 12px;\n",
              "    }\n",
              "\n",
              "    .colab-df-convert {\n",
              "      background-color: #E8F0FE;\n",
              "      border: none;\n",
              "      border-radius: 50%;\n",
              "      cursor: pointer;\n",
              "      display: none;\n",
              "      fill: #1967D2;\n",
              "      height: 32px;\n",
              "      padding: 0 0 0 0;\n",
              "      width: 32px;\n",
              "    }\n",
              "\n",
              "    .colab-df-convert:hover {\n",
              "      background-color: #E2EBFA;\n",
              "      box-shadow: 0px 1px 2px rgba(60, 64, 67, 0.3), 0px 1px 3px 1px rgba(60, 64, 67, 0.15);\n",
              "      fill: #174EA6;\n",
              "    }\n",
              "\n",
              "    [theme=dark] .colab-df-convert {\n",
              "      background-color: #3B4455;\n",
              "      fill: #D2E3FC;\n",
              "    }\n",
              "\n",
              "    [theme=dark] .colab-df-convert:hover {\n",
              "      background-color: #434B5C;\n",
              "      box-shadow: 0px 1px 3px 1px rgba(0, 0, 0, 0.15);\n",
              "      filter: drop-shadow(0px 1px 2px rgba(0, 0, 0, 0.3));\n",
              "      fill: #FFFFFF;\n",
              "    }\n",
              "  </style>\n",
              "\n",
              "      <script>\n",
              "        const buttonEl =\n",
              "          document.querySelector('#df-d9d905fe-dc95-4edc-b2c4-aa319d98a462 button.colab-df-convert');\n",
              "        buttonEl.style.display =\n",
              "          google.colab.kernel.accessAllowed ? 'block' : 'none';\n",
              "\n",
              "        async function convertToInteractive(key) {\n",
              "          const element = document.querySelector('#df-d9d905fe-dc95-4edc-b2c4-aa319d98a462');\n",
              "          const dataTable =\n",
              "            await google.colab.kernel.invokeFunction('convertToInteractive',\n",
              "                                                     [key], {});\n",
              "          if (!dataTable) return;\n",
              "\n",
              "          const docLinkHtml = 'Like what you see? Visit the ' +\n",
              "            '<a target=\"_blank\" href=https://colab.research.google.com/notebooks/data_table.ipynb>data table notebook</a>'\n",
              "            + ' to learn more about interactive tables.';\n",
              "          element.innerHTML = '';\n",
              "          dataTable['output_type'] = 'display_data';\n",
              "          await google.colab.output.renderOutput(dataTable, element);\n",
              "          const docLink = document.createElement('div');\n",
              "          docLink.innerHTML = docLinkHtml;\n",
              "          element.appendChild(docLink);\n",
              "        }\n",
              "      </script>\n",
              "    </div>\n",
              "  </div>\n",
              "  "
            ]
          },
          "metadata": {},
          "execution_count": 172
        }
      ]
    },
    {
      "cell_type": "code",
      "source": [
        "X_trat_channel.isnull().sum()"
      ],
      "metadata": {
        "colab": {
          "base_uri": "https://localhost:8080/"
        },
        "id": "uZ9qW8xOYikc",
        "outputId": "80598de8-8c55-4a45-ee10-d547f39d8558"
      },
      "id": "uZ9qW8xOYikc",
      "execution_count": 173,
      "outputs": [
        {
          "output_type": "execute_result",
          "data": {
            "text/plain": [
              "Gender                      0\n",
              "Age                         0\n",
              "Driving_License             0\n",
              "Region_Code                 0\n",
              "Previously_Insured          0\n",
              "Vehicle_Age                 0\n",
              "Vehicle_Damage              0\n",
              "Annual_Premium              0\n",
              "Policy_Sales_Channel        0\n",
              "Vintage                     0\n",
              "UF                          0\n",
              "channel                 60190\n",
              "dtype: int64"
            ]
          },
          "metadata": {},
          "execution_count": 173
        }
      ]
    },
    {
      "cell_type": "code",
      "source": [
        "#convertendo os valores nulos existentes como \"Outros\"\n",
        "# atribuindo o valor a variável nuls e com a função fillna, imputar os dados faltantes\n",
        "nulos = \"Internet\"\n",
        "X_trat_channel.update(X_trat_channel['channel'].fillna(nulos))\n",
        "X_trat_channel.isnull().sum()"
      ],
      "metadata": {
        "colab": {
          "base_uri": "https://localhost:8080/"
        },
        "id": "GPwshXAnUIXr",
        "outputId": "6b6e702b-3d82-40ac-8357-ac574a218e3d"
      },
      "id": "GPwshXAnUIXr",
      "execution_count": 174,
      "outputs": [
        {
          "output_type": "execute_result",
          "data": {
            "text/plain": [
              "Gender                  0\n",
              "Age                     0\n",
              "Driving_License         0\n",
              "Region_Code             0\n",
              "Previously_Insured      0\n",
              "Vehicle_Age             0\n",
              "Vehicle_Damage          0\n",
              "Annual_Premium          0\n",
              "Policy_Sales_Channel    0\n",
              "Vintage                 0\n",
              "UF                      0\n",
              "channel                 0\n",
              "dtype: int64"
            ]
          },
          "metadata": {},
          "execution_count": 174
        }
      ]
    },
    {
      "cell_type": "code",
      "source": [
        "sns.countplot(x='channel', data=X_trat_channel)"
      ],
      "metadata": {
        "colab": {
          "base_uri": "https://localhost:8080/",
          "height": 297
        },
        "id": "yc_lwiMqRTYM",
        "outputId": "9e9a6442-5504-4bf0-fa0e-6638000af8cd"
      },
      "id": "yc_lwiMqRTYM",
      "execution_count": 175,
      "outputs": [
        {
          "output_type": "execute_result",
          "data": {
            "text/plain": [
              "<matplotlib.axes._subplots.AxesSubplot at 0x7f0fe5ef5110>"
            ]
          },
          "metadata": {},
          "execution_count": 175
        },
        {
          "output_type": "display_data",
          "data": {
            "text/plain": [
              "<Figure size 432x288 with 1 Axes>"
            ],
            "image/png": "[encoded data removed]"
          },
          "metadata": {
            "needs_background": "light"
          }
        }
      ]
    },
    {
      "cell_type": "markdown",
      "source": [
        "## Excluindo as colunas tratadas"
      ],
      "metadata": {
        "id": "q7cPcfMBgU40"
      },
      "id": "q7cPcfMBgU40"
    },
    {
      "cell_type": "code",
      "source": [
        "X_trat_channel.drop([\"Region_Code\", \"Policy_Sales_Channel\"], axis=1, inplace=True)\n",
        "X_trat_channel.sample(1)"
      ],
      "metadata": {
        "colab": {
          "base_uri": "https://localhost:8080/",
          "height": 144
        },
        "id": "xNx_uTrjgScA",
        "outputId": "cd5f662f-b60a-4009-bbe8-45ee7ab3ef97"
      },
      "id": "xNx_uTrjgScA",
      "execution_count": 179,
      "outputs": [
        {
          "output_type": "execute_result",
          "data": {
            "text/plain": [
              "      Gender  Age  Driving_License  Previously_Insured Vehicle_Age  \\\n",
              "13226   Male   42                1                   0    1-2 Year   \n",
              "\n",
              "      Vehicle_Damage  Annual_Premium  Vintage  UF   channel  \n",
              "13226            Yes          2630.0      157  SP  Internet  "
            ],
            "text/html": [
              "\n",
              "  <div id=\"df-da830a13-e333-4642-85ed-cd28b878217b\">\n",
              "    <div class=\"colab-df-container\">\n",
              "      <div>\n",
              "<style scoped>\n",
              "    .dataframe tbody tr th:only-of-type {\n",
              "        vertical-align: middle;\n",
              "    }\n",
              "\n",
              "    .dataframe tbody tr th {\n",
              "        vertical-align: top;\n",
              "    }\n",
              "\n",
              "    .dataframe thead th {\n",
              "        text-align: right;\n",
              "    }\n",
              "</style>\n",
              "<table border=\"1\" class=\"dataframe\">\n",
              "  <thead>\n",
              "    <tr style=\"text-align: right;\">\n",
              "      <th></th>\n",
              "      <th>Gender</th>\n",
              "      <th>Age</th>\n",
              "      <th>Driving_License</th>\n",
              "      <th>Previously_Insured</th>\n",
              "      <th>Vehicle_Age</th>\n",
              "      <th>Vehicle_Damage</th>\n",
              "      <th>Annual_Premium</th>\n",
              "      <th>Vintage</th>\n",
              "      <th>UF</th>\n",
              "      <th>channel</th>\n",
              "    </tr>\n",
              "  </thead>\n",
              "  <tbody>\n",
              "    <tr>\n",
              "      <th>13226</th>\n",
              "      <td>Male</td>\n",
              "      <td>42</td>\n",
              "      <td>1</td>\n",
              "      <td>0</td>\n",
              "      <td>1-2 Year</td>\n",
              "      <td>Yes</td>\n",
              "      <td>2630.0</td>\n",
              "      <td>157</td>\n",
              "      <td>SP</td>\n",
              "      <td>Internet</td>\n",
              "    </tr>\n",
              "  </tbody>\n",
              "</table>\n",
              "</div>\n",
              "      <button class=\"colab-df-convert\" onclick=\"convertToInteractive('df-da830a13-e333-4642-85ed-cd28b878217b')\"\n",
              "              title=\"Convert this dataframe to an interactive table.\"\n",
              "              style=\"display:none;\">\n",
              "        \n",
              "  <svg xmlns=\"http://www.w3.org/2000/svg\" height=\"24px\"viewBox=\"0 0 24 24\"\n",
              "       width=\"24px\">\n",
              "    <path d=\"M0 0h24v24H0V0z\" fill=\"none\"/>\n",
              "    <path d=\"M18.56 5.44l.94 2.06.94-2.06 2.06-.94-2.06-.94-.94-2.06-.94 2.06-2.06.94zm-11 1L8.5 8.5l.94-2.06 2.06-.94-2.06-.94L8.5 2.5l-.94 2.06-2.06.94zm10 10l.94 2.06.94-2.06 2.06-.94-2.06-.94-.94-2.06-.94 2.06-2.06.94z\"/><path d=\"M17.41 7.96l-1.37-1.37c-.4-.4-.92-.59-1.43-.59-.52 0-1.04.2-1.43.59L10.3 9.45l-7.72 7.72c-.78.78-.78 2.05 0 2.83L4 21.41c.39.39.9.59 1.41.59.51 0 1.02-.2 1.41-.59l7.78-7.78 2.81-2.81c.8-.78.8-2.07 0-2.86zM5.41 20L4 18.59l7.72-7.72 1.47 1.35L5.41 20z\"/>\n",
              "  </svg>\n",
              "      </button>\n",
              "      \n",
              "  <style>\n",
              "    .colab-df-container {\n",
              "      display:flex;\n",
              "      flex-wrap:wrap;\n",
              "      gap: 12px;\n",
              "    }\n",
              "\n",
              "    .colab-df-convert {\n",
              "      background-color: #E8F0FE;\n",
              "      border: none;\n",
              "      border-radius: 50%;\n",
              "      cursor: pointer;\n",
              "      display: none;\n",
              "      fill: #1967D2;\n",
              "      height: 32px;\n",
              "      padding: 0 0 0 0;\n",
              "      width: 32px;\n",
              "    }\n",
              "\n",
              "    .colab-df-convert:hover {\n",
              "      background-color: #E2EBFA;\n",
              "      box-shadow: 0px 1px 2px rgba(60, 64, 67, 0.3), 0px 1px 3px 1px rgba(60, 64, 67, 0.15);\n",
              "      fill: #174EA6;\n",
              "    }\n",
              "\n",
              "    [theme=dark] .colab-df-convert {\n",
              "      background-color: #3B4455;\n",
              "      fill: #D2E3FC;\n",
              "    }\n",
              "\n",
              "    [theme=dark] .colab-df-convert:hover {\n",
              "      background-color: #434B5C;\n",
              "      box-shadow: 0px 1px 3px 1px rgba(0, 0, 0, 0.15);\n",
              "      filter: drop-shadow(0px 1px 2px rgba(0, 0, 0, 0.3));\n",
              "      fill: #FFFFFF;\n",
              "    }\n",
              "  </style>\n",
              "\n",
              "      <script>\n",
              "        const buttonEl =\n",
              "          document.querySelector('#df-da830a13-e333-4642-85ed-cd28b878217b button.colab-df-convert');\n",
              "        buttonEl.style.display =\n",
              "          google.colab.kernel.accessAllowed ? 'block' : 'none';\n",
              "\n",
              "        async function convertToInteractive(key) {\n",
              "          const element = document.querySelector('#df-da830a13-e333-4642-85ed-cd28b878217b');\n",
              "          const dataTable =\n",
              "            await google.colab.kernel.invokeFunction('convertToInteractive',\n",
              "                                                     [key], {});\n",
              "          if (!dataTable) return;\n",
              "\n",
              "          const docLinkHtml = 'Like what you see? Visit the ' +\n",
              "            '<a target=\"_blank\" href=https://colab.research.google.com/notebooks/data_table.ipynb>data table notebook</a>'\n",
              "            + ' to learn more about interactive tables.';\n",
              "          element.innerHTML = '';\n",
              "          dataTable['output_type'] = 'display_data';\n",
              "          await google.colab.output.renderOutput(dataTable, element);\n",
              "          const docLink = document.createElement('div');\n",
              "          docLink.innerHTML = docLinkHtml;\n",
              "          element.appendChild(docLink);\n",
              "        }\n",
              "      </script>\n",
              "    </div>\n",
              "  </div>\n",
              "  "
            ]
          },
          "metadata": {},
          "execution_count": 179
        }
      ]
    },
    {
      "cell_type": "markdown",
      "source": [
        "## Transfomando todas as colunas"
      ],
      "metadata": {
        "id": "wOQXNuhGuzYb"
      },
      "id": "wOQXNuhGuzYb"
    },
    {
      "cell_type": "code",
      "execution_count": 180,
      "id": "ddcfdad8",
      "metadata": {
        "id": "ddcfdad8",
        "colab": {
          "base_uri": "https://localhost:8080/"
        },
        "outputId": "cf003ecf-f727-42d5-8af3-a905fad88f13"
      },
      "outputs": [
        {
          "output_type": "execute_result",
          "data": {
            "text/plain": [
              "['Gender', 'Vehicle_Age', 'Vehicle_Damage', 'UF', 'channel']"
            ]
          },
          "metadata": {},
          "execution_count": 180
        }
      ],
      "source": [
        "#Separando as variáveis\n",
        "variaveis_categoricas = [coluna for coluna in X_trat_channel.columns if X_trat_channel[coluna].dtype.name == 'object']\n",
        "variaveis_categoricas"
      ]
    },
    {
      "cell_type": "code",
      "execution_count": 181,
      "id": "3cfc1153",
      "metadata": {
        "id": "3cfc1153",
        "colab": {
          "base_uri": "https://localhost:8080/"
        },
        "outputId": "2582427c-8e3f-47b9-a2c5-e515b5e786b6"
      },
      "outputs": [
        {
          "output_type": "execute_result",
          "data": {
            "text/plain": [
              "['Age', 'Driving_License', 'Previously_Insured', 'Annual_Premium', 'Vintage']"
            ]
          },
          "metadata": {},
          "execution_count": 181
        }
      ],
      "source": [
        "variaveis_numericas = [coluna for coluna in X_trat_channel.columns if coluna not in variaveis_categoricas]\n",
        "variaveis_numericas"
      ]
    },
    {
      "cell_type": "code",
      "execution_count": 183,
      "id": "8095ff6b",
      "metadata": {
        "id": "8095ff6b"
      },
      "outputs": [],
      "source": [
        "# Separando tratamento para colunas categóricas (imputer = tratar dados faltantes)\n",
        "pipeline_categoricas = Pipeline([\n",
        "    ('imputer', SimpleImputer(strategy='constant', fill_value='missing')),\n",
        "    ('encoder', OneHotEncoder(handle_unknown='ignore', sparse=False))\n",
        "])"
      ]
    },
    {
      "cell_type": "code",
      "execution_count": 184,
      "id": "c715effc",
      "metadata": {
        "id": "c715effc"
      },
      "outputs": [],
      "source": [
        "# Tratamento para numéricas\n",
        "pipeline_numericas = Pipeline([\n",
        "    ('imputer', SimpleImputer(strategy='median')),\n",
        "    ('scaler', MinMaxScaler())\n",
        "])"
      ]
    },
    {
      "cell_type": "code",
      "execution_count": 185,
      "id": "5b0b6f8c",
      "metadata": {
        "id": "5b0b6f8c"
      },
      "outputs": [],
      "source": [
        "# \n",
        "pre_processamento = ColumnTransformer([\n",
        "    ('cat', pipeline_categoricas, variaveis_categoricas),\n",
        "    ('num', pipeline_numericas, variaveis_numericas)\n",
        "])"
      ]
    },
    {
      "cell_type": "markdown",
      "source": [
        "### Separando os dados em treino e teste"
      ],
      "metadata": {
        "id": "5xpG9OAsyFvr"
      },
      "id": "5xpG9OAsyFvr"
    },
    {
      "cell_type": "code",
      "source": [
        "X_treino, X_teste, y_treino, y_teste = train_test_split(X_trat_channel, y)\n",
        "\n",
        "X_treino.shape, X_teste.shape, y_treino.shape, y_teste.shape"
      ],
      "metadata": {
        "colab": {
          "base_uri": "https://localhost:8080/"
        },
        "id": "CiVDe8ImhlWr",
        "outputId": "d3d2f751-78a1-4239-c105-726e5e7e7690"
      },
      "id": "CiVDe8ImhlWr",
      "execution_count": 187,
      "outputs": [
        {
          "output_type": "execute_result",
          "data": {
            "text/plain": [
              "((285831, 10), (95278, 10), (285831,), (95278,))"
            ]
          },
          "metadata": {},
          "execution_count": 187
        }
      ]
    },
    {
      "cell_type": "code",
      "execution_count": 188,
      "id": "f7d700cf",
      "metadata": {
        "id": "f7d700cf"
      },
      "outputs": [],
      "source": [
        "#Criando as pipelines\n",
        "pipeline_random_forest = make_pipeline(pre_processamento, RandomForestClassifier(random_state=42))\n",
        "pipeline_log_reg = make_pipeline(pre_processamento, LogisticRegression(random_state=42))\n",
        "pipeline_tree=make_pipeline(pre_processamento, tree.DecisionTreeClassifier(random_state=42))\n",
        "pipeline_svm = make_pipeline(pre_processamento, svm.SVC(random_state=42))"
      ]
    },
    {
      "cell_type": "code",
      "execution_count": 189,
      "id": "55db3b61",
      "metadata": {
        "id": "55db3b61",
        "colab": {
          "base_uri": "https://localhost:8080/"
        },
        "outputId": "2002eb78-f0f7-4f64-cb05-6c4ff89454e6"
      },
      "outputs": [
        {
          "output_type": "stream",
          "name": "stderr",
          "text": [
            "/usr/local/lib/python3.7/dist-packages/sklearn/linear_model/_logistic.py:818: ConvergenceWarning: lbfgs failed to converge (status=1):\n",
            "STOP: TOTAL NO. of ITERATIONS REACHED LIMIT.\n",
            "\n",
            "Increase the number of iterations (max_iter) or scale the data as shown in:\n",
            "    https://scikit-learn.org/stable/modules/preprocessing.html\n",
            "Please also refer to the documentation for alternative solver options:\n",
            "    https://scikit-learn.org/stable/modules/linear_model.html#logistic-regression\n",
            "  extra_warning_msg=_LOGISTIC_SOLVER_CONVERGENCE_MSG,\n",
            "/usr/local/lib/python3.7/dist-packages/sklearn/linear_model/_logistic.py:818: ConvergenceWarning: lbfgs failed to converge (status=1):\n",
            "STOP: TOTAL NO. of ITERATIONS REACHED LIMIT.\n",
            "\n",
            "Increase the number of iterations (max_iter) or scale the data as shown in:\n",
            "    https://scikit-learn.org/stable/modules/preprocessing.html\n",
            "Please also refer to the documentation for alternative solver options:\n",
            "    https://scikit-learn.org/stable/modules/linear_model.html#logistic-regression\n",
            "  extra_warning_msg=_LOGISTIC_SOLVER_CONVERGENCE_MSG,\n",
            "/usr/local/lib/python3.7/dist-packages/sklearn/linear_model/_logistic.py:818: ConvergenceWarning: lbfgs failed to converge (status=1):\n",
            "STOP: TOTAL NO. of ITERATIONS REACHED LIMIT.\n",
            "\n",
            "Increase the number of iterations (max_iter) or scale the data as shown in:\n",
            "    https://scikit-learn.org/stable/modules/preprocessing.html\n",
            "Please also refer to the documentation for alternative solver options:\n",
            "    https://scikit-learn.org/stable/modules/linear_model.html#logistic-regression\n",
            "  extra_warning_msg=_LOGISTIC_SOLVER_CONVERGENCE_MSG,\n",
            "/usr/local/lib/python3.7/dist-packages/sklearn/linear_model/_logistic.py:818: ConvergenceWarning: lbfgs failed to converge (status=1):\n",
            "STOP: TOTAL NO. of ITERATIONS REACHED LIMIT.\n",
            "\n",
            "Increase the number of iterations (max_iter) or scale the data as shown in:\n",
            "    https://scikit-learn.org/stable/modules/preprocessing.html\n",
            "Please also refer to the documentation for alternative solver options:\n",
            "    https://scikit-learn.org/stable/modules/linear_model.html#logistic-regression\n",
            "  extra_warning_msg=_LOGISTIC_SOLVER_CONVERGENCE_MSG,\n",
            "/usr/local/lib/python3.7/dist-packages/sklearn/linear_model/_logistic.py:818: ConvergenceWarning: lbfgs failed to converge (status=1):\n",
            "STOP: TOTAL NO. of ITERATIONS REACHED LIMIT.\n",
            "\n",
            "Increase the number of iterations (max_iter) or scale the data as shown in:\n",
            "    https://scikit-learn.org/stable/modules/preprocessing.html\n",
            "Please also refer to the documentation for alternative solver options:\n",
            "    https://scikit-learn.org/stable/modules/linear_model.html#logistic-regression\n",
            "  extra_warning_msg=_LOGISTIC_SOLVER_CONVERGENCE_MSG,\n",
            "/usr/local/lib/python3.7/dist-packages/sklearn/linear_model/_logistic.py:818: ConvergenceWarning: lbfgs failed to converge (status=1):\n",
            "STOP: TOTAL NO. of ITERATIONS REACHED LIMIT.\n",
            "\n",
            "Increase the number of iterations (max_iter) or scale the data as shown in:\n",
            "    https://scikit-learn.org/stable/modules/preprocessing.html\n",
            "Please also refer to the documentation for alternative solver options:\n",
            "    https://scikit-learn.org/stable/modules/linear_model.html#logistic-regression\n",
            "  extra_warning_msg=_LOGISTIC_SOLVER_CONVERGENCE_MSG,\n",
            "/usr/local/lib/python3.7/dist-packages/sklearn/linear_model/_logistic.py:818: ConvergenceWarning: lbfgs failed to converge (status=1):\n",
            "STOP: TOTAL NO. of ITERATIONS REACHED LIMIT.\n",
            "\n",
            "Increase the number of iterations (max_iter) or scale the data as shown in:\n",
            "    https://scikit-learn.org/stable/modules/preprocessing.html\n",
            "Please also refer to the documentation for alternative solver options:\n",
            "    https://scikit-learn.org/stable/modules/linear_model.html#logistic-regression\n",
            "  extra_warning_msg=_LOGISTIC_SOLVER_CONVERGENCE_MSG,\n",
            "/usr/local/lib/python3.7/dist-packages/sklearn/linear_model/_logistic.py:818: ConvergenceWarning: lbfgs failed to converge (status=1):\n",
            "STOP: TOTAL NO. of ITERATIONS REACHED LIMIT.\n",
            "\n",
            "Increase the number of iterations (max_iter) or scale the data as shown in:\n",
            "    https://scikit-learn.org/stable/modules/preprocessing.html\n",
            "Please also refer to the documentation for alternative solver options:\n",
            "    https://scikit-learn.org/stable/modules/linear_model.html#logistic-regression\n",
            "  extra_warning_msg=_LOGISTIC_SOLVER_CONVERGENCE_MSG,\n",
            "/usr/local/lib/python3.7/dist-packages/sklearn/linear_model/_logistic.py:818: ConvergenceWarning: lbfgs failed to converge (status=1):\n",
            "STOP: TOTAL NO. of ITERATIONS REACHED LIMIT.\n",
            "\n",
            "Increase the number of iterations (max_iter) or scale the data as shown in:\n",
            "    https://scikit-learn.org/stable/modules/preprocessing.html\n",
            "Please also refer to the documentation for alternative solver options:\n",
            "    https://scikit-learn.org/stable/modules/linear_model.html#logistic-regression\n",
            "  extra_warning_msg=_LOGISTIC_SOLVER_CONVERGENCE_MSG,\n",
            "/usr/local/lib/python3.7/dist-packages/sklearn/linear_model/_logistic.py:818: ConvergenceWarning: lbfgs failed to converge (status=1):\n",
            "STOP: TOTAL NO. of ITERATIONS REACHED LIMIT.\n",
            "\n",
            "Increase the number of iterations (max_iter) or scale the data as shown in:\n",
            "    https://scikit-learn.org/stable/modules/preprocessing.html\n",
            "Please also refer to the documentation for alternative solver options:\n",
            "    https://scikit-learn.org/stable/modules/linear_model.html#logistic-regression\n",
            "  extra_warning_msg=_LOGISTIC_SOLVER_CONVERGENCE_MSG,\n",
            "/usr/local/lib/python3.7/dist-packages/sklearn/linear_model/_logistic.py:818: ConvergenceWarning: lbfgs failed to converge (status=1):\n",
            "STOP: TOTAL NO. of ITERATIONS REACHED LIMIT.\n",
            "\n",
            "Increase the number of iterations (max_iter) or scale the data as shown in:\n",
            "    https://scikit-learn.org/stable/modules/preprocessing.html\n",
            "Please also refer to the documentation for alternative solver options:\n",
            "    https://scikit-learn.org/stable/modules/linear_model.html#logistic-regression\n",
            "  extra_warning_msg=_LOGISTIC_SOLVER_CONVERGENCE_MSG,\n",
            "/usr/local/lib/python3.7/dist-packages/sklearn/linear_model/_logistic.py:818: ConvergenceWarning: lbfgs failed to converge (status=1):\n",
            "STOP: TOTAL NO. of ITERATIONS REACHED LIMIT.\n",
            "\n",
            "Increase the number of iterations (max_iter) or scale the data as shown in:\n",
            "    https://scikit-learn.org/stable/modules/preprocessing.html\n",
            "Please also refer to the documentation for alternative solver options:\n",
            "    https://scikit-learn.org/stable/modules/linear_model.html#logistic-regression\n",
            "  extra_warning_msg=_LOGISTIC_SOLVER_CONVERGENCE_MSG,\n",
            "/usr/local/lib/python3.7/dist-packages/sklearn/linear_model/_logistic.py:818: ConvergenceWarning: lbfgs failed to converge (status=1):\n",
            "STOP: TOTAL NO. of ITERATIONS REACHED LIMIT.\n",
            "\n",
            "Increase the number of iterations (max_iter) or scale the data as shown in:\n",
            "    https://scikit-learn.org/stable/modules/preprocessing.html\n",
            "Please also refer to the documentation for alternative solver options:\n",
            "    https://scikit-learn.org/stable/modules/linear_model.html#logistic-regression\n",
            "  extra_warning_msg=_LOGISTIC_SOLVER_CONVERGENCE_MSG,\n",
            "/usr/local/lib/python3.7/dist-packages/sklearn/linear_model/_logistic.py:818: ConvergenceWarning: lbfgs failed to converge (status=1):\n",
            "STOP: TOTAL NO. of ITERATIONS REACHED LIMIT.\n",
            "\n",
            "Increase the number of iterations (max_iter) or scale the data as shown in:\n",
            "    https://scikit-learn.org/stable/modules/preprocessing.html\n",
            "Please also refer to the documentation for alternative solver options:\n",
            "    https://scikit-learn.org/stable/modules/linear_model.html#logistic-regression\n",
            "  extra_warning_msg=_LOGISTIC_SOLVER_CONVERGENCE_MSG,\n",
            "/usr/local/lib/python3.7/dist-packages/sklearn/linear_model/_logistic.py:818: ConvergenceWarning: lbfgs failed to converge (status=1):\n",
            "STOP: TOTAL NO. of ITERATIONS REACHED LIMIT.\n",
            "\n",
            "Increase the number of iterations (max_iter) or scale the data as shown in:\n",
            "    https://scikit-learn.org/stable/modules/preprocessing.html\n",
            "Please also refer to the documentation for alternative solver options:\n",
            "    https://scikit-learn.org/stable/modules/linear_model.html#logistic-regression\n",
            "  extra_warning_msg=_LOGISTIC_SOLVER_CONVERGENCE_MSG,\n",
            "/usr/local/lib/python3.7/dist-packages/sklearn/linear_model/_logistic.py:818: ConvergenceWarning: lbfgs failed to converge (status=1):\n",
            "STOP: TOTAL NO. of ITERATIONS REACHED LIMIT.\n",
            "\n",
            "Increase the number of iterations (max_iter) or scale the data as shown in:\n",
            "    https://scikit-learn.org/stable/modules/preprocessing.html\n",
            "Please also refer to the documentation for alternative solver options:\n",
            "    https://scikit-learn.org/stable/modules/linear_model.html#logistic-regression\n",
            "  extra_warning_msg=_LOGISTIC_SOLVER_CONVERGENCE_MSG,\n",
            "/usr/local/lib/python3.7/dist-packages/sklearn/linear_model/_logistic.py:818: ConvergenceWarning: lbfgs failed to converge (status=1):\n",
            "STOP: TOTAL NO. of ITERATIONS REACHED LIMIT.\n",
            "\n",
            "Increase the number of iterations (max_iter) or scale the data as shown in:\n",
            "    https://scikit-learn.org/stable/modules/preprocessing.html\n",
            "Please also refer to the documentation for alternative solver options:\n",
            "    https://scikit-learn.org/stable/modules/linear_model.html#logistic-regression\n",
            "  extra_warning_msg=_LOGISTIC_SOLVER_CONVERGENCE_MSG,\n",
            "/usr/local/lib/python3.7/dist-packages/sklearn/linear_model/_logistic.py:818: ConvergenceWarning: lbfgs failed to converge (status=1):\n",
            "STOP: TOTAL NO. of ITERATIONS REACHED LIMIT.\n",
            "\n",
            "Increase the number of iterations (max_iter) or scale the data as shown in:\n",
            "    https://scikit-learn.org/stable/modules/preprocessing.html\n",
            "Please also refer to the documentation for alternative solver options:\n",
            "    https://scikit-learn.org/stable/modules/linear_model.html#logistic-regression\n",
            "  extra_warning_msg=_LOGISTIC_SOLVER_CONVERGENCE_MSG,\n",
            "/usr/local/lib/python3.7/dist-packages/sklearn/linear_model/_logistic.py:818: ConvergenceWarning: lbfgs failed to converge (status=1):\n",
            "STOP: TOTAL NO. of ITERATIONS REACHED LIMIT.\n",
            "\n",
            "Increase the number of iterations (max_iter) or scale the data as shown in:\n",
            "    https://scikit-learn.org/stable/modules/preprocessing.html\n",
            "Please also refer to the documentation for alternative solver options:\n",
            "    https://scikit-learn.org/stable/modules/linear_model.html#logistic-regression\n",
            "  extra_warning_msg=_LOGISTIC_SOLVER_CONVERGENCE_MSG,\n",
            "/usr/local/lib/python3.7/dist-packages/sklearn/linear_model/_logistic.py:818: ConvergenceWarning: lbfgs failed to converge (status=1):\n",
            "STOP: TOTAL NO. of ITERATIONS REACHED LIMIT.\n",
            "\n",
            "Increase the number of iterations (max_iter) or scale the data as shown in:\n",
            "    https://scikit-learn.org/stable/modules/preprocessing.html\n",
            "Please also refer to the documentation for alternative solver options:\n",
            "    https://scikit-learn.org/stable/modules/linear_model.html#logistic-regression\n",
            "  extra_warning_msg=_LOGISTIC_SOLVER_CONVERGENCE_MSG,\n",
            "/usr/local/lib/python3.7/dist-packages/sklearn/linear_model/_logistic.py:818: ConvergenceWarning: lbfgs failed to converge (status=1):\n",
            "STOP: TOTAL NO. of ITERATIONS REACHED LIMIT.\n",
            "\n",
            "Increase the number of iterations (max_iter) or scale the data as shown in:\n",
            "    https://scikit-learn.org/stable/modules/preprocessing.html\n",
            "Please also refer to the documentation for alternative solver options:\n",
            "    https://scikit-learn.org/stable/modules/linear_model.html#logistic-regression\n",
            "  extra_warning_msg=_LOGISTIC_SOLVER_CONVERGENCE_MSG,\n",
            "/usr/local/lib/python3.7/dist-packages/sklearn/linear_model/_logistic.py:818: ConvergenceWarning: lbfgs failed to converge (status=1):\n",
            "STOP: TOTAL NO. of ITERATIONS REACHED LIMIT.\n",
            "\n",
            "Increase the number of iterations (max_iter) or scale the data as shown in:\n",
            "    https://scikit-learn.org/stable/modules/preprocessing.html\n",
            "Please also refer to the documentation for alternative solver options:\n",
            "    https://scikit-learn.org/stable/modules/linear_model.html#logistic-regression\n",
            "  extra_warning_msg=_LOGISTIC_SOLVER_CONVERGENCE_MSG,\n",
            "/usr/local/lib/python3.7/dist-packages/sklearn/linear_model/_logistic.py:818: ConvergenceWarning: lbfgs failed to converge (status=1):\n",
            "STOP: TOTAL NO. of ITERATIONS REACHED LIMIT.\n",
            "\n",
            "Increase the number of iterations (max_iter) or scale the data as shown in:\n",
            "    https://scikit-learn.org/stable/modules/preprocessing.html\n",
            "Please also refer to the documentation for alternative solver options:\n",
            "    https://scikit-learn.org/stable/modules/linear_model.html#logistic-regression\n",
            "  extra_warning_msg=_LOGISTIC_SOLVER_CONVERGENCE_MSG,\n",
            "/usr/local/lib/python3.7/dist-packages/sklearn/linear_model/_logistic.py:818: ConvergenceWarning: lbfgs failed to converge (status=1):\n",
            "STOP: TOTAL NO. of ITERATIONS REACHED LIMIT.\n",
            "\n",
            "Increase the number of iterations (max_iter) or scale the data as shown in:\n",
            "    https://scikit-learn.org/stable/modules/preprocessing.html\n",
            "Please also refer to the documentation for alternative solver options:\n",
            "    https://scikit-learn.org/stable/modules/linear_model.html#logistic-regression\n",
            "  extra_warning_msg=_LOGISTIC_SOLVER_CONVERGENCE_MSG,\n",
            "/usr/local/lib/python3.7/dist-packages/sklearn/linear_model/_logistic.py:818: ConvergenceWarning: lbfgs failed to converge (status=1):\n",
            "STOP: TOTAL NO. of ITERATIONS REACHED LIMIT.\n",
            "\n",
            "Increase the number of iterations (max_iter) or scale the data as shown in:\n",
            "    https://scikit-learn.org/stable/modules/preprocessing.html\n",
            "Please also refer to the documentation for alternative solver options:\n",
            "    https://scikit-learn.org/stable/modules/linear_model.html#logistic-regression\n",
            "  extra_warning_msg=_LOGISTIC_SOLVER_CONVERGENCE_MSG,\n",
            "/usr/local/lib/python3.7/dist-packages/sklearn/linear_model/_logistic.py:818: ConvergenceWarning: lbfgs failed to converge (status=1):\n",
            "STOP: TOTAL NO. of ITERATIONS REACHED LIMIT.\n",
            "\n",
            "Increase the number of iterations (max_iter) or scale the data as shown in:\n",
            "    https://scikit-learn.org/stable/modules/preprocessing.html\n",
            "Please also refer to the documentation for alternative solver options:\n",
            "    https://scikit-learn.org/stable/modules/linear_model.html#logistic-regression\n",
            "  extra_warning_msg=_LOGISTIC_SOLVER_CONVERGENCE_MSG,\n",
            "/usr/local/lib/python3.7/dist-packages/sklearn/linear_model/_logistic.py:818: ConvergenceWarning: lbfgs failed to converge (status=1):\n",
            "STOP: TOTAL NO. of ITERATIONS REACHED LIMIT.\n",
            "\n",
            "Increase the number of iterations (max_iter) or scale the data as shown in:\n",
            "    https://scikit-learn.org/stable/modules/preprocessing.html\n",
            "Please also refer to the documentation for alternative solver options:\n",
            "    https://scikit-learn.org/stable/modules/linear_model.html#logistic-regression\n",
            "  extra_warning_msg=_LOGISTIC_SOLVER_CONVERGENCE_MSG,\n",
            "/usr/local/lib/python3.7/dist-packages/sklearn/linear_model/_logistic.py:818: ConvergenceWarning: lbfgs failed to converge (status=1):\n",
            "STOP: TOTAL NO. of ITERATIONS REACHED LIMIT.\n",
            "\n",
            "Increase the number of iterations (max_iter) or scale the data as shown in:\n",
            "    https://scikit-learn.org/stable/modules/preprocessing.html\n",
            "Please also refer to the documentation for alternative solver options:\n",
            "    https://scikit-learn.org/stable/modules/linear_model.html#logistic-regression\n",
            "  extra_warning_msg=_LOGISTIC_SOLVER_CONVERGENCE_MSG,\n",
            "/usr/local/lib/python3.7/dist-packages/sklearn/linear_model/_logistic.py:818: ConvergenceWarning: lbfgs failed to converge (status=1):\n",
            "STOP: TOTAL NO. of ITERATIONS REACHED LIMIT.\n",
            "\n",
            "Increase the number of iterations (max_iter) or scale the data as shown in:\n",
            "    https://scikit-learn.org/stable/modules/preprocessing.html\n",
            "Please also refer to the documentation for alternative solver options:\n",
            "    https://scikit-learn.org/stable/modules/linear_model.html#logistic-regression\n",
            "  extra_warning_msg=_LOGISTIC_SOLVER_CONVERGENCE_MSG,\n",
            "/usr/local/lib/python3.7/dist-packages/sklearn/linear_model/_logistic.py:818: ConvergenceWarning: lbfgs failed to converge (status=1):\n",
            "STOP: TOTAL NO. of ITERATIONS REACHED LIMIT.\n",
            "\n",
            "Increase the number of iterations (max_iter) or scale the data as shown in:\n",
            "    https://scikit-learn.org/stable/modules/preprocessing.html\n",
            "Please also refer to the documentation for alternative solver options:\n",
            "    https://scikit-learn.org/stable/modules/linear_model.html#logistic-regression\n",
            "  extra_warning_msg=_LOGISTIC_SOLVER_CONVERGENCE_MSG,\n",
            "/usr/local/lib/python3.7/dist-packages/sklearn/linear_model/_logistic.py:818: ConvergenceWarning: lbfgs failed to converge (status=1):\n",
            "STOP: TOTAL NO. of ITERATIONS REACHED LIMIT.\n",
            "\n",
            "Increase the number of iterations (max_iter) or scale the data as shown in:\n",
            "    https://scikit-learn.org/stable/modules/preprocessing.html\n",
            "Please also refer to the documentation for alternative solver options:\n",
            "    https://scikit-learn.org/stable/modules/linear_model.html#logistic-regression\n",
            "  extra_warning_msg=_LOGISTIC_SOLVER_CONVERGENCE_MSG,\n",
            "/usr/local/lib/python3.7/dist-packages/sklearn/linear_model/_logistic.py:818: ConvergenceWarning: lbfgs failed to converge (status=1):\n",
            "STOP: TOTAL NO. of ITERATIONS REACHED LIMIT.\n",
            "\n",
            "Increase the number of iterations (max_iter) or scale the data as shown in:\n",
            "    https://scikit-learn.org/stable/modules/preprocessing.html\n",
            "Please also refer to the documentation for alternative solver options:\n",
            "    https://scikit-learn.org/stable/modules/linear_model.html#logistic-regression\n",
            "  extra_warning_msg=_LOGISTIC_SOLVER_CONVERGENCE_MSG,\n",
            "/usr/local/lib/python3.7/dist-packages/sklearn/linear_model/_logistic.py:818: ConvergenceWarning: lbfgs failed to converge (status=1):\n",
            "STOP: TOTAL NO. of ITERATIONS REACHED LIMIT.\n",
            "\n",
            "Increase the number of iterations (max_iter) or scale the data as shown in:\n",
            "    https://scikit-learn.org/stable/modules/preprocessing.html\n",
            "Please also refer to the documentation for alternative solver options:\n",
            "    https://scikit-learn.org/stable/modules/linear_model.html#logistic-regression\n",
            "  extra_warning_msg=_LOGISTIC_SOLVER_CONVERGENCE_MSG,\n",
            "/usr/local/lib/python3.7/dist-packages/sklearn/linear_model/_logistic.py:818: ConvergenceWarning: lbfgs failed to converge (status=1):\n",
            "STOP: TOTAL NO. of ITERATIONS REACHED LIMIT.\n",
            "\n",
            "Increase the number of iterations (max_iter) or scale the data as shown in:\n",
            "    https://scikit-learn.org/stable/modules/preprocessing.html\n",
            "Please also refer to the documentation for alternative solver options:\n",
            "    https://scikit-learn.org/stable/modules/linear_model.html#logistic-regression\n",
            "  extra_warning_msg=_LOGISTIC_SOLVER_CONVERGENCE_MSG,\n",
            "/usr/local/lib/python3.7/dist-packages/sklearn/linear_model/_logistic.py:818: ConvergenceWarning: lbfgs failed to converge (status=1):\n",
            "STOP: TOTAL NO. of ITERATIONS REACHED LIMIT.\n",
            "\n",
            "Increase the number of iterations (max_iter) or scale the data as shown in:\n",
            "    https://scikit-learn.org/stable/modules/preprocessing.html\n",
            "Please also refer to the documentation for alternative solver options:\n",
            "    https://scikit-learn.org/stable/modules/linear_model.html#logistic-regression\n",
            "  extra_warning_msg=_LOGISTIC_SOLVER_CONVERGENCE_MSG,\n",
            "/usr/local/lib/python3.7/dist-packages/sklearn/linear_model/_logistic.py:818: ConvergenceWarning: lbfgs failed to converge (status=1):\n",
            "STOP: TOTAL NO. of ITERATIONS REACHED LIMIT.\n",
            "\n",
            "Increase the number of iterations (max_iter) or scale the data as shown in:\n",
            "    https://scikit-learn.org/stable/modules/preprocessing.html\n",
            "Please also refer to the documentation for alternative solver options:\n",
            "    https://scikit-learn.org/stable/modules/linear_model.html#logistic-regression\n",
            "  extra_warning_msg=_LOGISTIC_SOLVER_CONVERGENCE_MSG,\n",
            "/usr/local/lib/python3.7/dist-packages/sklearn/linear_model/_logistic.py:818: ConvergenceWarning: lbfgs failed to converge (status=1):\n",
            "STOP: TOTAL NO. of ITERATIONS REACHED LIMIT.\n",
            "\n",
            "Increase the number of iterations (max_iter) or scale the data as shown in:\n",
            "    https://scikit-learn.org/stable/modules/preprocessing.html\n",
            "Please also refer to the documentation for alternative solver options:\n",
            "    https://scikit-learn.org/stable/modules/linear_model.html#logistic-regression\n",
            "  extra_warning_msg=_LOGISTIC_SOLVER_CONVERGENCE_MSG,\n"
          ]
        },
        {
          "output_type": "stream",
          "name": "stdout",
          "text": [
            "Best cross-validation score: 0.88\n",
            "Best parameters:\n",
            "{'logisticregression__C': 0.001}\n"
          ]
        }
      ],
      "source": [
        "#Estudando com o gridsearch para regressao logistica\n",
        "\n",
        "param_grid = {\"logisticregression__C\": [0.001, 0.01, 0.1, 1, 10, 100]}\n",
        "grid = GridSearchCV(pipeline_log_reg, param_grid, cv=10)\n",
        "grid.fit(X_treino, y_treino)\n",
        "print(\"Best cross-validation score: {:.2f}\".format(grid.best_score_))\n",
        "print(\"Best parameters:\\n{}\".format(grid.best_params_))\n"
      ]
    },
    {
      "cell_type": "code",
      "execution_count": null,
      "id": "d4802506",
      "metadata": {
        "id": "d4802506"
      },
      "outputs": [],
      "source": [
        ""
      ]
    },
    {
      "cell_type": "markdown",
      "id": "b3409fd5",
      "metadata": {
        "id": "b3409fd5"
      },
      "source": [
        "## Testando os modelos preditivos"
      ]
    },
    {
      "cell_type": "code",
      "execution_count": 192,
      "id": "7c388df0",
      "metadata": {
        "id": "7c388df0",
        "colab": {
          "base_uri": "https://localhost:8080/"
        },
        "outputId": "ac224b28-ab92-4719-d718-18e381d414a0"
      },
      "outputs": [
        {
          "output_type": "execute_result",
          "data": {
            "text/plain": [
              "0.8631163542475703"
            ]
          },
          "metadata": {},
          "execution_count": 192
        }
      ],
      "source": [
        "#Rodando o modelo Random Forest\n",
        "pipeline_random_forest.fit(X_treino, y_treino)\n",
        "pipeline_random_forest.score(X_teste, y_teste)"
      ]
    },
    {
      "cell_type": "code",
      "execution_count": 190,
      "id": "08bd938c",
      "metadata": {
        "id": "08bd938c",
        "colab": {
          "base_uri": "https://localhost:8080/"
        },
        "outputId": "81f05634-a50a-4319-e4f0-6619fa0ac1d9"
      },
      "outputs": [
        {
          "output_type": "stream",
          "name": "stderr",
          "text": [
            "/usr/local/lib/python3.7/dist-packages/sklearn/linear_model/_logistic.py:818: ConvergenceWarning: lbfgs failed to converge (status=1):\n",
            "STOP: TOTAL NO. of ITERATIONS REACHED LIMIT.\n",
            "\n",
            "Increase the number of iterations (max_iter) or scale the data as shown in:\n",
            "    https://scikit-learn.org/stable/modules/preprocessing.html\n",
            "Please also refer to the documentation for alternative solver options:\n",
            "    https://scikit-learn.org/stable/modules/linear_model.html#logistic-regression\n",
            "  extra_warning_msg=_LOGISTIC_SOLVER_CONVERGENCE_MSG,\n"
          ]
        },
        {
          "output_type": "execute_result",
          "data": {
            "text/plain": [
              "0.8787128193287013"
            ]
          },
          "metadata": {},
          "execution_count": 190
        }
      ],
      "source": [
        "#Rodando o modelo Regressão Logística\n",
        "pipeline_log_reg.fit(X_treino, y_treino)\n",
        "pipeline_log_reg.score(X_teste, y_teste)"
      ]
    },
    {
      "cell_type": "code",
      "execution_count": 191,
      "id": "b062b1ef",
      "metadata": {
        "id": "b062b1ef",
        "colab": {
          "base_uri": "https://localhost:8080/"
        },
        "outputId": "11b4677c-3a92-4f2e-e252-68da9e6d7330"
      },
      "outputs": [
        {
          "output_type": "execute_result",
          "data": {
            "text/plain": [
              "0.8220890446902748"
            ]
          },
          "metadata": {},
          "execution_count": 191
        }
      ],
      "source": [
        "#Rodando o modelo Decision Tree\n",
        "pipeline_tree.fit(X_treino, y_treino)\n",
        "pipeline_tree.score(X_teste, y_teste)"
      ]
    },
    {
      "cell_type": "code",
      "execution_count": null,
      "id": "fbcc4b84",
      "metadata": {
        "id": "fbcc4b84"
      },
      "outputs": [],
      "source": [
        "#Rodando o modelo SVM\n",
        "# nem rodou aqui...\n",
        "\n",
        "pipeline_svm.fit(X_treino, y_treino)\n",
        "pipeline_svm.score(X_teste, y_teste)"
      ]
    },
    {
      "cell_type": "markdown",
      "id": "3c109ac2",
      "metadata": {
        "id": "3c109ac2"
      },
      "source": [
        "## Utilizando o cross validation"
      ]
    },
    {
      "cell_type": "code",
      "execution_count": null,
      "id": "d7eb452f",
      "metadata": {
        "id": "d7eb452f"
      },
      "outputs": [],
      "source": [
        "validacao_cruzada = KFold(n_splits=10, shuffle=True, random_state=42)\n",
        "validacao_cruzada"
      ]
    },
    {
      "cell_type": "code",
      "execution_count": null,
      "id": "624573cc",
      "metadata": {
        "id": "624573cc"
      },
      "outputs": [],
      "source": [
        "#Verificando a acurácia média do Random Forest\n",
        "acuracia_media_rf = cross_val_score(pipeline_random_forest, X, y, cv=validacao_cruzada).mean()\n",
        "acuracia_media_rf"
      ]
    },
    {
      "cell_type": "code",
      "execution_count": null,
      "id": "a1e4a902",
      "metadata": {
        "id": "a1e4a902"
      },
      "outputs": [],
      "source": [
        "#Verificando a acurácia média da Regressão Linear\n",
        "acuracia_media_Lr= cross_val_score(pipeline_log_reg, X,y, cv=validacao_cruzada).mean()\n",
        "acuracia_media_Lr"
      ]
    },
    {
      "cell_type": "code",
      "execution_count": null,
      "id": "f013d51d",
      "metadata": {
        "id": "f013d51d"
      },
      "outputs": [],
      "source": [
        "#Verificando a acurácia média do Decisiom Tree\n",
        "acuracia_media_tree= cross_val_score(pipeline_tree, X,y, cv=validacao_cruzada).mean()\n",
        "acuracia_media_tree"
      ]
    },
    {
      "cell_type": "code",
      "execution_count": null,
      "id": "3c6fea6d",
      "metadata": {
        "id": "3c6fea6d"
      },
      "outputs": [],
      "source": [
        "#Verificando a acurácia média do SVM\n",
        "acuracia_media_svm= cross_val_score(pipeline_svm, X,y, cv=validacao_cruzada).mean()"
      ]
    },
    {
      "cell_type": "markdown",
      "id": "599abd28",
      "metadata": {
        "id": "599abd28"
      },
      "source": [
        "# Apresentação do resultado"
      ]
    },
    {
      "cell_type": "code",
      "execution_count": null,
      "id": "7da57a3b",
      "metadata": {
        "id": "7da57a3b"
      },
      "outputs": [],
      "source": [
        ""
      ]
    }
  ],
  "metadata": {
    "kernelspec": {
      "display_name": "conda_python3",
      "language": "python",
      "name": "conda_python3"
    },
    "language_info": {
      "codemirror_mode": {
        "name": "ipython",
        "version": 3
      },
      "file_extension": ".py",
      "mimetype": "text/x-python",
      "name": "python",
      "nbconvert_exporter": "python",
      "pygments_lexer": "ipython3",
      "version": "3.6.13"
    },
    "colab": {
      "name": "Koalas_Alto_e_Avante.ipynb",
      "provenance": [],
      "collapsed_sections": [
        "23515603",
        "63b13de9",
        "1d28c1e2",
        "6188f006",
        "7096f65e",
        "a06ceb8c",
        "5c3db845",
        "2b668d3e",
        "aadf26a5",
        "4db055e3",
        "6918146c",
        "271dc1fa"
      ],
      "toc_visible": true
    }
  },
  "nbformat": 4,
  "nbformat_minor": 5
}